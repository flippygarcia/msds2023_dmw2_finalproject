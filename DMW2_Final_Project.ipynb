{
 "cells": [
  {
   "cell_type": "code",
   "execution_count": 1,
   "id": "a2591f1b",
   "metadata": {
    "ExecuteTime": {
     "end_time": "2023-03-12T10:15:34.221519Z",
     "start_time": "2023-03-12T10:15:34.207894Z"
    }
   },
   "outputs": [
    {
     "data": {
      "text/html": [
       "\n",
       "<script src=\"https://cdnjs.cloudflare.com/ajax/libs/jquery/2.0.3/jquery.min.\n",
       "js\"></script>\n",
       "<script>\n",
       "code_show=true;\n",
       "function code_toggle() {\n",
       "if (code_show){\n",
       "$('div.jp-CodeCell > div.jp-Cell-inputWrapper').hide();\n",
       "} else {\n",
       "$('div.jp-CodeCell > div.jp-Cell-inputWrapper').show();\n",
       "}\n",
       "code_show = !code_show\n",
       "}\n",
       "$( document ).ready(code_toggle);\n",
       "</script>\n",
       "<form action=\"javascript:code_toggle()\"><input type=\"submit\" \n",
       "value=\"Click here to toggle on/off the raw code.\"></form>\n"
      ],
      "text/plain": [
       "<IPython.core.display.HTML object>"
      ]
     },
     "execution_count": 1,
     "metadata": {},
     "output_type": "execute_result"
    }
   ],
   "source": [
    "from IPython.display import HTML\n",
    "HTML('''\n",
    "<script src=\"https://cdnjs.cloudflare.com/ajax/libs/jquery/2.0.3/jquery.min.\n",
    "js\"></script>\n",
    "<script>\n",
    "code_show=true;\n",
    "function code_toggle() {\n",
    "if (code_show){\n",
    "$('div.jp-CodeCell > div.jp-Cell-inputWrapper').hide();\n",
    "} else {\n",
    "$('div.jp-CodeCell > div.jp-Cell-inputWrapper').show();\n",
    "}\n",
    "code_show = !code_show\n",
    "}\n",
    "$( document ).ready(code_toggle);\n",
    "</script>\n",
    "<form action=\"javascript:code_toggle()\"><input type=\"submit\" \n",
    "value=\"Click here to toggle on/off the raw code.\"></form>\n",
    "''')"
   ]
  },
  {
   "cell_type": "code",
   "execution_count": 2,
   "id": "f9b04a79",
   "metadata": {
    "ExecuteTime": {
     "end_time": "2023-03-12T10:15:34.230529Z",
     "start_time": "2023-03-12T10:15:34.223791Z"
    }
   },
   "outputs": [
    {
     "data": {
      "text/html": [
       "\n",
       "<style>\n",
       ".output_png {\n",
       "    display: table-cell;\n",
       "    text-align: center;\n",
       "    vertical-align: middle;\n",
       "}\n",
       "</style>\n"
      ],
      "text/plain": [
       "<IPython.core.display.HTML object>"
      ]
     },
     "execution_count": 2,
     "metadata": {},
     "output_type": "execute_result"
    }
   ],
   "source": [
    "from IPython.core.display import HTML\n",
    "HTML(\"\"\"\n",
    "<style>\n",
    ".output_png {\n",
    "    display: table-cell;\n",
    "    text-align: center;\n",
    "    vertical-align: middle;\n",
    "}\n",
    "</style>\n",
    "\"\"\")"
   ]
  },
  {
   "cell_type": "markdown",
   "id": "56f12f89",
   "metadata": {},
   "source": [
    "<h1 style=\"background-color:#B81D24; color:#F5F5F1; padding: 20px;\">Title</h1>"
   ]
  },
  {
   "cell_type": "markdown",
   "id": "e67fb4dc",
   "metadata": {},
   "source": [
    "<center id=\"DMW2_Final_Project\"><img src=\"./DMW2_FinalProject_Banner.jpg\" width=\"100%\" height=\"100%\"></center>\n",
    "<center>Image 01. Project Title Banner.</center>"
   ]
  },
  {
   "cell_type": "markdown",
   "id": "c12aca93",
   "metadata": {},
   "source": [
    "<h1 style=\"background-color:#B81D24; color:#F5F5F1; padding: 20px;\">Executive Summary</h1>"
   ]
  },
  {
   "cell_type": "markdown",
   "id": "7d62ee21",
   "metadata": {},
   "source": [
    "This project aims to understand a user’s movie recommendations based on their rating history and genre preferences.  This knowledge can bring business value to both the user and the creator of movies. The outcome of this study can help recommend the user’s next movie to watch. With sufficient data and user recommendations, the system can help determine the next big blockbuster based on the preferences and user ratings of the people.\n",
    "\n",
    "For this study, the team uses the Movielens dataset with user ratings of various movies from the 1900s until 2018.  The dataset is split into multiple CSV files, such as movies.csv, tags.csv, links.csv, and ratings.csv. After initial data collection and Exploratory Data Analysis, the team performed Dimensionality Reduction, Data Clustering, and Frequent Itemset Mining. Lastly, the team developed a recommender system using Neighboord-based Collaborative Filtering, Latent Factor Collaborative Filtering, and Content-Based.\n",
    "\n",
    "With dimensionality reduction, the team transformed the data using Singular Value Decomposition (SVD). Then, user clustering by K-Means was used to cluster the data into different groups, such as lightweight and heavyweight. The team also used K-Means on the completed matrix using Coordinate Gradient Descent (CGD) to cluster groups such as Enthusiastic and Disappointed, with average ratings of 4.22 and 2.56, respectively. To determine which genre pairs have the highest rating or highest lift, the team used Frequent Itemset Mining. After various data processes were concluded, the team developed recommender system user profiles. These profiles show the user’s number of reviews, average rating, and liked genres.\n",
    "\n",
    "To summarize our findings, the team used a validation matrix to have a side-by-side picture of each recommender system with the DCG and NDCG. Finally, the team concluded that there is no best recommender system as this study showed a specific use case applicable to each algorithm. As such, there is room for improvement as improving the item profile content-based would be the most appropriate for this particular used case."
   ]
  },
  {
   "cell_type": "markdown",
   "id": "3c848140",
   "metadata": {},
   "source": [
    "<h1 style=\"background-color:#B81D24; color:#F5F5F1; padding: 20px;\">Problem Statement</h1>"
   ]
  },
  {
   "cell_type": "markdown",
   "id": "9dee2fbc",
   "metadata": {},
   "source": [
    "How can we use a viewer's rating history and similar users' genre preferences to recommend new movies tailored to their tastes?"
   ]
  },
  {
   "cell_type": "markdown",
   "id": "dd2e0138",
   "metadata": {},
   "source": [
    "<h1 style=\"background-color:#B81D24; color:#F5F5F1; padding: 20px;\">Motivation</h1>"
   ]
  },
  {
   "cell_type": "markdown",
   "id": "d943d825",
   "metadata": {},
   "source": [
    "Before machine learning and artificial intelligence, how do we select which movie to watch next? We will likely pick one whose trailer we came across that seems interesting, turn to our friends and colleagues for suggestions, or maybe take a chance at a stranger's recommendation. Whose recommendation would you likely rate high?\n",
    "\n",
    "It all goes back to the user, what we know of him, and his preferences. The algorithm behind a recommendation system depends on how we want to suggest it to a user. For example, the system can be designed to recommend based on the user's historical preference. Another approach can be designed to encourage users to explore new genres.\n",
    "\n",
    "ReelTalk seeks to provide insight into how filtering and similarity methods affect the outcome of a recommendation system."
   ]
  },
  {
   "cell_type": "markdown",
   "id": "2bf33065",
   "metadata": {},
   "source": [
    "<h1 style=\"background-color:#B81D24; color:#F5F5F1; padding: 20px;\">Data Source</h1>"
   ]
  },
  {
   "cell_type": "markdown",
   "id": "160ec722",
   "metadata": {},
   "source": [
    "***\n",
    "<h2 style=\"color:#E50914\">Data Description</h2>\n",
    "\n",
    "***"
   ]
  },
  {
   "cell_type": "markdown",
   "id": "70f3d25d",
   "metadata": {},
   "source": [
    "The MovieLens dataset is publicly available at GroupLens.org.[[1]](http://grouplens.org/datasets/) The dataset, ml-small-latest, particularly used for this project, contains `100836 ratings` and `3683 tags` across `9742 movies`. This is a subset from the entire MovieLens dataset where users who rated at least 20 movies were randomly selected. Each user was assigned an ID, and no further information about the user was disclosed. Included in the dataset are movies with at least one rating or tag. In addition, an ID represents the movies, and the movie title and genre are available information.\n",
    "\n",
    "The dataset is located in separate CSVs. This notebook includes a python notebook to collate all datasets into a single SQL database.\n",
    "\n",
    "<br><center>Table 01. Data Features, Description and Type.</center>\n",
    "<table style=\"width:100%\">\n",
    "    <tr style=\"background-color:#7B7C7C; color:#F5F5F1\">\n",
    "      <th style=\"width:15%; text-align:center\">Variable Name</th>\n",
    "      <th style=\"width:70%; text-align:center\" >Data Description</th>\n",
    "      <th style=\"width:10%; text-align:center\">Data Type</th>\n",
    "    </tr>\n",
    "    <tr>\n",
    "        <td style=\"text-align:left\">movieId</td>\n",
    "        <td style=\"text-align:left\">Unique ID for each movie.</td>\n",
    "        <td style=\"text-align:left\">Integer</td>\n",
    "      </tr>\n",
    "   <tr>\n",
    "      <td style=\"text-align:left\">title</td>\n",
    "      <td style=\"text-align:left\">Title of the movie, included is the released year enclosed with parenthesis (e.g. Movie title (2023)).</td>\n",
    "      <td style=\"text-align:left\">Text</td>\n",
    "    </tr>\n",
    "   <tr>\n",
    "      <td style=\"text-align:left\">genres</td>\n",
    "      <td style=\"text-align:left\">Movie genre (can have multiple genre for each movie).</td>\n",
    "      <td style=\"text-align:left\">Text</td>\n",
    "    </tr>\n",
    "    <tr>\n",
    "      <td style=\"text-align:left\">userId</td>\n",
    "      <td style=\"text-align:left\">Unique ID for each user.</td>\n",
    "      <td style=\"text-align:left\">Integer</td>\n",
    "    </tr>\n",
    "    <tr>\n",
    "      <td style=\"text-align:left\">rating</td>\n",
    "      <td style=\"text-align:left\">Rating given by the user to the movie (Lowest value=0, Highest value=5, Incremental value=0.5).</td>\n",
    "      <td style=\"text-align:left\">Float</td>\n",
    "    </tr>\n",
    "    <tr>\n",
    "      <td style=\"text-align:left\">tag</td>\n",
    "      <td style=\"text-align:left\">Tag word by the user to the movie.</td>\n",
    "      <td style=\"text-align:left\">Text</td>\n",
    "  </table>"
   ]
  },
  {
   "cell_type": "markdown",
   "id": "b179e30d",
   "metadata": {},
   "source": [
    "***\n",
    "<h2 style=\"color:#E50914\">Data and Project Limitation</h2>\n",
    "\n",
    "***"
   ]
  },
  {
   "cell_type": "markdown",
   "id": "cf1188f4",
   "metadata": {},
   "source": [
    "The project is limited only to the algorithms discussed in class, and we have performed the study on selected users from various clusters. We have used the full dataset from the source file, the smaller subset of the complete `MovieLens` data, which contains millions of rows. We need to choose the **smaller subset** to ensure we will be able to run it with our limited processing."
   ]
  },
  {
   "cell_type": "markdown",
   "id": "9a77d949",
   "metadata": {},
   "source": [
    "<h1 style=\"background-color:#B81D24; color:#F5F5F1; padding: 20px;\">Methodology</h1>"
   ]
  },
  {
   "cell_type": "markdown",
   "id": "9e0b41f4",
   "metadata": {},
   "source": [
    "<center><img src=\"./DMW2_FinalProject_Methodology.jpg\" width=\"100%\" height=\"100%\"></center>\n",
    "<center>Image 02. Project Methodology.</center>"
   ]
  },
  {
   "cell_type": "markdown",
   "id": "281ee979",
   "metadata": {},
   "source": [
    "**Data Collection**\n",
    "\n",
    "The data was extracted from the `MovieLens` dataset. It is then loaded into the SQL database for easier loading and parsing of necessary data.\n",
    "<br><br>\n",
    "\n",
    "**Exploratory Data Analysis**\n",
    "\n",
    "The data was preprocessed and formatted to be easily processed by frequent itemset mining and recommender system algorithms. Finally, descriptive analytics of movies and ratings are done. This includes `histogram of genres and ratings`, and lists of `top rated movies with at least 100 reviews`.\n",
    "<br><br>\n",
    "\n",
    "**Dimensionality Reduction**\n",
    "\n",
    "The data dimension was reduced using `Singular Value Decomposition (SVD)` to operate efficiently on the data frame. The team set the cumulative explained variance to be 80% resulting in 160 SVs remaining.\n",
    "<br><br>\n",
    "\n",
    "**Data Clustering**\n",
    "\n",
    "Unique users were clustered using `K-means clustering` to determine the best cluster of users. This clustering activity was also done after completing the rating matrix resulting in a different clustering.\n",
    "<br><br>\n",
    "\n",
    "**Frequent Itemset Mining**\n",
    "\n",
    "Frequent Itemset Mining (FIM) was used to discover insights on what makes a movie highly rated. Two `FIM` methods are done: frequent genre pair with the highest absolute support and antecedent-consequent pair with the highest lift.\n",
    "<br><br>\n",
    "\n",
    "**Recommender Systems**\n",
    "\n",
    "Develop different `recommender algorithms` and compare and contrast the recommendations. For this study, we used the following: neighborhood-based collaborative filtering (user-based and item-based), latent factor-based collaborative filtering (Alternating Least Squares and Coordinate Gradient Descent), and Content-based (binary aggregation, numeric aggregation, and rule-based)."
   ]
  },
  {
   "cell_type": "markdown",
   "id": "dd4ffa66",
   "metadata": {},
   "source": [
    "<h1 style=\"background-color:#B81D24; color:#F5F5F1; padding: 20px;\">Data Exploration</h1>"
   ]
  },
  {
   "cell_type": "code",
   "execution_count": 3,
   "id": "fd775dc2",
   "metadata": {
    "ExecuteTime": {
     "end_time": "2023-03-12T10:15:37.353898Z",
     "start_time": "2023-03-12T10:15:34.233719Z"
    }
   },
   "outputs": [
    {
     "name": "stderr",
     "output_type": "stream",
     "text": [
      "Matplotlib created a temporary config/cache directory at /tmp/matplotlib-1ex2o6rb because the default path (/home/fgarcia/.cache/matplotlib) is not a writable directory; it is highly recommended to set the MPLCONFIGDIR environment variable to a writable directory, in particular to speed up the import of Matplotlib and to better support multiprocessing.\n"
     ]
    }
   ],
   "source": [
    "# Basic Libraries\n",
    "import pandas as pd\n",
    "import numpy as np\n",
    "import sqlite3\n",
    "import re\n",
    "from tqdm import tqdm\n",
    "from collections import Counter\n",
    "from matplotlib import pyplot as plt\n",
    "from time import time\n",
    "import warnings \n",
    "warnings.filterwarnings(\"ignore\")\n",
    "\n",
    "# Text Data Processing\n",
    "import nltk\n",
    "from nltk.corpus import stopwords \n",
    "from nltk.tokenize import word_tokenize\n",
    "from nltk.stem.porter import PorterStemmer \n",
    "from nltk.stem import WordNetLemmatizer\n",
    "from sklearn.feature_extraction.text import TfidfVectorizer\n",
    "from sklearn.feature_extraction.text import CountVectorizer\n",
    "from sklearn.feature_extraction import _stop_words\n",
    "\n",
    "# Dimensionality Reduction\n",
    "from sklearn.decomposition import TruncatedSVD\n",
    "from sklearn.decomposition import PCA\n",
    "from scipy.cluster.hierarchy import dendrogram, fcluster\n",
    "\n",
    "# Clustering\n",
    "from sklearn.base import clone\n",
    "from sklearn.cluster import KMeans\n",
    "from sklearn.metrics import (calinski_harabasz_score,\n",
    "                             silhouette_score, davies_bouldin_score)\n",
    "from scipy.cluster.hierarchy import dendrogram, fcluster\n",
    "from sklearn.cluster import AgglomerativeClustering\n",
    "from fastcluster import linkage\n",
    "from sklearn.neighbors import NearestNeighbors\n",
    "from sklearn.cluster import DBSCAN\n",
    "from sklearn.cluster import OPTICS, cluster_optics_dbscan\n",
    "from wordcloud import WordCloud, STOPWORDS\n",
    "from PIL import Image\n",
    "from scipy.spatial.distance import cosine\n",
    "import fim\n",
    "\n",
    "# Recommender System\n",
    "from sklearn.linear_model import LinearRegression\n",
    "from sklearn.preprocessing import RobustScaler\n",
    "\n",
    "# Others\n",
    "pd.set_option('max_colwidth', None)\n",
    "conn = sqlite3.connect('movielens.db')"
   ]
  },
  {
   "cell_type": "code",
   "execution_count": 4,
   "id": "d332a1bb",
   "metadata": {
    "ExecuteTime": {
     "end_time": "2023-03-12T10:15:37.361511Z",
     "start_time": "2023-03-12T10:15:37.356947Z"
    }
   },
   "outputs": [],
   "source": [
    "# Figure caption\n",
    "fig_num = 1\n",
    "\n",
    "\n",
    "def fig_caption(title, caption):\n",
    "    \"\"\"Print figure caption on jupyter notebook\"\"\"\n",
    "    global fig_num\n",
    "    display(HTML(f\"\"\"<p style=\"font-size:11px;font-style:default;\">\n",
    "                     <center><b>\n",
    "                     Figure {fig_num}. {title}.</b>\n",
    "                     <br>{caption}</center></p>\"\"\"))\n",
    "    fig_num += 1"
   ]
  },
  {
   "cell_type": "markdown",
   "id": "0097f791",
   "metadata": {},
   "source": [
    "***\n",
    "<h2 style=\"color:#E50914\">Data Collection and Preprocessing</h2>\n",
    "\n",
    "***"
   ]
  },
  {
   "cell_type": "markdown",
   "id": "44e4cee4",
   "metadata": {},
   "source": [
    "First, we load the dataset from the `SQL database`. Shown below is the dataset loaded in the `pandas dataframe`."
   ]
  },
  {
   "cell_type": "code",
   "execution_count": 5,
   "id": "98e3404b",
   "metadata": {
    "ExecuteTime": {
     "end_time": "2023-03-12T10:15:37.977381Z",
     "start_time": "2023-03-12T10:15:37.364032Z"
    }
   },
   "outputs": [
    {
     "data": {
      "text/html": [
       "<div>\n",
       "<style scoped>\n",
       "    .dataframe tbody tr th:only-of-type {\n",
       "        vertical-align: middle;\n",
       "    }\n",
       "\n",
       "    .dataframe tbody tr th {\n",
       "        vertical-align: top;\n",
       "    }\n",
       "\n",
       "    .dataframe thead th {\n",
       "        text-align: right;\n",
       "    }\n",
       "</style>\n",
       "<table border=\"1\" class=\"dataframe\">\n",
       "  <thead>\n",
       "    <tr style=\"text-align: right;\">\n",
       "      <th></th>\n",
       "      <th>movieId</th>\n",
       "      <th>title</th>\n",
       "      <th>genres</th>\n",
       "      <th>userId</th>\n",
       "      <th>rating</th>\n",
       "      <th>tag</th>\n",
       "    </tr>\n",
       "  </thead>\n",
       "  <tbody>\n",
       "    <tr>\n",
       "      <th>0</th>\n",
       "      <td>1</td>\n",
       "      <td>Toy Story (1995)</td>\n",
       "      <td>Adventure|Animation|Children|Comedy|Fantasy</td>\n",
       "      <td>1</td>\n",
       "      <td>4.0</td>\n",
       "      <td>None</td>\n",
       "    </tr>\n",
       "    <tr>\n",
       "      <th>1</th>\n",
       "      <td>1</td>\n",
       "      <td>Toy Story (1995)</td>\n",
       "      <td>Adventure|Animation|Children|Comedy|Fantasy</td>\n",
       "      <td>5</td>\n",
       "      <td>4.0</td>\n",
       "      <td>None</td>\n",
       "    </tr>\n",
       "    <tr>\n",
       "      <th>2</th>\n",
       "      <td>1</td>\n",
       "      <td>Toy Story (1995)</td>\n",
       "      <td>Adventure|Animation|Children|Comedy|Fantasy</td>\n",
       "      <td>7</td>\n",
       "      <td>4.5</td>\n",
       "      <td>None</td>\n",
       "    </tr>\n",
       "    <tr>\n",
       "      <th>3</th>\n",
       "      <td>1</td>\n",
       "      <td>Toy Story (1995)</td>\n",
       "      <td>Adventure|Animation|Children|Comedy|Fantasy</td>\n",
       "      <td>15</td>\n",
       "      <td>2.5</td>\n",
       "      <td>None</td>\n",
       "    </tr>\n",
       "    <tr>\n",
       "      <th>4</th>\n",
       "      <td>1</td>\n",
       "      <td>Toy Story (1995)</td>\n",
       "      <td>Adventure|Animation|Children|Comedy|Fantasy</td>\n",
       "      <td>17</td>\n",
       "      <td>4.5</td>\n",
       "      <td>None</td>\n",
       "    </tr>\n",
       "    <tr>\n",
       "      <th>...</th>\n",
       "      <td>...</td>\n",
       "      <td>...</td>\n",
       "      <td>...</td>\n",
       "      <td>...</td>\n",
       "      <td>...</td>\n",
       "      <td>...</td>\n",
       "    </tr>\n",
       "    <tr>\n",
       "      <th>102672</th>\n",
       "      <td>193581</td>\n",
       "      <td>Black Butler: Book of the Atlantic (2017)</td>\n",
       "      <td>Action|Animation|Comedy|Fantasy</td>\n",
       "      <td>184</td>\n",
       "      <td>4.0</td>\n",
       "      <td>None</td>\n",
       "    </tr>\n",
       "    <tr>\n",
       "      <th>102673</th>\n",
       "      <td>193583</td>\n",
       "      <td>No Game No Life: Zero (2017)</td>\n",
       "      <td>Animation|Comedy|Fantasy</td>\n",
       "      <td>184</td>\n",
       "      <td>3.5</td>\n",
       "      <td>None</td>\n",
       "    </tr>\n",
       "    <tr>\n",
       "      <th>102674</th>\n",
       "      <td>193585</td>\n",
       "      <td>Flint (2017)</td>\n",
       "      <td>Drama</td>\n",
       "      <td>184</td>\n",
       "      <td>3.5</td>\n",
       "      <td>None</td>\n",
       "    </tr>\n",
       "    <tr>\n",
       "      <th>102675</th>\n",
       "      <td>193587</td>\n",
       "      <td>Bungo Stray Dogs: Dead Apple (2018)</td>\n",
       "      <td>Action|Animation</td>\n",
       "      <td>184</td>\n",
       "      <td>3.5</td>\n",
       "      <td>None</td>\n",
       "    </tr>\n",
       "    <tr>\n",
       "      <th>102676</th>\n",
       "      <td>193609</td>\n",
       "      <td>Andrew Dice Clay: Dice Rules (1991)</td>\n",
       "      <td>Comedy</td>\n",
       "      <td>331</td>\n",
       "      <td>4.0</td>\n",
       "      <td>None</td>\n",
       "    </tr>\n",
       "  </tbody>\n",
       "</table>\n",
       "<p>102677 rows × 6 columns</p>\n",
       "</div>"
      ],
      "text/plain": [
       "        movieId                                      title  \\\n",
       "0             1                           Toy Story (1995)   \n",
       "1             1                           Toy Story (1995)   \n",
       "2             1                           Toy Story (1995)   \n",
       "3             1                           Toy Story (1995)   \n",
       "4             1                           Toy Story (1995)   \n",
       "...         ...                                        ...   \n",
       "102672   193581  Black Butler: Book of the Atlantic (2017)   \n",
       "102673   193583               No Game No Life: Zero (2017)   \n",
       "102674   193585                               Flint (2017)   \n",
       "102675   193587        Bungo Stray Dogs: Dead Apple (2018)   \n",
       "102676   193609        Andrew Dice Clay: Dice Rules (1991)   \n",
       "\n",
       "                                             genres  userId  rating   tag  \n",
       "0       Adventure|Animation|Children|Comedy|Fantasy       1     4.0  None  \n",
       "1       Adventure|Animation|Children|Comedy|Fantasy       5     4.0  None  \n",
       "2       Adventure|Animation|Children|Comedy|Fantasy       7     4.5  None  \n",
       "3       Adventure|Animation|Children|Comedy|Fantasy      15     2.5  None  \n",
       "4       Adventure|Animation|Children|Comedy|Fantasy      17     4.5  None  \n",
       "...                                             ...     ...     ...   ...  \n",
       "102672              Action|Animation|Comedy|Fantasy     184     4.0  None  \n",
       "102673                     Animation|Comedy|Fantasy     184     3.5  None  \n",
       "102674                                        Drama     184     3.5  None  \n",
       "102675                             Action|Animation     184     3.5  None  \n",
       "102676                                       Comedy     331     4.0  None  \n",
       "\n",
       "[102677 rows x 6 columns]"
      ]
     },
     "metadata": {},
     "output_type": "display_data"
    }
   ],
   "source": [
    "data = pd.read_sql('SELECT * FROM movielens', conn)\n",
    "display(data)"
   ]
  },
  {
   "cell_type": "code",
   "execution_count": 6,
   "id": "eee72bac",
   "metadata": {
    "ExecuteTime": {
     "end_time": "2023-03-12T10:15:38.192322Z",
     "start_time": "2023-03-12T10:15:37.979733Z"
    }
   },
   "outputs": [],
   "source": [
    "df_utility = data.pivot_table(index='userId',\n",
    "                              columns='movieId', values='rating')\n",
    "# display(df_utility)"
   ]
  },
  {
   "cell_type": "code",
   "execution_count": 7,
   "id": "fdbec8b3",
   "metadata": {
    "ExecuteTime": {
     "end_time": "2023-03-12T10:15:38.216088Z",
     "start_time": "2023-03-12T10:15:38.194879Z"
    }
   },
   "outputs": [],
   "source": [
    "df_title = data.groupby('movieId').agg({'title': 'first', 'genres': 'first'})\n",
    "# display(df_title)"
   ]
  },
  {
   "cell_type": "code",
   "execution_count": 8,
   "id": "aec21a16",
   "metadata": {
    "ExecuteTime": {
     "end_time": "2023-03-12T10:15:38.298121Z",
     "start_time": "2023-03-12T10:15:38.218536Z"
    }
   },
   "outputs": [],
   "source": [
    "df_genres = data.groupby('movieId').agg({'genres': 'first'})\n",
    "genres_df = df_genres['genres'].str.get_dummies('|')\n",
    "df_items = pd.concat([df_genres, genres_df], axis=1)\n",
    "df_items = df_items.drop(['genres'], axis=1)\n",
    "# display(df_items)"
   ]
  },
  {
   "cell_type": "markdown",
   "id": "19f1e6cb",
   "metadata": {},
   "source": [
    "***\n",
    "<h2 style=\"color:#E50914\">Exploratory Data Analysis</h2>\n",
    "\n",
    "***"
   ]
  },
  {
   "cell_type": "code",
   "execution_count": 9,
   "id": "ff971c1d",
   "metadata": {
    "ExecuteTime": {
     "end_time": "2023-03-12T10:15:38.492845Z",
     "start_time": "2023-03-12T10:15:38.302784Z"
    }
   },
   "outputs": [
    {
     "data": {
      "text/html": [
       "<img src=\"Genre_Counts.png\" alt=\"plots\" style=\"display:block;margin-left:auto;margin-right:auto;width:60%;\">"
      ],
      "text/plain": [
       "<IPython.core.display.HTML object>"
      ]
     },
     "metadata": {},
     "output_type": "display_data"
    },
    {
     "data": {
      "text/html": [
       "<p style=\"font-size:11px;font-style:default;\">\n",
       "                     <center><b>\n",
       "                     Figure 1. Genre Count of the Dataset.</b>\n",
       "                     <br></center></p>"
      ],
      "text/plain": [
       "<IPython.core.display.HTML object>"
      ]
     },
     "metadata": {},
     "output_type": "display_data"
    }
   ],
   "source": [
    "df_genre = (df_items.sum(axis=0)\n",
    "            .sort_values(ascending=False)[:10].sort_values(ascending=True))\n",
    "color = ['#7B7C7C', '#7B7C7C', '#7B7C7C', '#7B7C7C', '#7B7C7C',\n",
    "         '#7B7C7C', '#7B7C7C', '#7B7C7C', '#B81D24', '#B81D24']\n",
    "\n",
    "fig, ax = plt.subplots(figsize=(10, 8))\n",
    "bars = ax.barh(df_genre.index, df_genre.values, color=color)\n",
    "\n",
    "for idx, bar in enumerate(bars):\n",
    "    height = bar.get_width()\n",
    "    ax.text(height / 2, bar.get_y() + bar.get_height() / 2,\n",
    "            df_genre.index[idx], ha='center', va='center', color='white',\n",
    "            fontsize=13)\n",
    "    if idx > 7:\n",
    "        ax.text(height + 150, bar.get_y() + bar.get_height() / 2,\n",
    "                df_genre.values[idx], ha='center', va='center',\n",
    "                color='#F24e4B', fontsize=13)\n",
    "    else:\n",
    "        ax.text(height + 150, bar.get_y() + bar.get_height() / 2,\n",
    "                df_genre.values[idx], ha='center', va='center',\n",
    "                color='#A9A9A9', fontsize=13)\n",
    "\n",
    "ax.set_xlim([0, 5000])\n",
    "ax.spines['top'].set_visible(False)\n",
    "ax.spines['right'].set_visible(False)\n",
    "ax.spines['bottom'].set_visible(False)\n",
    "ax.set_yticklabels([])\n",
    "ax.set_xticklabels([])\n",
    "ax.tick_params(axis='both', length=0, width=0, which='both')\n",
    "ax.set_ylabel('Genre', size=12)\n",
    "ax.set_xlabel('Count', size=12)\n",
    "ax.set_title('Genre Count of the Dataset', size=18)\n",
    "\n",
    "# Save the plot as a PNG file\n",
    "plt.savefig(\"Genre_Counts.png\")\n",
    "\n",
    "# Create an HTML img tag to display the image\n",
    "img_tag = (f'<img src=\"Genre_Counts.png\" alt=\"plots\" style=\"display:block;'\n",
    "           f'margin-left:auto;margin-right:auto;width:60%;\">')\n",
    "\n",
    "# Display the img tag in the Jupyter Notebook\n",
    "display(HTML(img_tag))\n",
    "plt.close()\n",
    "fig_caption('Genre Count of the Dataset', '')"
   ]
  },
  {
   "cell_type": "markdown",
   "id": "a8262f8e",
   "metadata": {},
   "source": [
    "The graph shows that `Drama` and `Comedy` has the highest count with `4349` and `3753` respectively. The following top genre counts have counts below 2000. Most of the movies in the dataset have Drama and Comedy as their genre. Take note also that a movie could have multiple tagged genres."
   ]
  },
  {
   "cell_type": "markdown",
   "id": "44e17ea4",
   "metadata": {},
   "source": [
    "The dataframe below shows the movies with at least 100 reviews and sorted according to the average rating. It shows that classic films such as `Pulp Fiction (1994) - 4.487 rating`, `The Shawshank Redemption (1994) - 4.432 rating`, and `Fight Club (1999) - 4.402` rating are the top-rated movies. On the other hand, `Coneheads (1993) - 2.420`, `Judge Dredd (1995) - 2.669`, and `Mission: Impossible II (2000) - 2.714` rating are the bottom-rated movies."
   ]
  },
  {
   "cell_type": "code",
   "execution_count": 10,
   "id": "5c4db065",
   "metadata": {
    "ExecuteTime": {
     "end_time": "2023-03-12T10:15:38.545019Z",
     "start_time": "2023-03-12T10:15:38.495068Z"
    }
   },
   "outputs": [
    {
     "data": {
      "text/html": [
       "<div>\n",
       "<style scoped>\n",
       "    .dataframe tbody tr th:only-of-type {\n",
       "        vertical-align: middle;\n",
       "    }\n",
       "\n",
       "    .dataframe tbody tr th {\n",
       "        vertical-align: top;\n",
       "    }\n",
       "\n",
       "    .dataframe thead th {\n",
       "        text-align: right;\n",
       "    }\n",
       "</style>\n",
       "<table border=\"1\" class=\"dataframe\">\n",
       "  <thead>\n",
       "    <tr style=\"text-align: right;\">\n",
       "      <th></th>\n",
       "      <th>title</th>\n",
       "      <th>mean</th>\n",
       "    </tr>\n",
       "    <tr>\n",
       "      <th>movieId</th>\n",
       "      <th></th>\n",
       "      <th></th>\n",
       "    </tr>\n",
       "  </thead>\n",
       "  <tbody>\n",
       "    <tr>\n",
       "      <th>296</th>\n",
       "      <td>Pulp Fiction (1994)</td>\n",
       "      <td>4.487603</td>\n",
       "    </tr>\n",
       "    <tr>\n",
       "      <th>318</th>\n",
       "      <td>Shawshank Redemption, The (1994)</td>\n",
       "      <td>4.432602</td>\n",
       "    </tr>\n",
       "    <tr>\n",
       "      <th>2959</th>\n",
       "      <td>Fight Club (1999)</td>\n",
       "      <td>4.402985</td>\n",
       "    </tr>\n",
       "    <tr>\n",
       "      <th>858</th>\n",
       "      <td>Godfather, The (1972)</td>\n",
       "      <td>4.289062</td>\n",
       "    </tr>\n",
       "    <tr>\n",
       "      <th>7361</th>\n",
       "      <td>Eternal Sunshine of the Spotless Mind (2004)</td>\n",
       "      <td>4.278481</td>\n",
       "    </tr>\n",
       "    <tr>\n",
       "      <th>...</th>\n",
       "      <td>...</td>\n",
       "      <td>...</td>\n",
       "    </tr>\n",
       "    <tr>\n",
       "      <th>19</th>\n",
       "      <td>Ace Ventura: When Nature Calls (1995)</td>\n",
       "      <td>2.727273</td>\n",
       "    </tr>\n",
       "    <tr>\n",
       "      <th>3977</th>\n",
       "      <td>Charlie's Angels (2000)</td>\n",
       "      <td>2.722222</td>\n",
       "    </tr>\n",
       "    <tr>\n",
       "      <th>3623</th>\n",
       "      <td>Mission: Impossible II (2000)</td>\n",
       "      <td>2.714286</td>\n",
       "    </tr>\n",
       "    <tr>\n",
       "      <th>173</th>\n",
       "      <td>Judge Dredd (1995)</td>\n",
       "      <td>2.669355</td>\n",
       "    </tr>\n",
       "    <tr>\n",
       "      <th>435</th>\n",
       "      <td>Coneheads (1993)</td>\n",
       "      <td>2.420635</td>\n",
       "    </tr>\n",
       "  </tbody>\n",
       "</table>\n",
       "<p>323 rows × 2 columns</p>\n",
       "</div>"
      ],
      "text/plain": [
       "                                                title      mean\n",
       "movieId                                                        \n",
       "296                               Pulp Fiction (1994)  4.487603\n",
       "318                  Shawshank Redemption, The (1994)  4.432602\n",
       "2959                                Fight Club (1999)  4.402985\n",
       "858                             Godfather, The (1972)  4.289062\n",
       "7361     Eternal Sunshine of the Spotless Mind (2004)  4.278481\n",
       "...                                               ...       ...\n",
       "19              Ace Ventura: When Nature Calls (1995)  2.727273\n",
       "3977                          Charlie's Angels (2000)  2.722222\n",
       "3623                    Mission: Impossible II (2000)  2.714286\n",
       "173                                Judge Dredd (1995)  2.669355\n",
       "435                                  Coneheads (1993)  2.420635\n",
       "\n",
       "[323 rows x 2 columns]"
      ]
     },
     "metadata": {},
     "output_type": "display_data"
    }
   ],
   "source": [
    "# Filter out only the movies reviewed by 10% of the users\n",
    "user_lim = 0.10 * data['userId'].nunique()\n",
    "df_eda = data.groupby(['movieId', 'title'])['rating'].agg(\n",
    "    ['mean', 'count']).reset_index().set_index('movieId')\n",
    "df_rating = df_eda[df_eda['count'] > user_lim][[\n",
    "    'title', 'mean']].sort_values('mean', ascending=False)\n",
    "display(df_rating)"
   ]
  },
  {
   "cell_type": "markdown",
   "id": "ccdee56b",
   "metadata": {},
   "source": [
    "<center><b>Top Three Highly Rated Movies with at least 100 Reviews</b><center>\n",
    "\n",
    "<table style=\"width:100%\">\n",
    "    <tr style=\"background-color:#B81D24; color:#F5F5F1\">\n",
    "      <th style=\"width:50%; text-align:center\">Top 1</th>\n",
    "      <th style=\"width:50%; text-align:center\" >Top 2</th>\n",
    "      <th style=\"width:50%; text-align:center\">Top 3</th>\n",
    "    </tr>\n",
    "    <tr>\n",
    "        <td style=\"width: 50%; text-align: center;\"><img src=\"Pulp_Fiction_Poster.jpg\" style=\"display: inline-block; vertical-align: middle; max-width: 100%; max-height: 100%;\"><br>Pulp Fiction (1994)<br>4.487 Rating</td>\n",
    "        <td style=\"width: 50%; text-align: center;\"><img src=\"The_Shawshank_Redemption_Poster.jpg\" style=\"display: inline-block; vertical-align: middle; max-width: 100%; max-height: 100%;\"><br>The Shawshank Redemption (1994)<br>4.432 Rating</td>\n",
    "        <td style=\"width: 50%; text-align: center;\"><img src=\"Fight_Club_Poster.jpg\" style=\"display: inline-block; vertical-align: middle; max-width: 100%; max-height: 100%;\"><br>Fight Club (1999)<br>4.402 Rating</td>\n",
    "      </tr>\n",
    "  </table>\n",
    "<center>Image 03. Top Three Rated Movies with at least 100 Reviews.</center>"
   ]
  },
  {
   "cell_type": "code",
   "execution_count": 11,
   "id": "b7ff9953",
   "metadata": {
    "ExecuteTime": {
     "end_time": "2023-03-12T10:15:38.692225Z",
     "start_time": "2023-03-12T10:15:38.547474Z"
    }
   },
   "outputs": [
    {
     "data": {
      "text/html": [
       "<img src=\"Histogram_of_Ratings.png\" alt=\"plots\" style=\"display:block;margin-left:auto;margin-right:auto;width:60%;\">"
      ],
      "text/plain": [
       "<IPython.core.display.HTML object>"
      ]
     },
     "metadata": {},
     "output_type": "display_data"
    },
    {
     "data": {
      "text/html": [
       "<p style=\"font-size:11px;font-style:default;\">\n",
       "                     <center><b>\n",
       "                     Figure 2. Historgram of Movie Ratings.</b>\n",
       "                     <br></center></p>"
      ],
      "text/plain": [
       "<IPython.core.display.HTML object>"
      ]
     },
     "metadata": {},
     "output_type": "display_data"
    }
   ],
   "source": [
    "fig, ax = plt.subplots(figsize=(8, 6))\n",
    "data['rating'].hist(ax=ax, color='#B81D24')\n",
    "ax.set_ylabel('Count of Ratings', size=12)\n",
    "ax.set_xlabel('Rating Value', size=12)\n",
    "ax.set_title('Historgram of Movie Ratings', size=18)\n",
    "ax.grid(False)\n",
    "\n",
    "# Save the plot as a PNG file\n",
    "plt.savefig(\"Histogram_of_Ratings.png\")\n",
    "\n",
    "# Create an HTML img tag to display the image\n",
    "img_tag = (f'<img src=\"Histogram_of_Ratings.png\" alt=\"plots\" style=\"display:'\n",
    "           f'block;margin-left:auto;margin-right:auto;width:60%;\">')\n",
    "\n",
    "# Display the img tag in the Jupyter Notebook\n",
    "display(HTML(img_tag))\n",
    "plt.close()\n",
    "fig_caption('Historgram of Movie Ratings', '')"
   ]
  },
  {
   "cell_type": "markdown",
   "id": "ce908042",
   "metadata": {},
   "source": [
    "The histogram above shows that most users rated the movie around 3 to 4. Interestingly most users avoid rating the movies with 0.5 (increment). Instead, they prefer to rate at integer value, as shown by the sudden drop in count every 0.5. We will address this user bias later using mean-centering."
   ]
  },
  {
   "cell_type": "markdown",
   "id": "20f35dbf",
   "metadata": {},
   "source": [
    "***\n",
    "<h2 style=\"color:#E50914\">Dimensionality Reduction</h2>\n",
    "\n",
    "***"
   ]
  },
  {
   "cell_type": "markdown",
   "id": "7729cd58",
   "metadata": {},
   "source": [
    "We applied SVD to reduce the dimensions at `80% variance` from `611 components`. So we only need `160 (74% reduction)`. The first cluster results in it being able to group each user depending on the density of their reviews. We analyzed, and `k=4` is the best cluster. Interestingly, the cluster members decrease as the number of average reviews increases. When we melted the table to look at how many reviews belong to each cluster, the distribution is quite balanced since each cluster has around 20k+ rows each, making it a good distribution that also makes sense on how it was grouped from lightweight up to the heavyweight type of reviewers. The result of this matrix can be helpful if we want to get a rating for movies. We might push it more to the ones who actively give a rating. It would be beneficial to look deeper at the extremes for people who rarely rate since they may have rated a movie high because it's really good or very low. If it's pretty bad, they spent time rating it out of potentially their emotions."
   ]
  },
  {
   "cell_type": "code",
   "execution_count": 12,
   "id": "339fe280",
   "metadata": {
    "ExecuteTime": {
     "end_time": "2023-03-12T10:16:25.757306Z",
     "start_time": "2023-03-12T10:15:38.694507Z"
    }
   },
   "outputs": [],
   "source": [
    "df_zero_fill = df_utility.fillna(0)\n",
    "svd = TruncatedSVD(n_components=df_zero_fill.shape[1], random_state=214)\n",
    "svd.fit_transform(df_zero_fill)\n",
    "var_exp_cumsum = svd.explained_variance_ratio_.cumsum()\n",
    "n_sv = np.argmax(var_exp_cumsum >= 0.8) + 1"
   ]
  },
  {
   "cell_type": "code",
   "execution_count": 13,
   "id": "08a2e550",
   "metadata": {
    "ExecuteTime": {
     "end_time": "2023-03-12T10:16:25.899301Z",
     "start_time": "2023-03-12T10:16:25.760532Z"
    }
   },
   "outputs": [
    {
     "name": "stdout",
     "output_type": "stream",
     "text": [
      "The minimum number of SVs to get at least 80% of explained variance is 160.\n"
     ]
    },
    {
     "data": {
      "text/html": [
       "<img src=\"SVD_Variance_Explained.png\" alt=\"plots\" style=\"display:block;margin-left:auto;margin-right:auto;width:60%;\">"
      ],
      "text/plain": [
       "<IPython.core.display.HTML object>"
      ]
     },
     "metadata": {},
     "output_type": "display_data"
    },
    {
     "data": {
      "text/html": [
       "<p style=\"font-size:11px;font-style:default;\">\n",
       "                     <center><b>\n",
       "                     Figure 3. Dimensionality Reduction on Utility Matrix.</b>\n",
       "                     <br></center></p>"
      ],
      "text/plain": [
       "<IPython.core.display.HTML object>"
      ]
     },
     "metadata": {},
     "output_type": "display_data"
    }
   ],
   "source": [
    "print(f\"The minimum number of SVs to get at least 80% of explained variance\"\n",
    "      f\" is {n_sv}.\")\n",
    "fig, ax = plt.subplots(figsize=(10, 6))\n",
    "ax.plot(range(1, len(var_exp_cumsum)+1), var_exp_cumsum, '-',\n",
    "        label='cumulative', color='#B81D24')\n",
    "ax.set_ylim(0, 1)\n",
    "ax.axvline(n_sv, ls='--', color='#7B7C7C')\n",
    "ax.axhline(var_exp_cumsum[n_sv-1], ls='--', color='#7B7C7C')\n",
    "ax.set_title('Dimensionality Reduction on Utility Matrix')\n",
    "ax.set_xlabel('SV')\n",
    "ax.set_ylabel('variance explained')\n",
    "\n",
    "# Save the plot as a PNG file\n",
    "plt.savefig(\"SVD_Variance_Explained.png\")\n",
    "\n",
    "# Create an HTML img tag to display the image\n",
    "img_tag = (f'<img src=\"SVD_Variance_Explained.png\" alt=\"plots\" style=\"display'\n",
    "           f':block;margin-left:auto;margin-right:auto;width:60%;\">')\n",
    "\n",
    "# Display the img tag in the Jupyter Notebook\n",
    "display(HTML(img_tag))\n",
    "plt.close()\n",
    "fig_caption('Dimensionality Reduction on Utility Matrix', '')"
   ]
  },
  {
   "cell_type": "code",
   "execution_count": 14,
   "id": "0d8fba35",
   "metadata": {
    "ExecuteTime": {
     "end_time": "2023-03-12T10:16:29.846828Z",
     "start_time": "2023-03-12T10:16:25.901582Z"
    }
   },
   "outputs": [
    {
     "data": {
      "text/html": [
       "<img src=\"SV_Plot.png\" alt=\"plots\" style=\"display:block;margin-left:auto;margin-right:auto;width:60%;\">"
      ],
      "text/plain": [
       "<IPython.core.display.HTML object>"
      ]
     },
     "metadata": {},
     "output_type": "display_data"
    },
    {
     "data": {
      "text/html": [
       "<p style=\"font-size:11px;font-style:default;\">\n",
       "                     <center><b>\n",
       "                     Figure 4. Plot of SV1 and SV2 of Utility Matrix.</b>\n",
       "                     <br></center></p>"
      ],
      "text/plain": [
       "<IPython.core.display.HTML object>"
      ]
     },
     "metadata": {},
     "output_type": "display_data"
    }
   ],
   "source": [
    "svd = TruncatedSVD(n_components=n_sv, random_state=214)\n",
    "df_svd = svd.fit_transform(df_zero_fill)\n",
    "\n",
    "fig, ax = plt.subplots(figsize=(10, 8))\n",
    "plt.scatter(df_svd[:, 0], df_svd[:, 1], alpha=0.6, color='#B81D24')\n",
    "plt.xlabel('SV1')\n",
    "plt.ylabel('SV2')\n",
    "plt.title('Plot of SV1 and SV2 of Utility Matrix')\n",
    "\n",
    "# Save the plot as a PNG file\n",
    "plt.savefig(\"SV_Plot.png\")\n",
    "\n",
    "# Create an HTML img tag to display the image\n",
    "img_tag = (f'<img src=\"SV_Plot.png\" alt=\"plots\" style=\"display'\n",
    "           f':block;margin-left:auto;margin-right:auto;width:60%;\">')\n",
    "\n",
    "# Display the img tag in the Jupyter Notebook\n",
    "display(HTML(img_tag))\n",
    "plt.close()\n",
    "fig_caption('Plot of SV1 and SV2 of Utility Matrix', '')"
   ]
  },
  {
   "cell_type": "markdown",
   "id": "48f29aa3",
   "metadata": {},
   "source": [
    "<h1 style=\"background-color:#B81D24; color:#F5F5F1; padding: 20px;\">Results and Discussion</h1>"
   ]
  },
  {
   "cell_type": "markdown",
   "id": "9c71a934",
   "metadata": {},
   "source": [
    "***\n",
    "<h2 style=\"color:#E50914\">Clustering</h2>\n",
    "\n",
    "***"
   ]
  },
  {
   "cell_type": "code",
   "execution_count": 15,
   "id": "a5951ed4",
   "metadata": {
    "ExecuteTime": {
     "end_time": "2023-03-12T10:16:29.862456Z",
     "start_time": "2023-03-12T10:16:29.849321Z"
    }
   },
   "outputs": [],
   "source": [
    "def cd(df_utility, k, tol):\n",
    "    \"\"\"\n",
    "    Accepts the utility matrix and number of latent factors k\n",
    "    then returns the 𝐅𝑢𝑠𝑒𝑟 and 𝐹𝑖𝑡𝑒𝑚 matrices. Stop when the improvement in\n",
    "    SSE (percent change) is less than the given tolerance 𝑡𝑜𝑙.\n",
    "    \"\"\"\n",
    "    U, V = np.ones((df_utility.shape[0], k)), np.ones((df_utility.shape[1],\n",
    "                                                       k))\n",
    "    M = df_utility.to_numpy()\n",
    "    sse_0 = np.nansum((M - U@V.T)**2)\n",
    "\n",
    "    while True:\n",
    "        for user in range(U.shape[0]):\n",
    "            for factor in range(U.shape[1]):\n",
    "                r_exist = np.where(~np.isnan(M[user, :]))[0]\n",
    "                num = 0\n",
    "                den = 0\n",
    "                for s in r_exist:\n",
    "                    v_sj = V[s, factor]\n",
    "                    r_is = M[user, s]\n",
    "                    t = np.where(np.arange(k) != factor)\n",
    "                    t_sum = U[user, t] @ V[s, t].T\n",
    "                    num += v_sj * (r_is - t_sum)\n",
    "                    den += v_sj**2\n",
    "                U[user, factor] = num / den\n",
    "\n",
    "        for item in range(V.shape[0]):\n",
    "            for factor in range(V.shape[1]):\n",
    "                r_exist = np.where(~np.isnan(M[:, item]))[0]\n",
    "                num = 0\n",
    "                den = 0\n",
    "                for s in r_exist:\n",
    "                    u_sj = U[s, factor]\n",
    "                    r_si = M[s, item]\n",
    "                    t = np.where(np.arange(k) != factor)\n",
    "                    t_sum = U[s, t] @ V[item, t].T\n",
    "                    num += u_sj * (r_si - t_sum)\n",
    "                    den += u_sj**2\n",
    "                V[item, factor] = num / den\n",
    "\n",
    "        sse = np.nansum((M - U@V.T)**2)\n",
    "        change = (sse - sse_0) / sse_0\n",
    "\n",
    "        if np.abs(change) < tol:\n",
    "            return U, V\n",
    "        else:\n",
    "            sse_0 = sse\n",
    "\n",
    "    return U, V\n",
    "\n",
    "\n",
    "def recommend_cd(user, df_utility, f_user, f_item, N):\n",
    "    \"\"\"This returns the recommended items for the passed user and its \n",
    "    non-rated items im the df_utility matrix. We then reconstruct the matrix\n",
    "    with the predicted ratings with the dot product of f_user and f_item. \n",
    "    This returns N number of items sorted from highest to lowest rating of\n",
    "    the items if value is similar the priority would be lowest to highest of\n",
    "    the item/joke id. Code is similar to #2.\n",
    "    \"\"\"\n",
    "    df_completed = pd.DataFrame(np.matmul(f_user, f_item.T),\n",
    "                                columns=df_utility.columns,\n",
    "                                index=df_utility.index)\n",
    "    df = pd.concat([df_utility.loc[user], df_completed.loc[user]],\n",
    "                   axis=1).T.reset_index(drop=True)\n",
    "    df = df[df.columns[df.isna().any()]]\n",
    "    reco = df.loc[1].sort_values(ascending=False)[:N].index.to_list()\n",
    "\n",
    "    return reco"
   ]
  },
  {
   "cell_type": "code",
   "execution_count": 16,
   "id": "0fe3b552",
   "metadata": {
    "ExecuteTime": {
     "end_time": "2023-03-12T10:23:26.528030Z",
     "start_time": "2023-03-12T10:16:29.864720Z"
    }
   },
   "outputs": [],
   "source": [
    "# We only did this to have completed matrix for clustering\n",
    "f_user_cgd, f_item_cgd = cd(df_utility, 30, 0.01)\n",
    "\n",
    "top_10_cf_cgd_475 = recommend_cd(475, df_utility, f_user_cgd, f_item_cgd, 10)\n",
    "top_10_cf_cgd_387 = recommend_cd(387, df_utility, f_user_cgd, f_item_cgd, 10)\n",
    "top_10_cf_cgd_49 = recommend_cd(49, df_utility, f_user_cgd, f_item_cgd, 10)\n",
    "\n",
    "lf_cgd_recos = [top_10_cf_cgd_475, top_10_cf_cgd_387, top_10_cf_cgd_49]\n",
    "df_lf_cgd = pd.DataFrame(f_user_cgd@f_item_cgd.T, index=df_utility.index,\n",
    "                         columns=df_utility.columns)"
   ]
  },
  {
   "cell_type": "markdown",
   "id": "94edd49a",
   "metadata": {},
   "source": [
    "<h3 style=\"color:#221F1F\">Hierarchical Clustering</h3>\n",
    "\n",
    "***"
   ]
  },
  {
   "cell_type": "markdown",
   "id": "2875387f",
   "metadata": {},
   "source": [
    "We will try the following hierarchical clustering method to determine the best method: Single-Linkage, Complete Linkage, Average-Linkage, Ward Method."
   ]
  },
  {
   "cell_type": "code",
   "execution_count": 17,
   "id": "e4cc4829",
   "metadata": {
    "ExecuteTime": {
     "end_time": "2023-03-12T10:23:26.632563Z",
     "start_time": "2023-03-12T10:23:26.622070Z"
    }
   },
   "outputs": [],
   "source": [
    "def plot_dendrogram(model, **kwargs):\n",
    "    \"\"\"Create linkage matrix and then plot the dendrogram\n",
    "       create the counts of samples under each node\n",
    "    \"\"\"\n",
    "    counts = np.zeros(model.children_.shape[0])\n",
    "    n_samples = len(model.labels_)\n",
    "    for i, merge in enumerate(model.children_):\n",
    "        current_count = 0\n",
    "        for child_idx in merge:\n",
    "            if child_idx < n_samples:\n",
    "                current_count += 1  # leaf node\n",
    "            else:\n",
    "                current_count += counts[child_idx - n_samples]\n",
    "        counts[i] = current_count\n",
    "\n",
    "    linkage_matrix = np.column_stack(\n",
    "        [model.children_, model.distances_, counts]\n",
    "    ).astype(float)\n",
    "\n",
    "    # Plot the corresponding dendrogram\n",
    "    dendrogram(linkage_matrix, **kwargs)"
   ]
  },
  {
   "cell_type": "markdown",
   "id": "92adcc39",
   "metadata": {},
   "source": [
    "<h4 style=\"color:#7B7C7C\">Single Linkage</h4>\n",
    "\n",
    "***"
   ]
  },
  {
   "cell_type": "code",
   "execution_count": 18,
   "id": "fcbb3d41",
   "metadata": {
    "ExecuteTime": {
     "end_time": "2023-03-12T10:23:26.865653Z",
     "start_time": "2023-03-12T10:23:26.634797Z"
    }
   },
   "outputs": [
    {
     "data": {
      "text/html": [
       "<img src=\"Single_Dendo.png\" alt=\"plots\" style=\"display:block;margin-left:auto;margin-right:auto;width:50%;\">"
      ],
      "text/plain": [
       "<IPython.core.display.HTML object>"
      ]
     },
     "metadata": {},
     "output_type": "display_data"
    },
    {
     "data": {
      "text/html": [
       "<p style=\"font-size:11px;font-style:default;\">\n",
       "                     <center><b>\n",
       "                     Figure 5. Single-Linkage Dendogram.</b>\n",
       "                     <br></center></p>"
      ],
      "text/plain": [
       "<IPython.core.display.HTML object>"
      ]
     },
     "metadata": {},
     "output_type": "display_data"
    }
   ],
   "source": [
    "# Perform agglomerative clustering single linkage with 0 threshold\n",
    "agg = AgglomerativeClustering(n_clusters=None, linkage='single',\n",
    "                              distance_threshold=0)\n",
    "Z = agg.fit(df_svd)\n",
    "\n",
    "# Plot the Z output for the fitted data\n",
    "plot_dendrogram(Z, truncate_mode=\"level\", p=5)\n",
    "\n",
    "# Save the plot as a PNG file\n",
    "plt.savefig(\"Single_Dendo.png\")\n",
    "\n",
    "# Create an HTML img tag to display the image\n",
    "img_tag = (f'<img src=\"Single_Dendo.png\" alt=\"plots\" style=\"display'\n",
    "           f':block;margin-left:auto;margin-right:auto;width:50%;\">')\n",
    "\n",
    "# Display the img tag in the Jupyter Notebook\n",
    "display(HTML(img_tag))\n",
    "plt.close()\n",
    "fig_caption('Single-Linkage Dendogram', '')"
   ]
  },
  {
   "cell_type": "code",
   "execution_count": 19,
   "id": "807b6b63",
   "metadata": {
    "ExecuteTime": {
     "end_time": "2023-03-12T10:23:27.168249Z",
     "start_time": "2023-03-12T10:23:26.867892Z"
    }
   },
   "outputs": [
    {
     "data": {
      "text/html": [
       "<img src=\"Single_Clustering.png\" alt=\"plots\" style=\"display:block;margin-left:auto;margin-right:auto;width:50%;\">"
      ],
      "text/plain": [
       "<IPython.core.display.HTML object>"
      ]
     },
     "metadata": {},
     "output_type": "display_data"
    },
    {
     "data": {
      "text/html": [
       "<p style=\"font-size:11px;font-style:default;\">\n",
       "                     <center><b>\n",
       "                     Figure 6. Single-Linkage Clustering.</b>\n",
       "                     <br></center></p>"
      ],
      "text/plain": [
       "<IPython.core.display.HTML object>"
      ]
     },
     "metadata": {},
     "output_type": "display_data"
    }
   ],
   "source": [
    "# Perform AgglomerativeClustering based on dendogram gap = 2\n",
    "agg = AgglomerativeClustering(n_clusters=2, linkage='single')\n",
    "y_predict = agg.fit_predict(df_svd)\n",
    "plt.scatter(df_svd[:, 0], df_svd[:, 1], c=y_predict)\n",
    "plt.xlabel('SV1')\n",
    "plt.ylabel('SV2')\n",
    "plt.title('Single-Linkage Clustering')\n",
    "\n",
    "# Save the plot as a PNG file\n",
    "plt.savefig(\"Single_Clustering.png\")\n",
    "\n",
    "# Create an HTML img tag to display the image\n",
    "img_tag = (f'<img src=\"Single_Clustering.png\" alt=\"plots\" style=\"display'\n",
    "           f':block;margin-left:auto;margin-right:auto;width:50%;\">')\n",
    "\n",
    "# Display the img tag in the Jupyter Notebook\n",
    "display(HTML(img_tag))\n",
    "plt.close()\n",
    "fig_caption('Single-Linkage Clustering', '')"
   ]
  },
  {
   "cell_type": "markdown",
   "id": "b443412e",
   "metadata": {},
   "source": [
    "<h4 style=\"color:#7B7C7C\">Complete Linkage</h4>\n",
    "\n",
    "***"
   ]
  },
  {
   "cell_type": "code",
   "execution_count": 20,
   "id": "436b719f",
   "metadata": {
    "ExecuteTime": {
     "end_time": "2023-03-12T10:23:27.332882Z",
     "start_time": "2023-03-12T10:23:27.170535Z"
    }
   },
   "outputs": [
    {
     "data": {
      "text/html": [
       "<img src=\"Complete_Dendo.png\" alt=\"plots\" style=\"display:block;margin-left:auto;margin-right:auto;width:50%;\">"
      ],
      "text/plain": [
       "<IPython.core.display.HTML object>"
      ]
     },
     "metadata": {},
     "output_type": "display_data"
    },
    {
     "data": {
      "text/html": [
       "<p style=\"font-size:11px;font-style:default;\">\n",
       "                     <center><b>\n",
       "                     Figure 7. Complete-Linkage Dendogram.</b>\n",
       "                     <br></center></p>"
      ],
      "text/plain": [
       "<IPython.core.display.HTML object>"
      ]
     },
     "metadata": {},
     "output_type": "display_data"
    }
   ],
   "source": [
    "# Perform agglomerative clustering single linkage with 0 threshold\n",
    "agg = AgglomerativeClustering(n_clusters=None, linkage='complete',\n",
    "                              distance_threshold=0)\n",
    "Z = agg.fit(df_svd)\n",
    "\n",
    "# Plot the Z output for the fitted data\n",
    "plot_dendrogram(Z, truncate_mode=\"level\", p=5)\n",
    "\n",
    "# Save the plot as a PNG file\n",
    "plt.savefig(\"Complete_Dendo.png\")\n",
    "\n",
    "# Create an HTML img tag to display the image\n",
    "img_tag = (f'<img src=\"Complete_Dendo.png\" alt=\"plots\" style=\"display'\n",
    "           f':block;margin-left:auto;margin-right:auto;width:50%;\">')\n",
    "\n",
    "# Display the img tag in the Jupyter Notebook\n",
    "display(HTML(img_tag))\n",
    "plt.close()\n",
    "fig_caption('Complete-Linkage Dendogram', '')"
   ]
  },
  {
   "cell_type": "code",
   "execution_count": 21,
   "id": "1a880926",
   "metadata": {
    "ExecuteTime": {
     "end_time": "2023-03-12T10:23:27.463150Z",
     "start_time": "2023-03-12T10:23:27.334971Z"
    }
   },
   "outputs": [
    {
     "data": {
      "text/html": [
       "<img src=\"Complete_Clustering.png\" alt=\"plots\" style=\"display:block;margin-left:auto;margin-right:auto;width:50%;\">"
      ],
      "text/plain": [
       "<IPython.core.display.HTML object>"
      ]
     },
     "metadata": {},
     "output_type": "display_data"
    },
    {
     "data": {
      "text/html": [
       "<p style=\"font-size:11px;font-style:default;\">\n",
       "                     <center><b>\n",
       "                     Figure 8. Complete-Linkage Clustering.</b>\n",
       "                     <br></center></p>"
      ],
      "text/plain": [
       "<IPython.core.display.HTML object>"
      ]
     },
     "metadata": {},
     "output_type": "display_data"
    }
   ],
   "source": [
    "# Perform AgglomerativeClustering based on dendogram gap = 3\n",
    "agg = AgglomerativeClustering(n_clusters=3, linkage='complete')\n",
    "y_predict = agg.fit_predict(df_svd)\n",
    "plt.scatter(df_svd[:, 0], df_svd[:, 1], c=y_predict)\n",
    "plt.xlabel('SV1')\n",
    "plt.ylabel('SV2')\n",
    "plt.title('Complete-Linkage Clustering')\n",
    "\n",
    "# Save the plot as a PNG file\n",
    "plt.savefig(\"Complete_Clustering.png\")\n",
    "\n",
    "# Create an HTML img tag to display the image\n",
    "img_tag = (f'<img src=\"Complete_Clustering.png\" alt=\"plots\" style=\"display'\n",
    "           f':block;margin-left:auto;margin-right:auto;width:50%;\">')\n",
    "\n",
    "# Display the img tag in the Jupyter Notebook\n",
    "display(HTML(img_tag))\n",
    "plt.close()\n",
    "fig_caption('Complete-Linkage Clustering', '')"
   ]
  },
  {
   "cell_type": "markdown",
   "id": "0742a56b",
   "metadata": {},
   "source": [
    "<h4 style=\"color:#7B7C7C\">Average Linkage</h4>\n",
    "\n",
    "***"
   ]
  },
  {
   "cell_type": "code",
   "execution_count": 22,
   "id": "7a9ca8f6",
   "metadata": {
    "ExecuteTime": {
     "end_time": "2023-03-12T10:23:27.576758Z",
     "start_time": "2023-03-12T10:23:27.465216Z"
    }
   },
   "outputs": [
    {
     "data": {
      "text/html": [
       "<img src=\"Average_Dendo.png\" alt=\"plots\" style=\"display:block;margin-left:auto;margin-right:auto;width:50%;\">"
      ],
      "text/plain": [
       "<IPython.core.display.HTML object>"
      ]
     },
     "metadata": {},
     "output_type": "display_data"
    },
    {
     "data": {
      "text/html": [
       "<p style=\"font-size:11px;font-style:default;\">\n",
       "                     <center><b>\n",
       "                     Figure 9. Average-Linkage Dendogram.</b>\n",
       "                     <br></center></p>"
      ],
      "text/plain": [
       "<IPython.core.display.HTML object>"
      ]
     },
     "metadata": {},
     "output_type": "display_data"
    }
   ],
   "source": [
    "# Perform agglomerative clustering single linkage with 0 threshold\n",
    "agg = AgglomerativeClustering(n_clusters=None, linkage='average',\n",
    "                              distance_threshold=0)\n",
    "Z = agg.fit(df_svd)\n",
    "\n",
    "# Plot the Z output for the fitted data\n",
    "plot_dendrogram(Z, truncate_mode=\"level\", p=5)\n",
    "\n",
    "# Save the plot as a PNG file\n",
    "plt.savefig(\"Average_Dendo.png\")\n",
    "\n",
    "# Create an HTML img tag to display the image\n",
    "img_tag = (f'<img src=\"Average_Dendo.png\" alt=\"plots\" style=\"display'\n",
    "           f':block;margin-left:auto;margin-right:auto;width:50%;\">')\n",
    "\n",
    "# Display the img tag in the Jupyter Notebook\n",
    "display(HTML(img_tag))\n",
    "plt.close()\n",
    "fig_caption('Average-Linkage Dendogram', '')"
   ]
  },
  {
   "cell_type": "code",
   "execution_count": 23,
   "id": "d2361d02",
   "metadata": {
    "ExecuteTime": {
     "end_time": "2023-03-12T10:23:27.720125Z",
     "start_time": "2023-03-12T10:23:27.578848Z"
    }
   },
   "outputs": [
    {
     "data": {
      "text/html": [
       "<img src=\"Average_Clustering.png\" alt=\"plots\" style=\"display:block;margin-left:auto;margin-right:auto;width:50%;\">"
      ],
      "text/plain": [
       "<IPython.core.display.HTML object>"
      ]
     },
     "metadata": {},
     "output_type": "display_data"
    },
    {
     "data": {
      "text/html": [
       "<p style=\"font-size:11px;font-style:default;\">\n",
       "                     <center><b>\n",
       "                     Figure 10. Average-Linkage Clustering.</b>\n",
       "                     <br></center></p>"
      ],
      "text/plain": [
       "<IPython.core.display.HTML object>"
      ]
     },
     "metadata": {},
     "output_type": "display_data"
    }
   ],
   "source": [
    "# Perform AgglomerativeClustering based on dendogram gap = 2\n",
    "agg = AgglomerativeClustering(n_clusters=2, linkage='average')\n",
    "y_predict = agg.fit_predict(df_svd)\n",
    "plt.scatter(df_svd[:, 0], df_svd[:, 1], c=y_predict)\n",
    "plt.xlabel('SV1')\n",
    "plt.ylabel('SV2')\n",
    "plt.title('Average-Linkage Clustering')\n",
    "\n",
    "# Save the plot as a PNG file\n",
    "plt.savefig(\"Average_Clustering.png\")\n",
    "\n",
    "# Create an HTML img tag to display the image\n",
    "img_tag = (f'<img src=\"Average_Clustering.png\" alt=\"plots\" style=\"display'\n",
    "           f':block;margin-left:auto;margin-right:auto;width:50%;\">')\n",
    "\n",
    "# Display the img tag in the Jupyter Notebook\n",
    "display(HTML(img_tag))\n",
    "plt.close()\n",
    "fig_caption('Average-Linkage Clustering', '')"
   ]
  },
  {
   "cell_type": "markdown",
   "id": "926a8b65",
   "metadata": {},
   "source": [
    "<h4 style=\"color:#7B7C7C\">Ward Method</h4>\n",
    "\n",
    "***"
   ]
  },
  {
   "cell_type": "code",
   "execution_count": 24,
   "id": "32207247",
   "metadata": {
    "ExecuteTime": {
     "end_time": "2023-03-12T10:23:28.070546Z",
     "start_time": "2023-03-12T10:23:27.722721Z"
    }
   },
   "outputs": [
    {
     "data": {
      "text/html": [
       "<img src=\"Ward_Dendo.png\" alt=\"plots\" style=\"display:block;margin-left:auto;margin-right:auto;width:50%;\">"
      ],
      "text/plain": [
       "<IPython.core.display.HTML object>"
      ]
     },
     "metadata": {},
     "output_type": "display_data"
    },
    {
     "data": {
      "text/html": [
       "<p style=\"font-size:11px;font-style:default;\">\n",
       "                     <center><b>\n",
       "                     Figure 11. Ward Method Dendogram.</b>\n",
       "                     <br></center></p>"
      ],
      "text/plain": [
       "<IPython.core.display.HTML object>"
      ]
     },
     "metadata": {},
     "output_type": "display_data"
    }
   ],
   "source": [
    "# Perform agglomerative clustering single linkage with 0 threshold\n",
    "agg = AgglomerativeClustering(n_clusters=None, linkage='ward',\n",
    "                              distance_threshold=0)\n",
    "Z = agg.fit(df_svd)\n",
    "\n",
    "# Plot the Z output for the fitted data\n",
    "plot_dendrogram(Z, truncate_mode=\"level\", p=5)\n",
    "\n",
    "# Save the plot as a PNG file\n",
    "plt.savefig(\"Ward_Dendo.png\")\n",
    "\n",
    "# Create an HTML img tag to display the image\n",
    "img_tag = (f'<img src=\"Ward_Dendo.png\" alt=\"plots\" style=\"display'\n",
    "           f':block;margin-left:auto;margin-right:auto;width:50%;\">')\n",
    "\n",
    "# Display the img tag in the Jupyter Notebook\n",
    "display(HTML(img_tag))\n",
    "plt.close()\n",
    "fig_caption('Ward Method Dendogram', '')"
   ]
  },
  {
   "cell_type": "code",
   "execution_count": 25,
   "id": "f4ea2dae",
   "metadata": {
    "ExecuteTime": {
     "end_time": "2023-03-12T10:23:28.224220Z",
     "start_time": "2023-03-12T10:23:28.072796Z"
    }
   },
   "outputs": [
    {
     "data": {
      "text/html": [
       "<img src=\"Ward_Clustering.png\" alt=\"plots\" style=\"display:block;margin-left:auto;margin-right:auto;width:50%;\">"
      ],
      "text/plain": [
       "<IPython.core.display.HTML object>"
      ]
     },
     "metadata": {},
     "output_type": "display_data"
    },
    {
     "data": {
      "text/html": [
       "<p style=\"font-size:11px;font-style:default;\">\n",
       "                     <center><b>\n",
       "                     Figure 12. Ward Method Clustering.</b>\n",
       "                     <br></center></p>"
      ],
      "text/plain": [
       "<IPython.core.display.HTML object>"
      ]
     },
     "metadata": {},
     "output_type": "display_data"
    }
   ],
   "source": [
    "# Perform AgglomerativeClustering based on dendogram gap = 2\n",
    "agg = AgglomerativeClustering(n_clusters=2, linkage='ward')\n",
    "y_predict = agg.fit_predict(df_svd)\n",
    "plt.scatter(df_svd[:, 0], df_svd[:, 1], c=y_predict)\n",
    "plt.xlabel('SV1')\n",
    "plt.ylabel('SV2')\n",
    "plt.title('Ward Method Clustering')\n",
    "\n",
    "# Save the plot as a PNG file\n",
    "plt.savefig(\"Ward_Clustering.png\")\n",
    "\n",
    "# Create an HTML img tag to display the image\n",
    "img_tag = (f'<img src=\"Ward_Clustering.png\" alt=\"plots\" style=\"display'\n",
    "           f':block;margin-left:auto;margin-right:auto;width:50%;\">')\n",
    "\n",
    "# Display the img tag in the Jupyter Notebook\n",
    "display(HTML(img_tag))\n",
    "plt.close()\n",
    "fig_caption('Ward Method Clustering', '')"
   ]
  },
  {
   "cell_type": "markdown",
   "id": "575c51a9",
   "metadata": {},
   "source": [
    "**Hierarchical Clustering** is not suitable for the dataset. The clustering produce are not useful for the recommender system."
   ]
  },
  {
   "cell_type": "markdown",
   "id": "aa7bc46b",
   "metadata": {},
   "source": [
    "<h3 style=\"color:#221F1F\">Density-based Clustering</h3>\n",
    "\n",
    "***"
   ]
  },
  {
   "cell_type": "markdown",
   "id": "288769e6",
   "metadata": {},
   "source": [
    "We will try the following density-based clustering method to determine the best method: Density-Based Spatial Clustering of Applications with Noise (DBSCAN), and  Ordering Points to Identify the Clustering Structure (OPTICS)."
   ]
  },
  {
   "cell_type": "markdown",
   "id": "8ad3d48e",
   "metadata": {},
   "source": [
    "<h4 style=\"color:#7B7C7C\">Density-Based Spatial Clustering of Applications with Noise (DBSCAN)</h4>\n",
    "\n",
    "***"
   ]
  },
  {
   "cell_type": "code",
   "execution_count": 26,
   "id": "a53ef72b",
   "metadata": {
    "ExecuteTime": {
     "end_time": "2023-03-12T10:23:28.236927Z",
     "start_time": "2023-03-12T10:23:28.232241Z"
    }
   },
   "outputs": [],
   "source": [
    "def ave_nn_dist(n_neighbors, data):\n",
    "    \"\"\"Accepts the `n_neighbors` to consider and the `data` then returns the\n",
    "    average distance of a point to its  𝑘=1 nearest neighbor up to\n",
    "    𝑘=𝑛_𝑛𝑒𝑖𝑔ℎ𝑏𝑜𝑟𝑠 nearest neighbor as a sorted list.\"\"\"\n",
    "    from sklearn.neighbors import NearestNeighbors\n",
    "    nn = NearestNeighbors(n_neighbors=n_neighbors).fit(data)\n",
    "    dists = list(np.sort(nn.kneighbors()[0].mean(axis=1)))\n",
    "\n",
    "    return dists"
   ]
  },
  {
   "cell_type": "code",
   "execution_count": 27,
   "id": "bbc22a24",
   "metadata": {
    "ExecuteTime": {
     "end_time": "2023-03-12T10:23:28.467276Z",
     "start_time": "2023-03-12T10:23:28.238990Z"
    }
   },
   "outputs": [
    {
     "data": {
      "text/html": [
       "<img src=\"Ave_NN_dist.png\" alt=\"plots\" style=\"display:block;margin-left:auto;margin-right:auto;width:50%;\">"
      ],
      "text/plain": [
       "<IPython.core.display.HTML object>"
      ]
     },
     "metadata": {},
     "output_type": "display_data"
    },
    {
     "data": {
      "text/html": [
       "<p style=\"font-size:11px;font-style:default;\">\n",
       "                     <center><b>\n",
       "                     Figure 13. Average Neighborhood Points Distance.</b>\n",
       "                     <br></center></p>"
      ],
      "text/plain": [
       "<IPython.core.display.HTML object>"
      ]
     },
     "metadata": {},
     "output_type": "display_data"
    }
   ],
   "source": [
    "ndim = int(np.sqrt(df_svd.shape[1]))\n",
    "plt.plot(ave_nn_dist(ndim, df_svd))\n",
    "plt.axhline(y=80, color='r', linestyle='--')\n",
    "plt.xlabel('point')\n",
    "plt.ylabel('distance')\n",
    "plt.title('Average Neighborhood Points Distance')\n",
    "\n",
    "# Save the plot as a PNG file\n",
    "plt.savefig(\"Ave_NN_dist.png\")\n",
    "\n",
    "# Create an HTML img tag to display the image\n",
    "img_tag = (f'<img src=\"Ave_NN_dist.png\" alt=\"plots\" style=\"display'\n",
    "           f':block;margin-left:auto;margin-right:auto;width:50%;\">')\n",
    "\n",
    "# Display the img tag in the Jupyter Notebook\n",
    "display(HTML(img_tag))\n",
    "plt.close()\n",
    "fig_caption('Average Neighborhood Points Distance', '')"
   ]
  },
  {
   "cell_type": "code",
   "execution_count": 28,
   "id": "1c4340b9",
   "metadata": {
    "ExecuteTime": {
     "end_time": "2023-03-12T10:23:28.623835Z",
     "start_time": "2023-03-12T10:23:28.470114Z"
    }
   },
   "outputs": [
    {
     "name": "stdout",
     "output_type": "stream",
     "text": [
      "Number of clusters: 1\n",
      "Number of noise points: 28\n",
      "Number of points: 610\n"
     ]
    },
    {
     "data": {
      "text/html": [
       "<img src=\"DBSCAN_Clustering.png\" alt=\"plots\" style=\"display:block;margin-left:auto;margin-right:auto;width:50%;\">"
      ],
      "text/plain": [
       "<IPython.core.display.HTML object>"
      ]
     },
     "metadata": {},
     "output_type": "display_data"
    },
    {
     "data": {
      "text/html": [
       "<p style=\"font-size:11px;font-style:default;\">\n",
       "                     <center><b>\n",
       "                     Figure 14. DBSCAN Clustering.</b>\n",
       "                     <br></center></p>"
      ],
      "text/plain": [
       "<IPython.core.display.HTML object>"
      ]
     },
     "metadata": {},
     "output_type": "display_data"
    }
   ],
   "source": [
    "dbscan = DBSCAN(eps=80, min_samples=10)\n",
    "cluster_labels = dbscan.fit_predict(df_svd)\n",
    "plt.scatter(df_svd[:, 0], df_svd[:, 1], c=cluster_labels)\n",
    "plt.xlabel('SV1')\n",
    "plt.ylabel('SV2')\n",
    "plt.title('DBSCAN Clustering')\n",
    "\n",
    "print('Number of clusters:', cluster_labels.max()+1)\n",
    "print('Number of noise points:', (cluster_labels == -1).sum())\n",
    "print('Number of points:', len(cluster_labels))\n",
    "\n",
    "# Save the plot as a PNG file\n",
    "plt.savefig(\"DBSCAN_Clustering.png\")\n",
    "\n",
    "# Create an HTML img tag to display the image\n",
    "img_tag = (f'<img src=\"DBSCAN_Clustering.png\" alt=\"plots\" style=\"display'\n",
    "           f':block;margin-left:auto;margin-right:auto;width:50%;\">')\n",
    "\n",
    "# Display the img tag in the Jupyter Notebook\n",
    "display(HTML(img_tag))\n",
    "plt.close()\n",
    "fig_caption('DBSCAN Clustering', '')"
   ]
  },
  {
   "cell_type": "markdown",
   "id": "66254322",
   "metadata": {},
   "source": [
    "<h4 style=\"color:#7B7C7C\">Ordering Points to Identify the Clustering Structure (OPTICS)</h4>\n",
    "\n",
    "***"
   ]
  },
  {
   "cell_type": "code",
   "execution_count": 29,
   "id": "0ffc3058",
   "metadata": {
    "ExecuteTime": {
     "end_time": "2023-03-12T10:23:29.201019Z",
     "start_time": "2023-03-12T10:23:28.626254Z"
    }
   },
   "outputs": [
    {
     "data": {
      "text/html": [
       "<img src=\"Reachability_Plot.png\" alt=\"plots\" style=\"display:block;margin-left:auto;margin-right:auto;width:50%;\">"
      ],
      "text/plain": [
       "<IPython.core.display.HTML object>"
      ]
     },
     "metadata": {},
     "output_type": "display_data"
    },
    {
     "data": {
      "text/html": [
       "<p style=\"font-size:11px;font-style:default;\">\n",
       "                     <center><b>\n",
       "                     Figure 15. Reachability Plot.</b>\n",
       "                     <br></center></p>"
      ],
      "text/plain": [
       "<IPython.core.display.HTML object>"
      ]
     },
     "metadata": {},
     "output_type": "display_data"
    }
   ],
   "source": [
    "optics = OPTICS(min_samples=5)\n",
    "optics.fit(df_svd)\n",
    "plt.plot(optics.reachability_[optics.ordering_])\n",
    "plt.axhline(y=37, color='r', linestyle='--')\n",
    "plt.ylabel('reachability')\n",
    "plt.title('Reachability Plot')\n",
    "\n",
    "# Save the plot as a PNG file\n",
    "plt.savefig(\"Reachability_Plot.png\")\n",
    "\n",
    "# Create an HTML img tag to display the image\n",
    "img_tag = (f'<img src=\"Reachability_Plot.png\" alt=\"plots\" style=\"display'\n",
    "           f':block;margin-left:auto;margin-right:auto;width:50%;\">')\n",
    "\n",
    "# Display the img tag in the Jupyter Notebook\n",
    "display(HTML(img_tag))\n",
    "plt.close()\n",
    "fig_caption('Reachability Plot', '')"
   ]
  },
  {
   "cell_type": "code",
   "execution_count": 30,
   "id": "7c27af99",
   "metadata": {
    "ExecuteTime": {
     "end_time": "2023-03-12T10:23:29.343206Z",
     "start_time": "2023-03-12T10:23:29.203195Z"
    }
   },
   "outputs": [
    {
     "name": "stdout",
     "output_type": "stream",
     "text": [
      "Number of clusters: 1\n",
      "Number of noise points: 28\n",
      "Number of points: 610\n"
     ]
    },
    {
     "data": {
      "text/html": [
       "<img src=\"OPTICS_Clustering.png\" alt=\"plots\" style=\"display:block;margin-left:auto;margin-right:auto;width:50%;\">"
      ],
      "text/plain": [
       "<IPython.core.display.HTML object>"
      ]
     },
     "metadata": {},
     "output_type": "display_data"
    },
    {
     "data": {
      "text/html": [
       "<p style=\"font-size:11px;font-style:default;\">\n",
       "                     <center><b>\n",
       "                     Figure 16. OPTICS Clustering.</b>\n",
       "                     <br></center></p>"
      ],
      "text/plain": [
       "<IPython.core.display.HTML object>"
      ]
     },
     "metadata": {},
     "output_type": "display_data"
    }
   ],
   "source": [
    "cluster_labels = cluster_optics_dbscan(\n",
    "    reachability=optics.reachability_,\n",
    "    core_distances=optics.core_distances_,\n",
    "    ordering=optics.ordering_,\n",
    "    eps=80\n",
    ")\n",
    "plt.scatter(df_svd[:, 0], df_svd[:, 1], c=cluster_labels)\n",
    "plt.xlabel('SV1')\n",
    "plt.ylabel('SV2')\n",
    "plt.title('OPTICS Clustering')\n",
    "\n",
    "print('Number of clusters:', cluster_labels.max()+1)\n",
    "print('Number of noise points:', (cluster_labels == -1).sum())\n",
    "print('Number of points:', len(cluster_labels))\n",
    "\n",
    "# Save the plot as a PNG file\n",
    "plt.savefig(\"OPTICS_Clustering.png\")\n",
    "\n",
    "# Create an HTML img tag to display the image\n",
    "img_tag = (f'<img src=\"OPTICS_Clustering.png\" alt=\"plots\" style=\"display'\n",
    "           f':block;margin-left:auto;margin-right:auto;width:50%;\">')\n",
    "\n",
    "# Display the img tag in the Jupyter Notebook\n",
    "display(HTML(img_tag))\n",
    "plt.close()\n",
    "fig_caption('OPTICS Clustering', '')"
   ]
  },
  {
   "cell_type": "markdown",
   "id": "a501f80e",
   "metadata": {},
   "source": [
    "**Density-based Clustering** is not suitable for the dataset. The clustering produce are not useful for the recommender system."
   ]
  },
  {
   "cell_type": "markdown",
   "id": "bf97478e",
   "metadata": {},
   "source": [
    "<h3 style=\"color:#221F1F\">Representative Clustering</h3>\n",
    "\n",
    "***"
   ]
  },
  {
   "cell_type": "markdown",
   "id": "a441a702",
   "metadata": {},
   "source": [
    "We will first look into our clustering to analyze the results. We were able to identify two clustering approaches by utilizing two matrices. The first matrix is the original data set pivoted into the User-Movie Rating matrix, and the second was the completed matrix from the Collaborative Filtering-Coordinated Gradient Descent. Both results utilized K-Means as the best algorithm based on the internal validation tests and the quality of its output from the graphs."
   ]
  },
  {
   "cell_type": "code",
   "execution_count": 31,
   "id": "48756156",
   "metadata": {
    "ExecuteTime": {
     "end_time": "2023-03-12T10:23:29.360854Z",
     "start_time": "2023-03-12T10:23:29.345524Z"
    }
   },
   "outputs": [],
   "source": [
    "def cluster_range(X, clusterer, k_start, k_stop):\n",
    "    \"\"\" Function captures the cluster labels, cluster centers, internal \n",
    "    validation for the given clusterer. This will be computed \n",
    "    across each K based from start to stop and returns the lists in a \n",
    "    dictionary.\n",
    "    \"\"\"\n",
    "    ys = []\n",
    "    centers = []\n",
    "    inertias = []\n",
    "    chs = []\n",
    "    scs = []\n",
    "    dbs = []\n",
    "    for k in tqdm(range(k_start, k_stop+1)):\n",
    "        clusterer_k = clone(clusterer)\n",
    "        clusterer_k.n_clusters = k\n",
    "        clusterer_k.fit(X)\n",
    "        y = clusterer_k.labels_\n",
    "        ys.append(y)\n",
    "        chs.append(calinski_harabasz_score(X, y))\n",
    "        scs.append(silhouette_score(X, y, random_state=1337))\n",
    "        dbs.append(davies_bouldin_score(X, y))\n",
    "        centers.append(clusterer_k.cluster_centers_)\n",
    "        inertias.append(clusterer_k.inertia_)\n",
    "\n",
    "    ret_dict = {'ys': ys, 'centers': centers, 'inertias': inertias,\n",
    "                'chs': chs, 'scs': scs, 'dbs': dbs}\n",
    "\n",
    "    return ret_dict\n",
    "\n",
    "\n",
    "def plot_clusters(X_, ys, centers):\n",
    "    \"\"\"Plot clusters given the design matrix and cluster labels\"\"\"\n",
    "    k_max = len(ys) + 1\n",
    "    k_mid = k_max//2 + 2\n",
    "    fig, ax = plt.subplots(2, k_max//2, dpi=150, sharex=True, sharey=True,\n",
    "                           figsize=(10, 4), subplot_kw=dict(aspect='equal'),\n",
    "                           gridspec_kw=dict(wspace=0.01))\n",
    "\n",
    "    for k, y_, cs in zip(range(2, k_max+1), ys, centers):\n",
    "\n",
    "        if k < k_mid:\n",
    "            ax[0][k % k_mid-2].scatter(*zip(*X_), c=y_, s=1, alpha=0.8)\n",
    "            ax[0][k % k_mid-2].scatter(\n",
    "                cs[:, 0],\n",
    "                cs[:, 1],\n",
    "                s=10,\n",
    "                c=range(int(max(y_)) + 1),\n",
    "                marker='s',\n",
    "                ec='k',\n",
    "                lw=1\n",
    "            )\n",
    "            ax[0][k % k_mid-2].set_title('$k=%d$' % k)\n",
    "        else:\n",
    "            ax[1][k % k_mid].scatter(*zip(*X_), c=y_, s=1, alpha=0.8)\n",
    "            ax[1][k % k_mid].scatter(\n",
    "                cs[:, 0],\n",
    "                cs[:, 1],\n",
    "                s=10,\n",
    "                c=range(int(max(y_))+1),\n",
    "                marker='s',\n",
    "                ec='k',\n",
    "                lw=1\n",
    "            )\n",
    "            ax[1][k % k_mid].set_title('$k=%d$' % k)\n",
    "\n",
    "    return ax\n",
    "\n",
    "\n",
    "def plot_internal(inertias, chs, scs, dbs):\n",
    "    \"\"\"Plot internal validation values\"\"\"\n",
    "    fig, ax = plt.subplots()\n",
    "    ks = np.arange(2, len(inertias)+2)\n",
    "    ax.plot(ks, inertias, '-o', label='SSE')\n",
    "    ax.plot(ks, chs, '-ro', label='CH')\n",
    "    ax.set_xlabel('$k$')\n",
    "#     ax.set_ylabel('SSE/CH')\n",
    "    lines, labels = ax.get_legend_handles_labels()\n",
    "    ax2 = ax.twinx()\n",
    "    ax2.plot(ks, scs, '-ko', label='Silhouette coefficient')\n",
    "    ax2.plot(ks, dbs, '-gs', label='DB')\n",
    "    ax2.set_ylabel('Silhouette/DB')\n",
    "    lines2, labels2 = ax2.get_legend_handles_labels()\n",
    "    ax2.legend(lines+lines2, labels+labels2)\n",
    "\n",
    "    return ax"
   ]
  },
  {
   "cell_type": "code",
   "execution_count": 32,
   "id": "abb46941",
   "metadata": {
    "ExecuteTime": {
     "end_time": "2023-03-12T10:23:39.732094Z",
     "start_time": "2023-03-12T10:23:29.363282Z"
    }
   },
   "outputs": [
    {
     "name": "stderr",
     "output_type": "stream",
     "text": [
      "100%|██████████| 10/10 [00:10<00:00,  1.04s/it]\n"
     ]
    }
   ],
   "source": [
    "res = cluster_range(df_svd, KMeans(random_state=214), 2, 11)"
   ]
  },
  {
   "cell_type": "code",
   "execution_count": 33,
   "id": "3404dfcd",
   "metadata": {
    "ExecuteTime": {
     "end_time": "2023-03-12T10:23:40.965655Z",
     "start_time": "2023-03-12T10:23:39.824648Z"
    }
   },
   "outputs": [
    {
     "data": {
      "text/html": [
       "<img src=\"Clustering_GridSearch_Plot.png\" alt=\"plots\" style=\"display:block;margin-left:auto;margin-right:auto;width:100%;\">"
      ],
      "text/plain": [
       "<IPython.core.display.HTML object>"
      ]
     },
     "metadata": {},
     "output_type": "display_data"
    },
    {
     "data": {
      "text/html": [
       "<p style=\"font-size:11px;font-style:default;\">\n",
       "                     <center><b>\n",
       "                     Figure 17. Clustering of users by K-Means (k=2 to k=11).</b>\n",
       "                     <br></center></p>"
      ],
      "text/plain": [
       "<IPython.core.display.HTML object>"
      ]
     },
     "metadata": {},
     "output_type": "display_data"
    }
   ],
   "source": [
    "plot_clusters(df_svd[:, :2], res['ys'], res['centers'])\n",
    "\n",
    "# Save the plot as a PNG file\n",
    "plt.savefig(\"Clustering_GridSearch_Plot.png\")\n",
    "\n",
    "# Create an HTML img tag to display the image\n",
    "img_tag = (f'<img src=\"Clustering_GridSearch_Plot.png\" alt=\"plots\" '\n",
    "           f'style=\"display:block;margin-left:auto;'\n",
    "           f'margin-right:auto;width:100%;\">')\n",
    "\n",
    "# Display the img tag in the Jupyter Notebook\n",
    "display(HTML(img_tag))\n",
    "plt.close()\n",
    "fig_caption('Clustering of users by K-Means (k=2 to k=11)', '')"
   ]
  },
  {
   "cell_type": "code",
   "execution_count": 34,
   "id": "04a9fd2c",
   "metadata": {
    "ExecuteTime": {
     "end_time": "2023-03-12T10:23:41.108372Z",
     "start_time": "2023-03-12T10:23:40.967822Z"
    }
   },
   "outputs": [
    {
     "data": {
      "text/html": [
       "<img src=\"Clustering_InternalValidation_Plot.jpg\" alt=\"plots\"style=\"display:block;margin-left:auto;margin-right:auto;width:50%;\">"
      ],
      "text/plain": [
       "<IPython.core.display.HTML object>"
      ]
     },
     "metadata": {},
     "output_type": "display_data"
    },
    {
     "data": {
      "text/html": [
       "<p style=\"font-size:11px;font-style:default;\">\n",
       "                     <center><b>\n",
       "                     Figure 18. Internal Validation of K-Means Clustering (k=2 to k=11).</b>\n",
       "                     <br></center></p>"
      ],
      "text/plain": [
       "<IPython.core.display.HTML object>"
      ]
     },
     "metadata": {},
     "output_type": "display_data"
    }
   ],
   "source": [
    "#Plot internal validation scores\n",
    "plot_internal(res['inertias'], res['chs'], \n",
    "              res['scs'], res['dbs'])\n",
    "plt.title('Internal Validation Scores for Movie Lens')\n",
    "\n",
    "# Save the plot as a PNG file\n",
    "plt.savefig(\"Clustering_InternalValidation_Plot.jpg\")\n",
    "\n",
    "# Create an HTML img tag to display the image\n",
    "img_tag = (f'<img src=\"Clustering_InternalValidation_Plot.jpg\" alt=\"plots\"'\n",
    "           f'style=\"display:block;margin-left:auto;margin-right:auto;'\n",
    "           f'width:50%;\">')\n",
    "\n",
    "# Display the img tag in the Jupyter Notebook\n",
    "display(HTML(img_tag))\n",
    "plt.close()\n",
    "fig_caption('Internal Validation of K-Means Clustering (k=2 to k=11)', '')"
   ]
  },
  {
   "cell_type": "code",
   "execution_count": 35,
   "id": "22092589",
   "metadata": {
    "ExecuteTime": {
     "end_time": "2023-03-12T10:23:41.738465Z",
     "start_time": "2023-03-12T10:23:41.110220Z"
    }
   },
   "outputs": [
    {
     "data": {
      "text/html": [
       "<img src=\"Final_Clustering_Plot.png\" alt=\"plots\" style=\"display:block;margin-left:auto;margin-right:auto;width:70%;\">"
      ],
      "text/plain": [
       "<IPython.core.display.HTML object>"
      ]
     },
     "metadata": {},
     "output_type": "display_data"
    },
    {
     "data": {
      "text/html": [
       "<p style=\"font-size:11px;font-style:default;\">\n",
       "                     <center><b>\n",
       "                     Figure 19. K-Means Clustering at k=4.</b>\n",
       "                     <br></center></p>"
      ],
      "text/plain": [
       "<IPython.core.display.HTML object>"
      ]
     },
     "metadata": {},
     "output_type": "display_data"
    }
   ],
   "source": [
    "fig, ax = plt.subplots(figsize=(8, 8))\n",
    "km = KMeans(4, random_state=214)\n",
    "cluster_labels = km.fit_predict(df_svd)\n",
    "plt.scatter(df_svd[:, 0], df_svd[:, 1], c=cluster_labels, alpha=0.6)\n",
    "plt.xlabel('SV1')\n",
    "plt.ylabel('SV2')\n",
    "plt.title('K-Means Clustering at k=4')\n",
    "\n",
    "# Save the plot as a PNG file\n",
    "plt.savefig(\"Final_Clustering2_Plot.png\")\n",
    "\n",
    "# Create an HTML img tag to display the image\n",
    "img_tag = (f'<img src=\"Final_Clustering_Plot.png\" alt=\"plots\" style=\"display'\n",
    "           f':block;margin-left:auto;margin-right:auto;width:70%;\">')\n",
    "\n",
    "# Display the img tag in the Jupyter Notebook\n",
    "display(HTML(img_tag))\n",
    "plt.close()\n",
    "fig_caption('K-Means Clustering at k=4', '')"
   ]
  },
  {
   "cell_type": "markdown",
   "id": "34bd49d3",
   "metadata": {},
   "source": [
    "**K-Means** is suitable for the dataset we will use the results of this clustering moving forward."
   ]
  },
  {
   "cell_type": "markdown",
   "id": "4750decd",
   "metadata": {},
   "source": [
    "We also applied genres in both matrices; however, it did not impact the clustering given that we have 9724 columns defining each movie and only 20 columns for the genre, and the weight did not affect it. We also did a summation for each genre for each movie to give more weight to it."
   ]
  },
  {
   "cell_type": "markdown",
   "id": "7ca268da",
   "metadata": {},
   "source": [
    "We applied the same K-Means Clustering to the completed matrix of CGD."
   ]
  },
  {
   "cell_type": "code",
   "execution_count": 36,
   "id": "f2750c2b",
   "metadata": {
    "ExecuteTime": {
     "end_time": "2023-03-12T10:24:31.483763Z",
     "start_time": "2023-03-12T10:23:41.740700Z"
    }
   },
   "outputs": [
    {
     "data": {
      "text/html": [
       "<img src=\"CGD_Clustering_Plot.png\" alt=\"plots\" style=\"display:block;margin-left:auto;margin-right:auto;width:70%;\">"
      ],
      "text/plain": [
       "<IPython.core.display.HTML object>"
      ]
     },
     "metadata": {},
     "output_type": "display_data"
    },
    {
     "data": {
      "text/html": [
       "<p style=\"font-size:11px;font-style:default;\">\n",
       "                     <center><b>\n",
       "                     Figure 20. K-Means cluster for the Completed Matrix at k=5.</b>\n",
       "                     <br></center></p>"
      ],
      "text/plain": [
       "<IPython.core.display.HTML object>"
      ]
     },
     "metadata": {},
     "output_type": "display_data"
    }
   ],
   "source": [
    "df_lf_cgd = f_user_cgd@f_item_cgd.T\n",
    "svd = TruncatedSVD(n_components=df_lf_cgd.shape[1], random_state=214)\n",
    "X = RobustScaler().fit_transform(df_lf_cgd)\n",
    "X = np.where(np.isnan(X), 0, X)\n",
    "X_new = svd.fit_transform(X)\n",
    "\n",
    "fig, ax = plt.subplots(figsize=(8, 8))\n",
    "km = KMeans(5, random_state=214)\n",
    "cluster_labels = km.fit_predict(X_new)\n",
    "plt.scatter(X_new[:, 0], X_new[:, 1], c=cluster_labels, alpha=0.6)\n",
    "plt.xlabel('SV1')\n",
    "plt.ylabel('SV2')\n",
    "plt.title('K-Means cluster for the Completed Matrix at k=5')\n",
    "\n",
    "# Save the plot as a PNG file\n",
    "plt.savefig(\"CGD_Clustering_Plot.png\")\n",
    "\n",
    "# Create an HTML img tag to display the image\n",
    "img_tag = (f'<img src=\"CGD_Clustering_Plot.png\" alt=\"plots\" style=\"display'\n",
    "           f':block;margin-left:auto;margin-right:auto;width:70%;\">')\n",
    "\n",
    "# Display the img tag in the Jupyter Notebook\n",
    "display(HTML(img_tag))\n",
    "plt.close()\n",
    "fig_caption('K-Means cluster for the Completed Matrix at k=5', '')"
   ]
  },
  {
   "cell_type": "markdown",
   "id": "a04fa873",
   "metadata": {},
   "source": [
    "The second cluster result was the output of CGD, where we combined the user and movie matrix to get our User-Movie Rating matrix, where we assigned a 1% minimum change before it converges. We applied SVD to reduce the dimensions, and the results were surprising. We got almost 100% on just the first component. Given this, to project the data, we need a 99.97% reduction of two components. The clustering was able to group the users into different types of raters, where it rated movies on average between 2.56 to 4.22 on five different clusters. The distribution is also skewed towards the left side since the mean rating of the whole matrix is 3.43. The results can be maximized by studying the movies they watch and why they are always rated high or low. Are the recommendations with them really bad, or it's just their behavior and later on considering adding weight to these types of reviewers as this may affect collaborative filtering results. \n",
    " \n",
    "We also applied genres in both matrices; however, it did not impact the clustering given that we have 9724 columns defining each movie and only 20 columns for the genre, and the weight did not affect it. We also did a summation for each genre for each movie to give more weight to it."
   ]
  },
  {
   "cell_type": "markdown",
   "id": "1be54d6a",
   "metadata": {},
   "source": [
    "***\n",
    "<h2 style=\"color:#E50914\">Frequent Itemset Mining</h2>\n",
    "\n",
    "***"
   ]
  },
  {
   "cell_type": "markdown",
   "id": "86c776f8",
   "metadata": {},
   "source": [
    "We will use the pyFIM library for FIM to return the frequent itemsets, specifically the FPGrowth algorithm. \n",
    "The team used the following parameters: `target='s'`, `zmin=2`, `supp=5`, `report='a'`. Here we want the top three frequent itemsets with at least two genres, a minimum relative support of 5%, and we set it to return the absolute support. The following are the results. Included are the top 3 rated movies in each identified genre pair."
   ]
  },
  {
   "cell_type": "code",
   "execution_count": 37,
   "id": "55b1b338",
   "metadata": {
    "ExecuteTime": {
     "end_time": "2023-03-12T10:24:31.571777Z",
     "start_time": "2023-03-12T10:24:31.486774Z"
    }
   },
   "outputs": [],
   "source": [
    "df_fim = data.groupby('movieId').agg({'rating': ['mean', 'count'],\n",
    "                                      'genres': 'first', 'title': 'first'})\n",
    "df_fim.columns = df_fim.columns.droplevel(0)\n",
    "df_fim.columns = ['mean', 'count', 'genres', 'title']\n",
    "user_mean_rating = df_rating.mean()\n",
    "\n",
    "\n",
    "df_ohe = (df_fim[(df_fim['count'] >= user_lim)\n",
    "                 & (df_fim['mean'] >= user_mean_rating.tolist()[0])]['genres']\n",
    "          .str.get_dummies('|'))\n",
    "df_fim = pd.concat([df_fim, df_ohe], axis=1)\n",
    "db = df_ohe.apply(lambda x: set(x.index[x == 1]), axis=1)\n",
    "db_list = db.to_list()"
   ]
  },
  {
   "cell_type": "markdown",
   "id": "59916fa9",
   "metadata": {},
   "source": [
    "<h3 style=\"color:#221F1F\">Frequent Genre Pair</h3>\n",
    "\n",
    "***"
   ]
  },
  {
   "cell_type": "code",
   "execution_count": 38,
   "id": "413ff4f5",
   "metadata": {
    "ExecuteTime": {
     "end_time": "2023-03-12T10:24:31.581341Z",
     "start_time": "2023-03-12T10:24:31.574043Z"
    }
   },
   "outputs": [
    {
     "name": "stdout",
     "output_type": "stream",
     "text": [
      "Top 3 Frequent Genre Pair with Highest Absolute support:\n"
     ]
    },
    {
     "data": {
      "text/plain": [
       "[(('Adventure', 'Action'), 29),\n",
       " (('Crime', 'Drama'), 25),\n",
       " (('Crime', 'Thriller'), 24)]"
      ]
     },
     "metadata": {},
     "output_type": "display_data"
    }
   ],
   "source": [
    "freq_item = fim.fpgrowth(db_list, target='s', zmin=2, supp=5, report='a')\n",
    "freq_item = sorted(freq_item, key=lambda x: (-x[1], sorted(x[0])))[:3]\n",
    "print(\"Top 3 Frequent Genre Pair with Highest Absolute support:\")\n",
    "display(freq_item)"
   ]
  },
  {
   "cell_type": "markdown",
   "id": "3a916c78",
   "metadata": {},
   "source": [
    "**Let see what are the top rated movies for these genre pair**"
   ]
  },
  {
   "cell_type": "code",
   "execution_count": 39,
   "id": "ee87bbeb",
   "metadata": {
    "ExecuteTime": {
     "end_time": "2023-03-12T10:24:31.610698Z",
     "start_time": "2023-03-12T10:24:31.583303Z"
    },
    "scrolled": false
   },
   "outputs": [
    {
     "name": "stdout",
     "output_type": "stream",
     "text": [
      "Top 3 Rated Movies in (Adventure, Action) Genre.\n"
     ]
    },
    {
     "data": {
      "text/html": [
       "<div>\n",
       "<style scoped>\n",
       "    .dataframe tbody tr th:only-of-type {\n",
       "        vertical-align: middle;\n",
       "    }\n",
       "\n",
       "    .dataframe tbody tr th {\n",
       "        vertical-align: top;\n",
       "    }\n",
       "\n",
       "    .dataframe thead th {\n",
       "        text-align: right;\n",
       "    }\n",
       "</style>\n",
       "<table border=\"1\" class=\"dataframe\">\n",
       "  <thead>\n",
       "    <tr style=\"text-align: right;\">\n",
       "      <th></th>\n",
       "      <th>mean</th>\n",
       "      <th>title</th>\n",
       "    </tr>\n",
       "    <tr>\n",
       "      <th>movieId</th>\n",
       "      <th></th>\n",
       "      <th></th>\n",
       "    </tr>\n",
       "  </thead>\n",
       "  <tbody>\n",
       "    <tr>\n",
       "      <th>1196</th>\n",
       "      <td>4.244292</td>\n",
       "      <td>Star Wars: Episode V - The Empire Strikes Back (1980)</td>\n",
       "    </tr>\n",
       "    <tr>\n",
       "      <th>260</th>\n",
       "      <td>4.244275</td>\n",
       "      <td>Star Wars: Episode IV - A New Hope (1977)</td>\n",
       "    </tr>\n",
       "    <tr>\n",
       "      <th>1197</th>\n",
       "      <td>4.234266</td>\n",
       "      <td>Princess Bride, The (1987)</td>\n",
       "    </tr>\n",
       "  </tbody>\n",
       "</table>\n",
       "</div>"
      ],
      "text/plain": [
       "             mean                                                  title\n",
       "movieId                                                                 \n",
       "1196     4.244292  Star Wars: Episode V - The Empire Strikes Back (1980)\n",
       "260      4.244275              Star Wars: Episode IV - A New Hope (1977)\n",
       "1197     4.234266                             Princess Bride, The (1987)"
      ]
     },
     "metadata": {},
     "output_type": "display_data"
    },
    {
     "name": "stdout",
     "output_type": "stream",
     "text": [
      "\n",
      "\n",
      "\n",
      "Top 3 Rated Movies in (Crime, Drama) Genre.\n"
     ]
    },
    {
     "data": {
      "text/html": [
       "<div>\n",
       "<style scoped>\n",
       "    .dataframe tbody tr th:only-of-type {\n",
       "        vertical-align: middle;\n",
       "    }\n",
       "\n",
       "    .dataframe tbody tr th {\n",
       "        vertical-align: top;\n",
       "    }\n",
       "\n",
       "    .dataframe thead th {\n",
       "        text-align: right;\n",
       "    }\n",
       "</style>\n",
       "<table border=\"1\" class=\"dataframe\">\n",
       "  <thead>\n",
       "    <tr style=\"text-align: right;\">\n",
       "      <th></th>\n",
       "      <th>mean</th>\n",
       "      <th>title</th>\n",
       "    </tr>\n",
       "    <tr>\n",
       "      <th>movieId</th>\n",
       "      <th></th>\n",
       "      <th></th>\n",
       "    </tr>\n",
       "  </thead>\n",
       "  <tbody>\n",
       "    <tr>\n",
       "      <th>296</th>\n",
       "      <td>4.487603</td>\n",
       "      <td>Pulp Fiction (1994)</td>\n",
       "    </tr>\n",
       "    <tr>\n",
       "      <th>318</th>\n",
       "      <td>4.432602</td>\n",
       "      <td>Shawshank Redemption, The (1994)</td>\n",
       "    </tr>\n",
       "    <tr>\n",
       "      <th>2959</th>\n",
       "      <td>4.402985</td>\n",
       "      <td>Fight Club (1999)</td>\n",
       "    </tr>\n",
       "  </tbody>\n",
       "</table>\n",
       "</div>"
      ],
      "text/plain": [
       "             mean                             title\n",
       "movieId                                            \n",
       "296      4.487603               Pulp Fiction (1994)\n",
       "318      4.432602  Shawshank Redemption, The (1994)\n",
       "2959     4.402985                 Fight Club (1999)"
      ]
     },
     "metadata": {},
     "output_type": "display_data"
    },
    {
     "name": "stdout",
     "output_type": "stream",
     "text": [
      "\n",
      "\n",
      "\n",
      "Top 3 Rated Movies in (Crime, Thriller) Genre.\n"
     ]
    },
    {
     "data": {
      "text/html": [
       "<div>\n",
       "<style scoped>\n",
       "    .dataframe tbody tr th:only-of-type {\n",
       "        vertical-align: middle;\n",
       "    }\n",
       "\n",
       "    .dataframe tbody tr th {\n",
       "        vertical-align: top;\n",
       "    }\n",
       "\n",
       "    .dataframe thead th {\n",
       "        text-align: right;\n",
       "    }\n",
       "</style>\n",
       "<table border=\"1\" class=\"dataframe\">\n",
       "  <thead>\n",
       "    <tr style=\"text-align: right;\">\n",
       "      <th></th>\n",
       "      <th>mean</th>\n",
       "      <th>title</th>\n",
       "    </tr>\n",
       "    <tr>\n",
       "      <th>movieId</th>\n",
       "      <th></th>\n",
       "      <th></th>\n",
       "    </tr>\n",
       "  </thead>\n",
       "  <tbody>\n",
       "    <tr>\n",
       "      <th>296</th>\n",
       "      <td>4.487603</td>\n",
       "      <td>Pulp Fiction (1994)</td>\n",
       "    </tr>\n",
       "    <tr>\n",
       "      <th>2959</th>\n",
       "      <td>4.402985</td>\n",
       "      <td>Fight Club (1999)</td>\n",
       "    </tr>\n",
       "    <tr>\n",
       "      <th>48516</th>\n",
       "      <td>4.254386</td>\n",
       "      <td>Departed, The (2006)</td>\n",
       "    </tr>\n",
       "  </tbody>\n",
       "</table>\n",
       "</div>"
      ],
      "text/plain": [
       "             mean                 title\n",
       "movieId                                \n",
       "296      4.487603   Pulp Fiction (1994)\n",
       "2959     4.402985     Fight Club (1999)\n",
       "48516    4.254386  Departed, The (2006)"
      ]
     },
     "metadata": {},
     "output_type": "display_data"
    },
    {
     "name": "stdout",
     "output_type": "stream",
     "text": [
      "\n",
      "\n",
      "\n"
     ]
    }
   ],
   "source": [
    "for fi in freq_item[:3]:\n",
    "    print(f\"Top 3 Rated Movies in ({fi[0][0]}, {fi[0][1]}) Genre.\")\n",
    "    display(df_fim[(df_fim[fi[0][0]] == 1) & ((df_fim[fi[0][1]] == 1))]\n",
    "            [['mean', 'title']].sort_values(by='mean', ascending=False)[:3])\n",
    "    print(\"\\n\\n\")"
   ]
  },
  {
   "cell_type": "markdown",
   "id": "eb9faf76",
   "metadata": {},
   "source": [
    "<h3 style=\"color:#221F1F\">High Lift Antecedent-Consequent Genre Pair</h3>\n",
    "\n",
    "***"
   ]
  },
  {
   "cell_type": "markdown",
   "id": "b526f78b",
   "metadata": {},
   "source": [
    "Next, the team used the following parameters: `target=’r'`, `zmin=1`, `supp=-10`, `report=’aLC'`. Here we want the top three association rules with at least one antecedent genre to have an absolute minimum support of 10. So we set it to return the absolute support, fractional lift, and fractional confidence value. The following are the results. Included are the top three rated movies in each identified antecedent-consequent genre."
   ]
  },
  {
   "cell_type": "code",
   "execution_count": 40,
   "id": "05142ba6",
   "metadata": {
    "ExecuteTime": {
     "end_time": "2023-03-12T10:24:31.619835Z",
     "start_time": "2023-03-12T10:24:31.612609Z"
    }
   },
   "outputs": [
    {
     "name": "stdout",
     "output_type": "stream",
     "text": [
      "Top 3 Single-item Antecedent-Consequent Association Rule with Highest Lift:\n"
     ]
    },
    {
     "data": {
      "text/plain": [
       "[('Children', ('Animation',), 12, 927.7310924369749, 85.71428571428571),\n",
       " ('Thriller', ('Mystery',), 16, 303.8183694530444, 84.21052631578947),\n",
       " ('Drama', ('War',), 10, 199.13419913419915, 90.9090909090909)]"
      ]
     },
     "metadata": {},
     "output_type": "display_data"
    }
   ],
   "source": [
    "rules = fim.fpgrowth(db_list, target='r', zmin=1, supp=-10, report='aLC')\n",
    "rules = [r for r in rules if len(r[1]) <= 1]\n",
    "rules = sorted(rules, key=lambda x: (-x[3], -x[4]))[:10]\n",
    "print(\"Top 3 Single-item Antecedent-Consequent Association \"\n",
    "      \"Rule with Highest Lift:\")\n",
    "display(rules)"
   ]
  },
  {
   "cell_type": "markdown",
   "id": "a31df777",
   "metadata": {},
   "source": [
    "**Let see what are the top rated movies for these association rules**"
   ]
  },
  {
   "cell_type": "code",
   "execution_count": 41,
   "id": "9f1e25a0",
   "metadata": {
    "ExecuteTime": {
     "end_time": "2023-03-12T10:24:31.647372Z",
     "start_time": "2023-03-12T10:24:31.621857Z"
    }
   },
   "outputs": [
    {
     "name": "stdout",
     "output_type": "stream",
     "text": [
      "Top 3 Rated Movies in (Children, Animation) Genre.\n"
     ]
    },
    {
     "data": {
      "text/html": [
       "<div>\n",
       "<style scoped>\n",
       "    .dataframe tbody tr th:only-of-type {\n",
       "        vertical-align: middle;\n",
       "    }\n",
       "\n",
       "    .dataframe tbody tr th {\n",
       "        vertical-align: top;\n",
       "    }\n",
       "\n",
       "    .dataframe thead th {\n",
       "        text-align: right;\n",
       "    }\n",
       "</style>\n",
       "<table border=\"1\" class=\"dataframe\">\n",
       "  <thead>\n",
       "    <tr style=\"text-align: right;\">\n",
       "      <th></th>\n",
       "      <th>mean</th>\n",
       "      <th>title</th>\n",
       "    </tr>\n",
       "    <tr>\n",
       "      <th>movieId</th>\n",
       "      <th></th>\n",
       "      <th></th>\n",
       "    </tr>\n",
       "  </thead>\n",
       "  <tbody>\n",
       "    <tr>\n",
       "      <th>60069</th>\n",
       "      <td>4.084112</td>\n",
       "      <td>WALL·E (2008)</td>\n",
       "    </tr>\n",
       "    <tr>\n",
       "      <th>68954</th>\n",
       "      <td>3.978448</td>\n",
       "      <td>Up (2009)</td>\n",
       "    </tr>\n",
       "    <tr>\n",
       "      <th>6377</th>\n",
       "      <td>3.961268</td>\n",
       "      <td>Finding Nemo (2003)</td>\n",
       "    </tr>\n",
       "  </tbody>\n",
       "</table>\n",
       "</div>"
      ],
      "text/plain": [
       "             mean                title\n",
       "movieId                               \n",
       "60069    4.084112        WALL·E (2008)\n",
       "68954    3.978448            Up (2009)\n",
       "6377     3.961268  Finding Nemo (2003)"
      ]
     },
     "metadata": {},
     "output_type": "display_data"
    },
    {
     "name": "stdout",
     "output_type": "stream",
     "text": [
      "\n",
      "\n",
      "\n",
      "Top 3 Rated Movies in (Thriller, Mystery) Genre.\n"
     ]
    },
    {
     "data": {
      "text/html": [
       "<div>\n",
       "<style scoped>\n",
       "    .dataframe tbody tr th:only-of-type {\n",
       "        vertical-align: middle;\n",
       "    }\n",
       "\n",
       "    .dataframe tbody tr th {\n",
       "        vertical-align: top;\n",
       "    }\n",
       "\n",
       "    .dataframe thead th {\n",
       "        text-align: right;\n",
       "    }\n",
       "</style>\n",
       "<table border=\"1\" class=\"dataframe\">\n",
       "  <thead>\n",
       "    <tr style=\"text-align: right;\">\n",
       "      <th></th>\n",
       "      <th>mean</th>\n",
       "      <th>title</th>\n",
       "    </tr>\n",
       "    <tr>\n",
       "      <th>movieId</th>\n",
       "      <th></th>\n",
       "      <th></th>\n",
       "    </tr>\n",
       "  </thead>\n",
       "  <tbody>\n",
       "    <tr>\n",
       "      <th>50</th>\n",
       "      <td>4.252404</td>\n",
       "      <td>Usual Suspects, The (1995)</td>\n",
       "    </tr>\n",
       "    <tr>\n",
       "      <th>904</th>\n",
       "      <td>4.227273</td>\n",
       "      <td>Rear Window (1954)</td>\n",
       "    </tr>\n",
       "    <tr>\n",
       "      <th>1089</th>\n",
       "      <td>4.179856</td>\n",
       "      <td>Reservoir Dogs (1992)</td>\n",
       "    </tr>\n",
       "  </tbody>\n",
       "</table>\n",
       "</div>"
      ],
      "text/plain": [
       "             mean                       title\n",
       "movieId                                      \n",
       "50       4.252404  Usual Suspects, The (1995)\n",
       "904      4.227273          Rear Window (1954)\n",
       "1089     4.179856       Reservoir Dogs (1992)"
      ]
     },
     "metadata": {},
     "output_type": "display_data"
    },
    {
     "name": "stdout",
     "output_type": "stream",
     "text": [
      "\n",
      "\n",
      "\n",
      "Top 3 Rated Movies in (Drama, War) Genre.\n"
     ]
    },
    {
     "data": {
      "text/html": [
       "<div>\n",
       "<style scoped>\n",
       "    .dataframe tbody tr th:only-of-type {\n",
       "        vertical-align: middle;\n",
       "    }\n",
       "\n",
       "    .dataframe tbody tr th {\n",
       "        vertical-align: top;\n",
       "    }\n",
       "\n",
       "    .dataframe thead th {\n",
       "        text-align: right;\n",
       "    }\n",
       "</style>\n",
       "<table border=\"1\" class=\"dataframe\">\n",
       "  <thead>\n",
       "    <tr style=\"text-align: right;\">\n",
       "      <th></th>\n",
       "      <th>mean</th>\n",
       "      <th>title</th>\n",
       "    </tr>\n",
       "    <tr>\n",
       "      <th>movieId</th>\n",
       "      <th></th>\n",
       "      <th></th>\n",
       "    </tr>\n",
       "  </thead>\n",
       "  <tbody>\n",
       "    <tr>\n",
       "      <th>1208</th>\n",
       "      <td>4.219626</td>\n",
       "      <td>Apocalypse Now (1979)</td>\n",
       "    </tr>\n",
       "    <tr>\n",
       "      <th>527</th>\n",
       "      <td>4.181614</td>\n",
       "      <td>Schindler's List (1993)</td>\n",
       "    </tr>\n",
       "    <tr>\n",
       "      <th>356</th>\n",
       "      <td>4.155224</td>\n",
       "      <td>Forrest Gump (1994)</td>\n",
       "    </tr>\n",
       "  </tbody>\n",
       "</table>\n",
       "</div>"
      ],
      "text/plain": [
       "             mean                    title\n",
       "movieId                                   \n",
       "1208     4.219626    Apocalypse Now (1979)\n",
       "527      4.181614  Schindler's List (1993)\n",
       "356      4.155224      Forrest Gump (1994)"
      ]
     },
     "metadata": {},
     "output_type": "display_data"
    },
    {
     "name": "stdout",
     "output_type": "stream",
     "text": [
      "\n",
      "\n",
      "\n"
     ]
    }
   ],
   "source": [
    "for r in rules[:3]:\n",
    "    print(f\"Top 3 Rated Movies in ({r[0]}, {r[1][0]}) Genre.\")\n",
    "    display(df_fim[(df_fim[r[0]] == 1) & ((df_fim[r[1][0]] == 1))]\n",
    "            [['mean', 'title']].sort_values(by='mean', ascending=False)[:3])\n",
    "    print(\"\\n\\n\")"
   ]
  },
  {
   "cell_type": "markdown",
   "id": "7f774fbc",
   "metadata": {},
   "source": [
    "The team suggests this to movie genres to movie producers as these are the most likely genre combinations that users will review highly. "
   ]
  },
  {
   "cell_type": "markdown",
   "id": "4e66fd3f",
   "metadata": {},
   "source": [
    "***\n",
    "<h2 style=\"color:#E50914\">Recommender System</h2>\n",
    "\n",
    "***"
   ]
  },
  {
   "cell_type": "markdown",
   "id": "abb91b4d",
   "metadata": {},
   "source": [
    "For the study, we utilized three users from 3 different clusters: Almond the Chill Viewer (23 Reviews), Martin the Avid Rater (155 Reviews), and Paolo the Movie Maniac (1027 Reviews). We can use the profile we defined above from the earlier results. We want to focus directly on the users and utilize `DCG` and `NDCG` to check the quality of the results. All algorithms discussed in the class were applied, giving out the top 10 recommended movies. For all three users and the qualitative results will be discussed for each. We used `k=30` for users (`5%`) and movies (`3% for 1000`) for this exercise."
   ]
  },
  {
   "cell_type": "code",
   "execution_count": 42,
   "id": "5f10e1fe",
   "metadata": {
    "ExecuteTime": {
     "end_time": "2023-03-12T10:24:31.652609Z",
     "start_time": "2023-03-12T10:24:31.649504Z"
    }
   },
   "outputs": [],
   "source": [
    "users = [475, 387, 49]"
   ]
  },
  {
   "cell_type": "code",
   "execution_count": 43,
   "id": "63175d72",
   "metadata": {
    "ExecuteTime": {
     "end_time": "2023-03-12T10:24:31.662425Z",
     "start_time": "2023-03-12T10:24:31.654458Z"
    }
   },
   "outputs": [],
   "source": [
    "def dcg(df_utility, recos):\n",
    "    \"\"\"Function returns the total calculated DCG based on the recos rating \n",
    "    from the df_utility values. Returns the float value.\n",
    "    \"\"\"\n",
    "    dcg = []\n",
    "\n",
    "    for k, i in enumerate(df_utility.index):\n",
    "        dcg_ = df_utility.loc[i, recos[k]]\n",
    "        dcg.append((np.sum((2**dcg_ /\n",
    "                            np.log2(np.arange(2, len(dcg_)+2))))))\n",
    "#         dcg.append((np.sum((2**df_utility.loc[i, recos[k]] /\n",
    "#                         np.log2(np.arange(2, len(recos[k])+2))))))\n",
    "    return np.mean(dcg)\n",
    "\n",
    "\n",
    "def ndcg(df_utility, recos):\n",
    "    \"\"\"Function returns the total calculated NDCG based on the recos for DCG \n",
    "    and ranking all rating for IDCG for each user then rank and get similar \n",
    "    length of values against the recos from the df_utility values. Returns \n",
    "    the float value if NDCG\n",
    "    \"\"\"\n",
    "\n",
    "    dcg, idcg = 0, 0\n",
    "    d = 0\n",
    "\n",
    "    for k, i in enumerate(df_utility.index):\n",
    "        dcg_non_2 = -np.sort(\n",
    "            -df_utility.iloc[\n",
    "                df_utility.index.get_loc(i),\n",
    "                np.where(~np.isnan(df_utility.loc[i]))[0]])[:len(recos[k])]\n",
    "        dcg += (np.sum((2**df_utility.loc[i, recos[k]] /\n",
    "                        np.log2(np.arange(2, len(recos[k])+2)))))\n",
    "\n",
    "        idcg += (np.sum((2**(dcg_non_2) /\n",
    "                        np.log2(np.arange(2, len(dcg_non_2)+2)))))\n",
    "\n",
    "    d = dcg / idcg\n",
    "    return d"
   ]
  },
  {
   "cell_type": "markdown",
   "id": "b417e176",
   "metadata": {},
   "source": [
    "<h3 style=\"color:#221F1F\">Neighborhood-based Collaborative Filtering</h3>\n",
    "\n",
    "***"
   ]
  },
  {
   "cell_type": "markdown",
   "id": "a321413b",
   "metadata": {},
   "source": [
    "<h4 style=\"color:#7B7C7C\">User-based</h4>\n",
    "\n",
    "***"
   ]
  },
  {
   "cell_type": "markdown",
   "id": "0f68b2fc",
   "metadata": {},
   "source": [
    "The team used User-based Collaborative Filtering for the recommender system."
   ]
  },
  {
   "cell_type": "code",
   "execution_count": 44,
   "id": "0b56d3c5",
   "metadata": {
    "ExecuteTime": {
     "end_time": "2023-03-12T10:24:31.678991Z",
     "start_time": "2023-03-12T10:24:31.664593Z"
    }
   },
   "outputs": [],
   "source": [
    "def user_recommend(user, df_utility):\n",
    "    \"\"\"Do user-based neighborhood-based collaborative filtering.\"\"\"\n",
    "    df_mean_center = (df_utility -\n",
    "                      df_utility.mean(axis=1, skipna=True)\n",
    "                      .to_numpy().reshape(len(df_utility), 1))\n",
    "\n",
    "    df_mean = df_utility.mean(axis=1, skipna=True)\n",
    "    cols_ = df_utility.loc[user]\n",
    "    cols_u = set(cols_[~np.isnan(cols_)].index)\n",
    "    df_copy = df_utility.copy()\n",
    "    top_k = []\n",
    "\n",
    "    for i in range(len(df_mean_center)):\n",
    "        cols = df_mean_center.iloc[i]\n",
    "        if user != cols.name:\n",
    "            cols_i = set(cols[~np.isnan(cols)].index)\n",
    "            cols_ins = list(cols_i.intersection(cols_u))\n",
    "            if len(cols_ins) > 0:\n",
    "                cos = cosine(df_mean_center.loc[cols.name, cols_ins],\n",
    "                             df_mean_center.loc[user, cols_ins])\n",
    "                top_k.append([cols.name, cos])\n",
    "\n",
    "    top = sorted(top_k, key=lambda x: (x[1], x[0]))[:30]\n",
    "    top_ind = list(zip(*top))[0]\n",
    "    user_df = df_utility.loc[user]\n",
    "    unrated = user_df[np.isnan(user_df)].index\n",
    "\n",
    "    for i in unrated:\n",
    "        total_ = 0\n",
    "        sub_total_n = 0\n",
    "        sub_total_d = 0\n",
    "        if (np.isnan(df_mean_center\n",
    "                     .loc[top_ind, [i]].values).sum() != 31):\n",
    "            for key, val in enumerate(df_mean_center\n",
    "                                      .loc[top_ind, [i]].values):\n",
    "                if np.isnan(val) == False:\n",
    "                    sub_total_n += ((1 - top[key][1]) * val)[0]\n",
    "                    sub_total_d += ((1 - top[key][1]))\n",
    "\n",
    "        if sub_total_d != 0 and sub_total_n != 0:\n",
    "            total_ = df_mean.loc[user] + (sub_total_n / sub_total_d)\n",
    "        else:\n",
    "            total_ = np.nan\n",
    "\n",
    "        if total_ is not np.nan:\n",
    "            df_copy.loc[user, [i]] = total_\n",
    "\n",
    "    index = np.isnan(df_utility.loc[user]).index\n",
    "\n",
    "    cols_nan = set(unrated).intersection((df_copy.columns))\n",
    "\n",
    "    top_10 = (df_copy.loc[user, cols_nan].to_frame()\n",
    "                                         .sort_values([user, 'movieId'],\n",
    "                                                      ascending=[False, True])\n",
    "                                         .index[:10])\n",
    "\n",
    "    return top_10, df_copy.loc[[user]]"
   ]
  },
  {
   "cell_type": "code",
   "execution_count": 45,
   "id": "c554341b",
   "metadata": {
    "ExecuteTime": {
     "end_time": "2023-03-12T10:25:14.094043Z",
     "start_time": "2023-03-12T10:24:31.681075Z"
    }
   },
   "outputs": [],
   "source": [
    "user_based_recos = []\n",
    "for idx, user in enumerate(users):\n",
    "    user_based_reco, df_fill = user_recommend(user, df_utility)\n",
    "    user_based_recos.append(user_based_reco)\n",
    "    if idx == 0:\n",
    "        df_user_based = df_fill.copy()\n",
    "    else:\n",
    "        df_user_based = pd.concat([df_user_based, df_fill], axis=0)"
   ]
  },
  {
   "cell_type": "code",
   "execution_count": 46,
   "id": "acf8aeab",
   "metadata": {
    "ExecuteTime": {
     "end_time": "2023-03-12T10:25:14.116874Z",
     "start_time": "2023-03-12T10:25:14.096626Z"
    }
   },
   "outputs": [
    {
     "name": "stdout",
     "output_type": "stream",
     "text": [
      "The top 10 recommended movies for User 475 are the following:\n"
     ]
    },
    {
     "data": {
      "text/html": [
       "<div>\n",
       "<style scoped>\n",
       "    .dataframe tbody tr th:only-of-type {\n",
       "        vertical-align: middle;\n",
       "    }\n",
       "\n",
       "    .dataframe tbody tr th {\n",
       "        vertical-align: top;\n",
       "    }\n",
       "\n",
       "    .dataframe thead th {\n",
       "        text-align: right;\n",
       "    }\n",
       "</style>\n",
       "<table border=\"1\" class=\"dataframe\">\n",
       "  <thead>\n",
       "    <tr style=\"text-align: right;\">\n",
       "      <th></th>\n",
       "      <th>title</th>\n",
       "      <th>genres</th>\n",
       "    </tr>\n",
       "    <tr>\n",
       "      <th>movieId</th>\n",
       "      <th></th>\n",
       "      <th></th>\n",
       "    </tr>\n",
       "  </thead>\n",
       "  <tbody>\n",
       "    <tr>\n",
       "      <th>2542</th>\n",
       "      <td>Lock, Stock &amp; Two Smoking Barrels (1998)</td>\n",
       "      <td>Comedy|Crime|Thriller</td>\n",
       "    </tr>\n",
       "    <tr>\n",
       "      <th>3275</th>\n",
       "      <td>Boondock Saints, The (2000)</td>\n",
       "      <td>Action|Crime|Drama|Thriller</td>\n",
       "    </tr>\n",
       "    <tr>\n",
       "      <th>27831</th>\n",
       "      <td>Layer Cake (2004)</td>\n",
       "      <td>Crime|Drama|Thriller</td>\n",
       "    </tr>\n",
       "    <tr>\n",
       "      <th>4011</th>\n",
       "      <td>Snatch (2000)</td>\n",
       "      <td>Comedy|Crime|Thriller</td>\n",
       "    </tr>\n",
       "    <tr>\n",
       "      <th>1204</th>\n",
       "      <td>Lawrence of Arabia (1962)</td>\n",
       "      <td>Adventure|Drama|War</td>\n",
       "    </tr>\n",
       "    <tr>\n",
       "      <th>3471</th>\n",
       "      <td>Close Encounters of the Third Kind (1977)</td>\n",
       "      <td>Adventure|Drama|Sci-Fi</td>\n",
       "    </tr>\n",
       "    <tr>\n",
       "      <th>3543</th>\n",
       "      <td>Diner (1982)</td>\n",
       "      <td>Comedy|Drama</td>\n",
       "    </tr>\n",
       "    <tr>\n",
       "      <th>2997</th>\n",
       "      <td>Being John Malkovich (1999)</td>\n",
       "      <td>Comedy|Drama|Fantasy</td>\n",
       "    </tr>\n",
       "    <tr>\n",
       "      <th>750</th>\n",
       "      <td>Dr. Strangelove or: How I Learned to Stop Worrying and Love the Bomb (1964)</td>\n",
       "      <td>Comedy|War</td>\n",
       "    </tr>\n",
       "    <tr>\n",
       "      <th>922</th>\n",
       "      <td>Sunset Blvd. (a.k.a. Sunset Boulevard) (1950)</td>\n",
       "      <td>Drama|Film-Noir|Romance</td>\n",
       "    </tr>\n",
       "  </tbody>\n",
       "</table>\n",
       "</div>"
      ],
      "text/plain": [
       "                                                                               title  \\\n",
       "movieId                                                                                \n",
       "2542                                        Lock, Stock & Two Smoking Barrels (1998)   \n",
       "3275                                                     Boondock Saints, The (2000)   \n",
       "27831                                                              Layer Cake (2004)   \n",
       "4011                                                                   Snatch (2000)   \n",
       "1204                                                       Lawrence of Arabia (1962)   \n",
       "3471                                       Close Encounters of the Third Kind (1977)   \n",
       "3543                                                                    Diner (1982)   \n",
       "2997                                                     Being John Malkovich (1999)   \n",
       "750      Dr. Strangelove or: How I Learned to Stop Worrying and Love the Bomb (1964)   \n",
       "922                                    Sunset Blvd. (a.k.a. Sunset Boulevard) (1950)   \n",
       "\n",
       "                              genres  \n",
       "movieId                               \n",
       "2542           Comedy|Crime|Thriller  \n",
       "3275     Action|Crime|Drama|Thriller  \n",
       "27831           Crime|Drama|Thriller  \n",
       "4011           Comedy|Crime|Thriller  \n",
       "1204             Adventure|Drama|War  \n",
       "3471          Adventure|Drama|Sci-Fi  \n",
       "3543                    Comedy|Drama  \n",
       "2997            Comedy|Drama|Fantasy  \n",
       "750                       Comedy|War  \n",
       "922          Drama|Film-Noir|Romance  "
      ]
     },
     "metadata": {},
     "output_type": "display_data"
    },
    {
     "name": "stdout",
     "output_type": "stream",
     "text": [
      "\n",
      "\n",
      "\n",
      "The top 10 recommended movies for User 387 are the following:\n"
     ]
    },
    {
     "data": {
      "text/html": [
       "<div>\n",
       "<style scoped>\n",
       "    .dataframe tbody tr th:only-of-type {\n",
       "        vertical-align: middle;\n",
       "    }\n",
       "\n",
       "    .dataframe tbody tr th {\n",
       "        vertical-align: top;\n",
       "    }\n",
       "\n",
       "    .dataframe thead th {\n",
       "        text-align: right;\n",
       "    }\n",
       "</style>\n",
       "<table border=\"1\" class=\"dataframe\">\n",
       "  <thead>\n",
       "    <tr style=\"text-align: right;\">\n",
       "      <th></th>\n",
       "      <th>title</th>\n",
       "      <th>genres</th>\n",
       "    </tr>\n",
       "    <tr>\n",
       "      <th>movieId</th>\n",
       "      <th></th>\n",
       "      <th></th>\n",
       "    </tr>\n",
       "  </thead>\n",
       "  <tbody>\n",
       "    <tr>\n",
       "      <th>1203</th>\n",
       "      <td>12 Angry Men (1957)</td>\n",
       "      <td>Drama</td>\n",
       "    </tr>\n",
       "    <tr>\n",
       "      <th>174053</th>\n",
       "      <td>Black Mirror: White Christmas (2014)</td>\n",
       "      <td>Drama|Horror|Mystery|Sci-Fi|Thriller</td>\n",
       "    </tr>\n",
       "    <tr>\n",
       "      <th>177593</th>\n",
       "      <td>Three Billboards Outside Ebbing, Missouri (2017)</td>\n",
       "      <td>Crime|Drama</td>\n",
       "    </tr>\n",
       "    <tr>\n",
       "      <th>350</th>\n",
       "      <td>Client, The (1994)</td>\n",
       "      <td>Drama|Mystery|Thriller</td>\n",
       "    </tr>\n",
       "    <tr>\n",
       "      <th>3972</th>\n",
       "      <td>Legend of Drunken Master, The (Jui kuen II) (1994)</td>\n",
       "      <td>Action|Comedy</td>\n",
       "    </tr>\n",
       "    <tr>\n",
       "      <th>1616</th>\n",
       "      <td>Peacemaker, The (1997)</td>\n",
       "      <td>Action|Thriller|War</td>\n",
       "    </tr>\n",
       "    <tr>\n",
       "      <th>1620</th>\n",
       "      <td>Kiss the Girls (1997)</td>\n",
       "      <td>Crime|Drama|Mystery|Thriller</td>\n",
       "    </tr>\n",
       "    <tr>\n",
       "      <th>1687</th>\n",
       "      <td>Jackal, The (1997)</td>\n",
       "      <td>Action|Thriller</td>\n",
       "    </tr>\n",
       "    <tr>\n",
       "      <th>1711</th>\n",
       "      <td>Midnight in the Garden of Good and Evil (1997)</td>\n",
       "      <td>Crime|Drama|Mystery</td>\n",
       "    </tr>\n",
       "    <tr>\n",
       "      <th>1754</th>\n",
       "      <td>Fallen (1998)</td>\n",
       "      <td>Crime|Drama|Fantasy|Thriller</td>\n",
       "    </tr>\n",
       "  </tbody>\n",
       "</table>\n",
       "</div>"
      ],
      "text/plain": [
       "                                                      title  \\\n",
       "movieId                                                       \n",
       "1203                                    12 Angry Men (1957)   \n",
       "174053                 Black Mirror: White Christmas (2014)   \n",
       "177593     Three Billboards Outside Ebbing, Missouri (2017)   \n",
       "350                                      Client, The (1994)   \n",
       "3972     Legend of Drunken Master, The (Jui kuen II) (1994)   \n",
       "1616                                 Peacemaker, The (1997)   \n",
       "1620                                  Kiss the Girls (1997)   \n",
       "1687                                     Jackal, The (1997)   \n",
       "1711         Midnight in the Garden of Good and Evil (1997)   \n",
       "1754                                          Fallen (1998)   \n",
       "\n",
       "                                       genres  \n",
       "movieId                                        \n",
       "1203                                    Drama  \n",
       "174053   Drama|Horror|Mystery|Sci-Fi|Thriller  \n",
       "177593                            Crime|Drama  \n",
       "350                    Drama|Mystery|Thriller  \n",
       "3972                            Action|Comedy  \n",
       "1616                      Action|Thriller|War  \n",
       "1620             Crime|Drama|Mystery|Thriller  \n",
       "1687                          Action|Thriller  \n",
       "1711                      Crime|Drama|Mystery  \n",
       "1754             Crime|Drama|Fantasy|Thriller  "
      ]
     },
     "metadata": {},
     "output_type": "display_data"
    },
    {
     "name": "stdout",
     "output_type": "stream",
     "text": [
      "\n",
      "\n",
      "\n",
      "The top 10 recommended movies for User 49 are the following:\n"
     ]
    },
    {
     "data": {
      "text/html": [
       "<div>\n",
       "<style scoped>\n",
       "    .dataframe tbody tr th:only-of-type {\n",
       "        vertical-align: middle;\n",
       "    }\n",
       "\n",
       "    .dataframe tbody tr th {\n",
       "        vertical-align: top;\n",
       "    }\n",
       "\n",
       "    .dataframe thead th {\n",
       "        text-align: right;\n",
       "    }\n",
       "</style>\n",
       "<table border=\"1\" class=\"dataframe\">\n",
       "  <thead>\n",
       "    <tr style=\"text-align: right;\">\n",
       "      <th></th>\n",
       "      <th>title</th>\n",
       "      <th>genres</th>\n",
       "    </tr>\n",
       "    <tr>\n",
       "      <th>movieId</th>\n",
       "      <th></th>\n",
       "      <th></th>\n",
       "    </tr>\n",
       "  </thead>\n",
       "  <tbody>\n",
       "    <tr>\n",
       "      <th>968</th>\n",
       "      <td>Night of the Living Dead (1968)</td>\n",
       "      <td>Horror|Sci-Fi|Thriller</td>\n",
       "    </tr>\n",
       "    <tr>\n",
       "      <th>1327</th>\n",
       "      <td>Amityville Horror, The (1979)</td>\n",
       "      <td>Drama|Horror|Mystery|Thriller</td>\n",
       "    </tr>\n",
       "    <tr>\n",
       "      <th>1407</th>\n",
       "      <td>Scream (1996)</td>\n",
       "      <td>Comedy|Horror|Mystery|Thriller</td>\n",
       "    </tr>\n",
       "    <tr>\n",
       "      <th>1924</th>\n",
       "      <td>Plan 9 from Outer Space (1959)</td>\n",
       "      <td>Horror|Sci-Fi</td>\n",
       "    </tr>\n",
       "    <tr>\n",
       "      <th>2513</th>\n",
       "      <td>Pet Sematary (1989)</td>\n",
       "      <td>Horror</td>\n",
       "    </tr>\n",
       "    <tr>\n",
       "      <th>2867</th>\n",
       "      <td>Fright Night (1985)</td>\n",
       "      <td>Comedy|Horror|Thriller</td>\n",
       "    </tr>\n",
       "    <tr>\n",
       "      <th>3072</th>\n",
       "      <td>Moonstruck (1987)</td>\n",
       "      <td>Comedy|Romance</td>\n",
       "    </tr>\n",
       "    <tr>\n",
       "      <th>2700</th>\n",
       "      <td>South Park: Bigger, Longer and Uncut (1999)</td>\n",
       "      <td>Animation|Comedy|Musical</td>\n",
       "    </tr>\n",
       "    <tr>\n",
       "      <th>1292</th>\n",
       "      <td>Being There (1979)</td>\n",
       "      <td>Comedy|Drama</td>\n",
       "    </tr>\n",
       "    <tr>\n",
       "      <th>4789</th>\n",
       "      <td>Phantom of the Paradise (1974)</td>\n",
       "      <td>Comedy|Fantasy|Horror|Musical|Thriller</td>\n",
       "    </tr>\n",
       "  </tbody>\n",
       "</table>\n",
       "</div>"
      ],
      "text/plain": [
       "                                               title  \\\n",
       "movieId                                                \n",
       "968                  Night of the Living Dead (1968)   \n",
       "1327                   Amityville Horror, The (1979)   \n",
       "1407                                   Scream (1996)   \n",
       "1924                  Plan 9 from Outer Space (1959)   \n",
       "2513                             Pet Sematary (1989)   \n",
       "2867                             Fright Night (1985)   \n",
       "3072                               Moonstruck (1987)   \n",
       "2700     South Park: Bigger, Longer and Uncut (1999)   \n",
       "1292                              Being There (1979)   \n",
       "4789                  Phantom of the Paradise (1974)   \n",
       "\n",
       "                                         genres  \n",
       "movieId                                          \n",
       "968                      Horror|Sci-Fi|Thriller  \n",
       "1327              Drama|Horror|Mystery|Thriller  \n",
       "1407             Comedy|Horror|Mystery|Thriller  \n",
       "1924                              Horror|Sci-Fi  \n",
       "2513                                     Horror  \n",
       "2867                     Comedy|Horror|Thriller  \n",
       "3072                             Comedy|Romance  \n",
       "2700                   Animation|Comedy|Musical  \n",
       "1292                               Comedy|Drama  \n",
       "4789     Comedy|Fantasy|Horror|Musical|Thriller  "
      ]
     },
     "metadata": {},
     "output_type": "display_data"
    },
    {
     "name": "stdout",
     "output_type": "stream",
     "text": [
      "\n",
      "\n",
      "\n"
     ]
    }
   ],
   "source": [
    "for idx in range(3):\n",
    "    print(f\"The top 10 recommended movies for User {users[idx]} \"\n",
    "          f\"are the following:\")\n",
    "    display(df_title.loc[user_based_recos[idx]])\n",
    "    print(\"\\n\\n\")"
   ]
  },
  {
   "cell_type": "code",
   "execution_count": 47,
   "id": "59ff0eff",
   "metadata": {
    "ExecuteTime": {
     "end_time": "2023-03-12T10:25:14.129384Z",
     "start_time": "2023-03-12T10:25:14.118676Z"
    }
   },
   "outputs": [
    {
     "name": "stdout",
     "output_type": "stream",
     "text": [
      "The DCG of User-based Collaborative Filtering Recommender System is : 334.3870\n",
      "The NDCG of User-based Collaborative Filtering Recommender System is: 0.9952\n"
     ]
    }
   ],
   "source": [
    "print(f\"The DCG of User-based Collaborative Filtering Recommender System is :\"\n",
    "      f\" {dcg(df_user_based, user_based_recos):.4f}\" )\n",
    "print(f\"The NDCG of User-based Collaborative Filtering Recommender System is:\"\n",
    "      f\" {ndcg(df_user_based, user_based_recos):.4f}\")"
   ]
  },
  {
   "cell_type": "markdown",
   "id": "a6787b4c",
   "metadata": {},
   "source": [
    "The results of the user-based algorithm reflected most of the movies geared towards the top genre, which are Drama, Thriller, and Comedy, given that similar users have most likely rated these types of movies. We can see the moves for each user where 70-100% of the movies have this genre recommended. Their top genres are still considered, but this is still dependent on their neighbors. We can see other genres don't have recommendations in the top 10 and prioritize other highly rated movies along with how old they are given the order of the ids."
   ]
  },
  {
   "cell_type": "markdown",
   "id": "41af0a06",
   "metadata": {},
   "source": [
    "<h4 style=\"color:#7B7C7C\">Item-based</h4>\n",
    "\n",
    "***"
   ]
  },
  {
   "cell_type": "markdown",
   "id": "62cf9249",
   "metadata": {
    "ExecuteTime": {
     "end_time": "2023-03-12T05:32:10.355145Z",
     "start_time": "2023-03-12T05:32:10.349230Z"
    }
   },
   "source": [
    "The team used Item-based Collaborative Filtering for the recommender system."
   ]
  },
  {
   "cell_type": "code",
   "execution_count": 48,
   "id": "78bd5c24",
   "metadata": {
    "ExecuteTime": {
     "end_time": "2023-03-12T10:25:14.143071Z",
     "start_time": "2023-03-12T10:25:14.131460Z"
    }
   },
   "outputs": [],
   "source": [
    "def item_recommend(user, df_utility):\n",
    "    \"\"\"Do Item-based Neighborhood-based Collaborative Filtering.\"\"\"\n",
    "    df_utility = df_utility.iloc[:, 2000:3000]\n",
    "    df_mean_center = (df_utility -\n",
    "                      df_utility.mean(axis=1, skipna=True)\n",
    "                      .to_numpy().reshape(len(df_utility), 1)).T\n",
    "\n",
    "    df_mean = df_utility.mean(axis=1, skipna=True)\n",
    "    df_copy = df_utility.copy().T\n",
    "\n",
    "    for i in tqdm(range(len(df_mean_center))):\n",
    "\n",
    "        df_i = df_mean_center.iloc[i]\n",
    "\n",
    "        if np.isnan(df_utility.loc[user, df_i.name]):\n",
    "            col_i = set(df_i[~np.isnan(df_i)].index)\n",
    "            top_k = []\n",
    "            for j in range(len(df_mean_center)):\n",
    "                if i != j:\n",
    "                    df_j = df_mean_center.iloc[j]\n",
    "                    col_j = set(df_i[~np.isnan(df_j)].index)\n",
    "                    col_ins = list(col_i.intersection(col_j))\n",
    "                    if len(col_ins) > 0:\n",
    "\n",
    "                        cos = cosine(df_mean_center.loc[df_i.name, col_ins],\n",
    "                                     df_mean_center.loc[df_j.name, col_ins])\n",
    "\n",
    "                        top_k.append([df_j.name, cos])\n",
    "\n",
    "            top = sorted(top_k, key=lambda x: (x[1], x[0]))[:30]\n",
    "            if len(top) > 0:\n",
    "\n",
    "                top_ind = list(zip(*top))[0]\n",
    "                total_ = 0\n",
    "                sub_total_n = 0\n",
    "                sub_total_d = 0\n",
    "                is_nan = np.isnan(df_mean_center.loc[top_ind, [user]])\n",
    "                if (is_nan.sum().values != 30):\n",
    "                    for key, val in enumerate(df_mean_center\n",
    "                                              .loc[top_ind, [user]].values):\n",
    "\n",
    "                        if np.isnan(val) == False:\n",
    "                            sub_total_n += ((1 - top[key][1]) * val)[0]\n",
    "                            sub_total_d += ((1 - top[key][1]))\n",
    "\n",
    "                    if sub_total_d != 0 and sub_total_n != 0:\n",
    "                        total_ = df_mean.loc[user] + \\\n",
    "                            (sub_total_n / sub_total_d)\n",
    "                    else:\n",
    "                        total_ = np.nan\n",
    "\n",
    "                    if total_ is not np.nan:\n",
    "                        df_copy.loc[df_i.name, [user]] = total_\n",
    "\n",
    "    df_out = df_copy.T\n",
    "    index = np.isnan(df_utility.loc[user]).index\n",
    "    cols_nan = set(index).intersection((df_out.columns))\n",
    "    top_10 = (df_out.loc[user, cols_nan].to_frame()\n",
    "              .sort_values([user, 'movieId'],\n",
    "                           ascending=[False, True])\n",
    "              .index[:10])\n",
    "\n",
    "    return top_10, df_out.loc[user]"
   ]
  },
  {
   "cell_type": "code",
   "execution_count": 49,
   "id": "2f0b7433",
   "metadata": {
    "ExecuteTime": {
     "end_time": "2023-03-12T10:59:01.626421Z",
     "start_time": "2023-03-12T10:25:14.145021Z"
    }
   },
   "outputs": [
    {
     "name": "stderr",
     "output_type": "stream",
     "text": [
      "100%|██████████| 1000/1000 [11:55<00:00,  1.40it/s]\n",
      "100%|██████████| 1000/1000 [09:41<00:00,  1.72it/s]\n",
      "100%|██████████| 1000/1000 [12:10<00:00,  1.37it/s]\n"
     ]
    }
   ],
   "source": [
    "df_item_based = df_utility.iloc[:,2000:3000]\n",
    "\n",
    "top_10_cf_item_475, df_cf_item_475 = item_recommend(475 , df_utility)\n",
    "top_10_cf_item_387, df_cf_item_387 = item_recommend(387 , df_utility)\n",
    "top_10_cf_item_49, df_cf_item_49 = item_recommend(49 , df_utility)\n",
    "df_item_based.loc[475] = df_cf_item_475\n",
    "df_item_based.loc[387] = df_cf_item_387\n",
    "df_item_based.loc[49] = df_cf_item_49"
   ]
  },
  {
   "cell_type": "code",
   "execution_count": 59,
   "id": "53bffedb",
   "metadata": {
    "ExecuteTime": {
     "end_time": "2023-03-12T11:03:20.362809Z",
     "start_time": "2023-03-12T11:03:20.347191Z"
    }
   },
   "outputs": [
    {
     "name": "stdout",
     "output_type": "stream",
     "text": [
      "The DCG of Item-based Collaborative Filtering Recommender System is : inf\n",
      "The NDCG of Item-based Collaborative Filtering Recommender System is: nan\n"
     ]
    }
   ],
   "source": [
    "# Calculating for DCG and NCDG of item-based\n",
    "dcg_item = dcg(df_item_based.loc[[475, 387]],\n",
    "               [top_10_cf_item_475, top_10_cf_item_387])\n",
    "ndcg_item = ndcg(df_item_based.loc[[475, 387]],\n",
    "                 [top_10_cf_item_475, top_10_cf_item_387])\n",
    "\n",
    "print(f\"The DCG of Item-based Collaborative Filtering Recommender System is :\"\n",
    "      f\" {dcg_item:.4f}\" )\n",
    "print(f\"The NDCG of Item-based Collaborative Filtering Recommender System is:\"\n",
    "      f\" {ndcg_item:.4f}\")"
   ]
  },
  {
   "cell_type": "markdown",
   "id": "6e181287",
   "metadata": {},
   "source": [
    "The item-based filter is based on 1000 movies for us to run it realistically. Running the whole itemset of 9724 movies for one user requires 16+ hrs to finish. In this scenario, it depends on the matching movies rated. This one has the lowest quality of recommendations given that there are not many ratings from their reviews except for Paolo, our most active reviewer, where it has the most qualitative recommendation. Martin got some recommendations; however, the scores are small. Since the reviews are limited along with the related items, the values are too small, causing the DCG/NDCG calculations to go to infinity/nan. Almond did not get any recommendations because Almond has reviewed no movies in this data, and it cannot rank any related items given this; hence the outcome is just sorted based on the movieid not relating to any preference. We also need to note that this reflects the cold start problem where the recommendations are not yet of good quality given that the information gathered was insufficient and may need to consider other algorithms."
   ]
  },
  {
   "cell_type": "markdown",
   "id": "035a9dc3",
   "metadata": {},
   "source": [
    "<h3 style=\"color:#221F1F\">Latent Factor-based Collaborative Filetering</h3>\n",
    "\n",
    "***"
   ]
  },
  {
   "cell_type": "markdown",
   "id": "a06d9502",
   "metadata": {},
   "source": [
    "<h4 style=\"color:#7B7C7C\">Alternating Least Squares (ALS) Method</h4>\n",
    "\n",
    "***"
   ]
  },
  {
   "cell_type": "markdown",
   "id": "51d4dd82",
   "metadata": {},
   "source": [
    "The team used ALS Method in Latent Factor-based Collaborative Filtering for the recommender system."
   ]
  },
  {
   "cell_type": "code",
   "execution_count": 60,
   "id": "76a44219",
   "metadata": {
    "ExecuteTime": {
     "end_time": "2023-03-12T11:03:20.375624Z",
     "start_time": "2023-03-12T11:03:20.365779Z"
    }
   },
   "outputs": [],
   "source": [
    "def als(M, k, tol):\n",
    "    \"\"\"Do ALS Method of Latent-Factor based Collaborative Filtering.\"\"\"\n",
    "    M = M.to_numpy()\n",
    "    num_users, num_items = M.shape\n",
    "\n",
    "    # Initialize the feature matrices to all ones\n",
    "    U = np.ones((num_users, k))\n",
    "    V = np.ones((k, num_items))\n",
    "\n",
    "    pred_M = U.dot(V)\n",
    "    rmse = np.sqrt(np.nanmean((M - pred_M) ** 2))\n",
    "\n",
    "    while rmse > tol:\n",
    "\n",
    "        for i in range(M.shape[1]):\n",
    "            non_nan = M[:, i]**2 >= 0\n",
    "            lr = LinearRegression(fit_intercept=False).fit(\n",
    "                U[non_nan], M[non_nan, i])\n",
    "            V[:, i] = lr.coef_\n",
    "\n",
    "        for i in range(M.shape[0]):\n",
    "            non_nan = M[i, :]**2 >= 0\n",
    "            lr = LinearRegression(fit_intercept=False).fit(\n",
    "                V.T[non_nan], M[i, non_nan])\n",
    "            U[i, :] = lr.coef_\n",
    "\n",
    "        pred_M = U.dot(V)\n",
    "        rmse = np.sqrt(np.nanmean((M - pred_M) ** 2))\n",
    "\n",
    "    return U, V.T\n",
    "\n",
    "\n",
    "def recommend_als(user, df_utility, f_user, f_item, N):\n",
    "    '''\n",
    "    Accepts the index of the user, utility matrix,  𝐅𝑢𝑠𝑒𝑟 and  𝐅𝑖𝑡𝑒𝑚 then\n",
    "    returns a list of n recommended unrated items to user sorted from most\n",
    "    recommended to least then by joke id\n",
    "    '''\n",
    "    df_completed = pd.DataFrame(np.matmul(f_user, f_item.T),\n",
    "                                columns=df_utility.columns,\n",
    "                                index=df_utility.index)\n",
    "    df = pd.concat([df_utility.loc[user], df_completed.loc[user]],\n",
    "                   axis=1).T.reset_index(drop=True)\n",
    "    df = df[df.columns[df.isna().any()]]\n",
    "    reco = df.loc[1].sort_values(ascending=False)[:N].index.to_list()\n",
    "    return reco"
   ]
  },
  {
   "cell_type": "code",
   "execution_count": 61,
   "id": "16018c2a",
   "metadata": {
    "ExecuteTime": {
     "end_time": "2023-03-12T11:04:21.927451Z",
     "start_time": "2023-03-12T11:03:20.377652Z"
    }
   },
   "outputs": [],
   "source": [
    "f_user_als, f_item_als = als(df_utility, 30, 1)\n",
    "\n",
    "top_10_cf_als_475 = recommend_als(475, df_utility, f_user_als, f_item_als, 10)\n",
    "top_10_cf_als_387 = recommend_als(387, df_utility, f_user_als, f_item_als, 10)\n",
    "top_10_cf_als_49 = recommend_als(49, df_utility, f_user_als, f_item_als, 10)\n",
    "\n",
    "lf_als_recos = [top_10_cf_als_475, top_10_cf_als_387, top_10_cf_als_49]\n",
    "df_lf_als = pd.DataFrame(f_user_als@f_item_als.T, index=df_utility.index,\n",
    "                         columns=df_utility.columns)"
   ]
  },
  {
   "cell_type": "code",
   "execution_count": 62,
   "id": "cdcbfa41",
   "metadata": {
    "ExecuteTime": {
     "end_time": "2023-03-12T11:04:22.132487Z",
     "start_time": "2023-03-12T11:04:21.932029Z"
    }
   },
   "outputs": [
    {
     "name": "stdout",
     "output_type": "stream",
     "text": [
      "The top 10 recommended movies for User 475 are the following:\n"
     ]
    },
    {
     "data": {
      "text/html": [
       "<div>\n",
       "<style scoped>\n",
       "    .dataframe tbody tr th:only-of-type {\n",
       "        vertical-align: middle;\n",
       "    }\n",
       "\n",
       "    .dataframe tbody tr th {\n",
       "        vertical-align: top;\n",
       "    }\n",
       "\n",
       "    .dataframe thead th {\n",
       "        text-align: right;\n",
       "    }\n",
       "</style>\n",
       "<table border=\"1\" class=\"dataframe\">\n",
       "  <thead>\n",
       "    <tr style=\"text-align: right;\">\n",
       "      <th></th>\n",
       "      <th>title</th>\n",
       "      <th>genres</th>\n",
       "    </tr>\n",
       "    <tr>\n",
       "      <th>movieId</th>\n",
       "      <th></th>\n",
       "      <th></th>\n",
       "    </tr>\n",
       "  </thead>\n",
       "  <tbody>\n",
       "    <tr>\n",
       "      <th>2068</th>\n",
       "      <td>Fanny and Alexander (Fanny och Alexander) (1982)</td>\n",
       "      <td>Drama|Fantasy|Mystery</td>\n",
       "    </tr>\n",
       "    <tr>\n",
       "      <th>4794</th>\n",
       "      <td>Opera (1987)</td>\n",
       "      <td>Crime|Horror|Mystery</td>\n",
       "    </tr>\n",
       "    <tr>\n",
       "      <th>6140</th>\n",
       "      <td>Tenebre (1982)</td>\n",
       "      <td>Horror|Mystery|Thriller</td>\n",
       "    </tr>\n",
       "    <tr>\n",
       "      <th>74452</th>\n",
       "      <td>Wolfman, The (2010)</td>\n",
       "      <td>Horror|Thriller</td>\n",
       "    </tr>\n",
       "    <tr>\n",
       "      <th>160565</th>\n",
       "      <td>The Purge: Election Year (2016)</td>\n",
       "      <td>Action|Horror|Sci-Fi</td>\n",
       "    </tr>\n",
       "    <tr>\n",
       "      <th>85885</th>\n",
       "      <td>Room in Rome (Habitación en Roma) (2010)</td>\n",
       "      <td>Drama|Romance</td>\n",
       "    </tr>\n",
       "    <tr>\n",
       "      <th>6650</th>\n",
       "      <td>Kind Hearts and Coronets (1949)</td>\n",
       "      <td>Comedy|Drama</td>\n",
       "    </tr>\n",
       "    <tr>\n",
       "      <th>70687</th>\n",
       "      <td>Paper Heart (2009)</td>\n",
       "      <td>Comedy|Documentary|Drama|Romance</td>\n",
       "    </tr>\n",
       "    <tr>\n",
       "      <th>39427</th>\n",
       "      <td>Stay (2005)</td>\n",
       "      <td>Thriller</td>\n",
       "    </tr>\n",
       "    <tr>\n",
       "      <th>89118</th>\n",
       "      <td>Skin I Live In, The (La piel que habito) (2011)</td>\n",
       "      <td>Drama</td>\n",
       "    </tr>\n",
       "  </tbody>\n",
       "</table>\n",
       "</div>"
      ],
      "text/plain": [
       "                                                    title  \\\n",
       "movieId                                                     \n",
       "2068     Fanny and Alexander (Fanny och Alexander) (1982)   \n",
       "4794                                         Opera (1987)   \n",
       "6140                                       Tenebre (1982)   \n",
       "74452                                 Wolfman, The (2010)   \n",
       "160565                    The Purge: Election Year (2016)   \n",
       "85885            Room in Rome (Habitación en Roma) (2010)   \n",
       "6650                      Kind Hearts and Coronets (1949)   \n",
       "70687                                  Paper Heart (2009)   \n",
       "39427                                         Stay (2005)   \n",
       "89118     Skin I Live In, The (La piel que habito) (2011)   \n",
       "\n",
       "                                   genres  \n",
       "movieId                                    \n",
       "2068                Drama|Fantasy|Mystery  \n",
       "4794                 Crime|Horror|Mystery  \n",
       "6140              Horror|Mystery|Thriller  \n",
       "74452                     Horror|Thriller  \n",
       "160565               Action|Horror|Sci-Fi  \n",
       "85885                       Drama|Romance  \n",
       "6650                         Comedy|Drama  \n",
       "70687    Comedy|Documentary|Drama|Romance  \n",
       "39427                            Thriller  \n",
       "89118                               Drama  "
      ]
     },
     "metadata": {},
     "output_type": "display_data"
    },
    {
     "name": "stdout",
     "output_type": "stream",
     "text": [
      "\n",
      "\n",
      "\n",
      "The top 10 recommended movies for User 387 are the following:\n"
     ]
    },
    {
     "data": {
      "text/html": [
       "<div>\n",
       "<style scoped>\n",
       "    .dataframe tbody tr th:only-of-type {\n",
       "        vertical-align: middle;\n",
       "    }\n",
       "\n",
       "    .dataframe tbody tr th {\n",
       "        vertical-align: top;\n",
       "    }\n",
       "\n",
       "    .dataframe thead th {\n",
       "        text-align: right;\n",
       "    }\n",
       "</style>\n",
       "<table border=\"1\" class=\"dataframe\">\n",
       "  <thead>\n",
       "    <tr style=\"text-align: right;\">\n",
       "      <th></th>\n",
       "      <th>title</th>\n",
       "      <th>genres</th>\n",
       "    </tr>\n",
       "    <tr>\n",
       "      <th>movieId</th>\n",
       "      <th></th>\n",
       "      <th></th>\n",
       "    </tr>\n",
       "  </thead>\n",
       "  <tbody>\n",
       "    <tr>\n",
       "      <th>2068</th>\n",
       "      <td>Fanny and Alexander (Fanny och Alexander) (1982)</td>\n",
       "      <td>Drama|Fantasy|Mystery</td>\n",
       "    </tr>\n",
       "    <tr>\n",
       "      <th>4794</th>\n",
       "      <td>Opera (1987)</td>\n",
       "      <td>Crime|Horror|Mystery</td>\n",
       "    </tr>\n",
       "    <tr>\n",
       "      <th>6140</th>\n",
       "      <td>Tenebre (1982)</td>\n",
       "      <td>Horror|Mystery|Thriller</td>\n",
       "    </tr>\n",
       "    <tr>\n",
       "      <th>74452</th>\n",
       "      <td>Wolfman, The (2010)</td>\n",
       "      <td>Horror|Thriller</td>\n",
       "    </tr>\n",
       "    <tr>\n",
       "      <th>6650</th>\n",
       "      <td>Kind Hearts and Coronets (1949)</td>\n",
       "      <td>Comedy|Drama</td>\n",
       "    </tr>\n",
       "    <tr>\n",
       "      <th>70687</th>\n",
       "      <td>Paper Heart (2009)</td>\n",
       "      <td>Comedy|Documentary|Drama|Romance</td>\n",
       "    </tr>\n",
       "    <tr>\n",
       "      <th>160565</th>\n",
       "      <td>The Purge: Election Year (2016)</td>\n",
       "      <td>Action|Horror|Sci-Fi</td>\n",
       "    </tr>\n",
       "    <tr>\n",
       "      <th>85885</th>\n",
       "      <td>Room in Rome (Habitación en Roma) (2010)</td>\n",
       "      <td>Drama|Romance</td>\n",
       "    </tr>\n",
       "    <tr>\n",
       "      <th>39427</th>\n",
       "      <td>Stay (2005)</td>\n",
       "      <td>Thriller</td>\n",
       "    </tr>\n",
       "    <tr>\n",
       "      <th>89118</th>\n",
       "      <td>Skin I Live In, The (La piel que habito) (2011)</td>\n",
       "      <td>Drama</td>\n",
       "    </tr>\n",
       "  </tbody>\n",
       "</table>\n",
       "</div>"
      ],
      "text/plain": [
       "                                                    title  \\\n",
       "movieId                                                     \n",
       "2068     Fanny and Alexander (Fanny och Alexander) (1982)   \n",
       "4794                                         Opera (1987)   \n",
       "6140                                       Tenebre (1982)   \n",
       "74452                                 Wolfman, The (2010)   \n",
       "6650                      Kind Hearts and Coronets (1949)   \n",
       "70687                                  Paper Heart (2009)   \n",
       "160565                    The Purge: Election Year (2016)   \n",
       "85885            Room in Rome (Habitación en Roma) (2010)   \n",
       "39427                                         Stay (2005)   \n",
       "89118     Skin I Live In, The (La piel que habito) (2011)   \n",
       "\n",
       "                                   genres  \n",
       "movieId                                    \n",
       "2068                Drama|Fantasy|Mystery  \n",
       "4794                 Crime|Horror|Mystery  \n",
       "6140              Horror|Mystery|Thriller  \n",
       "74452                     Horror|Thriller  \n",
       "6650                         Comedy|Drama  \n",
       "70687    Comedy|Documentary|Drama|Romance  \n",
       "160565               Action|Horror|Sci-Fi  \n",
       "85885                       Drama|Romance  \n",
       "39427                            Thriller  \n",
       "89118                               Drama  "
      ]
     },
     "metadata": {},
     "output_type": "display_data"
    },
    {
     "name": "stdout",
     "output_type": "stream",
     "text": [
      "\n",
      "\n",
      "\n",
      "The top 10 recommended movies for User 49 are the following:\n"
     ]
    },
    {
     "data": {
      "text/html": [
       "<div>\n",
       "<style scoped>\n",
       "    .dataframe tbody tr th:only-of-type {\n",
       "        vertical-align: middle;\n",
       "    }\n",
       "\n",
       "    .dataframe tbody tr th {\n",
       "        vertical-align: top;\n",
       "    }\n",
       "\n",
       "    .dataframe thead th {\n",
       "        text-align: right;\n",
       "    }\n",
       "</style>\n",
       "<table border=\"1\" class=\"dataframe\">\n",
       "  <thead>\n",
       "    <tr style=\"text-align: right;\">\n",
       "      <th></th>\n",
       "      <th>title</th>\n",
       "      <th>genres</th>\n",
       "    </tr>\n",
       "    <tr>\n",
       "      <th>movieId</th>\n",
       "      <th></th>\n",
       "      <th></th>\n",
       "    </tr>\n",
       "  </thead>\n",
       "  <tbody>\n",
       "    <tr>\n",
       "      <th>32892</th>\n",
       "      <td>Ivan's Childhood (a.k.a. My Name is Ivan) (Ivanovo detstvo) (1962)</td>\n",
       "      <td>Drama|War</td>\n",
       "    </tr>\n",
       "    <tr>\n",
       "      <th>484</th>\n",
       "      <td>Lassie (1994)</td>\n",
       "      <td>Adventure|Children</td>\n",
       "    </tr>\n",
       "    <tr>\n",
       "      <th>2740</th>\n",
       "      <td>Kindred, The (1986)</td>\n",
       "      <td>Horror|Sci-Fi</td>\n",
       "    </tr>\n",
       "    <tr>\n",
       "      <th>7564</th>\n",
       "      <td>Kwaidan (Kaidan) (1964)</td>\n",
       "      <td>Horror</td>\n",
       "    </tr>\n",
       "    <tr>\n",
       "      <th>84847</th>\n",
       "      <td>Emma (2009)</td>\n",
       "      <td>Comedy|Drama|Romance</td>\n",
       "    </tr>\n",
       "    <tr>\n",
       "      <th>1999</th>\n",
       "      <td>Exorcist III, The (1990)</td>\n",
       "      <td>Horror</td>\n",
       "    </tr>\n",
       "    <tr>\n",
       "      <th>90888</th>\n",
       "      <td>Immortals (2011)</td>\n",
       "      <td>Action|Drama|Fantasy</td>\n",
       "    </tr>\n",
       "    <tr>\n",
       "      <th>73042</th>\n",
       "      <td>Alvin and the Chipmunks: The Squeakquel (2009)</td>\n",
       "      <td>Animation|Children|Comedy|Musical</td>\n",
       "    </tr>\n",
       "    <tr>\n",
       "      <th>2665</th>\n",
       "      <td>Earth vs. the Flying Saucers (1956)</td>\n",
       "      <td>Sci-Fi</td>\n",
       "    </tr>\n",
       "    <tr>\n",
       "      <th>121097</th>\n",
       "      <td>To Grandmother's House We Go (1992)</td>\n",
       "      <td>Adventure|Children|Comedy</td>\n",
       "    </tr>\n",
       "  </tbody>\n",
       "</table>\n",
       "</div>"
      ],
      "text/plain": [
       "                                                                      title  \\\n",
       "movieId                                                                       \n",
       "32892    Ivan's Childhood (a.k.a. My Name is Ivan) (Ivanovo detstvo) (1962)   \n",
       "484                                                           Lassie (1994)   \n",
       "2740                                                    Kindred, The (1986)   \n",
       "7564                                                Kwaidan (Kaidan) (1964)   \n",
       "84847                                                           Emma (2009)   \n",
       "1999                                               Exorcist III, The (1990)   \n",
       "90888                                                      Immortals (2011)   \n",
       "73042                        Alvin and the Chipmunks: The Squeakquel (2009)   \n",
       "2665                                    Earth vs. the Flying Saucers (1956)   \n",
       "121097                                  To Grandmother's House We Go (1992)   \n",
       "\n",
       "                                    genres  \n",
       "movieId                                     \n",
       "32892                            Drama|War  \n",
       "484                     Adventure|Children  \n",
       "2740                         Horror|Sci-Fi  \n",
       "7564                                Horror  \n",
       "84847                 Comedy|Drama|Romance  \n",
       "1999                                Horror  \n",
       "90888                 Action|Drama|Fantasy  \n",
       "73042    Animation|Children|Comedy|Musical  \n",
       "2665                                Sci-Fi  \n",
       "121097           Adventure|Children|Comedy  "
      ]
     },
     "metadata": {},
     "output_type": "display_data"
    },
    {
     "name": "stdout",
     "output_type": "stream",
     "text": [
      "\n",
      "\n",
      "\n"
     ]
    }
   ],
   "source": [
    "for idx in range(3):\n",
    "    print(f\"The top 10 recommended movies for User {users[idx]} are \"\n",
    "          f\"the following:\")\n",
    "    display(df_title.loc[lf_als_recos[idx]])\n",
    "    print(\"\\n\\n\")"
   ]
  },
  {
   "cell_type": "code",
   "execution_count": 63,
   "id": "6955ffc4",
   "metadata": {
    "ExecuteTime": {
     "end_time": "2023-03-12T11:04:22.152333Z",
     "start_time": "2023-03-12T11:04:22.136549Z"
    }
   },
   "outputs": [
    {
     "name": "stdout",
     "output_type": "stream",
     "text": [
      "The DCG of Latent Factor Collaborative Filtering (Alternating Least Squares) Recommender System is : 493.9942\n",
      "The NDCG of Latent Factor Collaborative Filtering (Alternating Least Squares) Recommender System is: 0.0000\n"
     ]
    }
   ],
   "source": [
    "# Excluded user 49 as value is too small\n",
    "dcg_als = dcg(df_lf_als.loc[[475, 387]],\n",
    "              [top_10_cf_als_475, top_10_cf_als_387])\n",
    "ncdg_als = ndcg(df_lf_als.loc[[475, 387]],\n",
    "                [top_10_cf_als_475, top_10_cf_als_387])\n",
    "\n",
    "print(f\"The DCG of Latent Factor Collaborative Filtering \"\n",
    "      f\"(Alternating Least Squares) Recommender System is : \"\n",
    "      f\"{dcg_als:.4f}\" )\n",
    "print(f\"The NDCG of Latent Factor Collaborative Filtering (Alternating Least \"\n",
    "      f\"Squares) Recommender System is: {ncdg_als:.4f}\")"
   ]
  },
  {
   "cell_type": "markdown",
   "id": "0c7ab2f8",
   "metadata": {},
   "source": [
    "<h4 style=\"color:#7B7C7C\">Coordinate Gradient Descent (CGD) Method</h4>\n",
    "\n",
    "***"
   ]
  },
  {
   "cell_type": "markdown",
   "id": "ab295428",
   "metadata": {},
   "source": [
    "The team used CGD Method in Latent Factor-based Collaborative Filtering for the recommender system."
   ]
  },
  {
   "cell_type": "code",
   "execution_count": 64,
   "id": "e2115816",
   "metadata": {
    "ExecuteTime": {
     "end_time": "2023-03-12T11:04:22.168573Z",
     "start_time": "2023-03-12T11:04:22.154920Z"
    }
   },
   "outputs": [],
   "source": [
    "def cd(df_utility, k, tol):\n",
    "    \"\"\"\n",
    "    Accepts the utility matrix and number of latent factors k\n",
    "    then returns the 𝐅𝑢𝑠𝑒𝑟 and 𝐹𝑖𝑡𝑒𝑚 matrices. Stop when the improvement in \n",
    "    SSE (percent change) is less than the given tolerance 𝑡𝑜𝑙.\n",
    "    \"\"\"\n",
    "    U, V = np.ones((df_utility.shape[0], k)), np.ones((df_utility.shape[1],\n",
    "                                                       k))\n",
    "    M = df_utility.to_numpy()\n",
    "    sse_0 = np.nansum((M - U@V.T)**2)\n",
    "\n",
    "    while True:\n",
    "        for user in range(U.shape[0]):\n",
    "            for factor in range(U.shape[1]):\n",
    "                r_exist = np.where(~np.isnan(M[user, :]))[0]\n",
    "                num = 0\n",
    "                den = 0\n",
    "                for s in r_exist:\n",
    "                    v_sj = V[s, factor]\n",
    "                    r_is = M[user, s]\n",
    "                    t = np.where(np.arange(k) != factor)\n",
    "                    t_sum = U[user, t] @ V[s, t].T\n",
    "                    num += v_sj * (r_is - t_sum)\n",
    "                    den += v_sj**2\n",
    "                U[user, factor] = num / den\n",
    "\n",
    "        for item in range(V.shape[0]):\n",
    "            for factor in range(V.shape[1]):\n",
    "                r_exist = np.where(~np.isnan(M[:, item]))[0]\n",
    "                num = 0\n",
    "                den = 0\n",
    "                for s in r_exist:\n",
    "                    u_sj = U[s, factor]\n",
    "                    r_si = M[s, item]\n",
    "                    t = np.where(np.arange(k) != factor)\n",
    "                    t_sum = U[s, t] @ V[item, t].T\n",
    "                    num += u_sj * (r_si - t_sum)\n",
    "                    den += u_sj**2\n",
    "                V[item, factor] = num / den\n",
    "\n",
    "        sse = np.nansum((M - U@V.T)**2)\n",
    "        change = (sse - sse_0) / sse_0\n",
    "\n",
    "        if np.abs(change) < tol:\n",
    "            return U, V\n",
    "        else:\n",
    "            sse_0 = sse\n",
    "\n",
    "    return U, V\n",
    "\n",
    "\n",
    "def recommend_cd(user, df_utility, f_user, f_item, N):\n",
    "    \"\"\"This returns the recommended items for the passed user and its \n",
    "    non-rated items im the df_utility matrix. We then reconstruct the matrix\n",
    "    with the predicted ratings with the dot product of f_user and f_item. \n",
    "    This returns N number of items sorted from highest to lowest rating of\n",
    "    the items if value is similar the priority would be lowest to highest of\n",
    "    the item/joke id. Code is similar to #2.\n",
    "    \"\"\"\n",
    "    df_completed = pd.DataFrame(np.matmul(f_user, f_item.T),\n",
    "                                columns=df_utility.columns,\n",
    "                                index=df_utility.index)\n",
    "    df = pd.concat([df_utility.loc[user], df_completed.loc[user]],\n",
    "                   axis=1).T.reset_index(drop=True)\n",
    "    df = df[df.columns[df.isna().any()]]\n",
    "    reco = df.loc[1].sort_values(ascending=False)[:N].index.to_list()\n",
    "\n",
    "    return reco"
   ]
  },
  {
   "cell_type": "code",
   "execution_count": 67,
   "id": "5fb48522",
   "metadata": {
    "ExecuteTime": {
     "end_time": "2023-03-12T11:21:50.246849Z",
     "start_time": "2023-03-12T11:21:50.241592Z"
    }
   },
   "outputs": [],
   "source": [
    "# This was run in the code above (clustering)\n",
    "# f_user_cgd, f_item_cgd = cd(df_utility, 30, 0.01)\n",
    "\n",
    "# top_10_cf_cgd_475 = recommend_cd(475, df_utility, f_user_cgd, f_item_cgd, 10)\n",
    "# top_10_cf_cgd_387 = recommend_cd(387, df_utility, f_user_cgd, f_item_cgd, 10)\n",
    "# top_10_cf_cgd_49 = recommend_cd(49, df_utility, f_user_cgd, f_item_cgd, 10)\n",
    "\n",
    "# lf_cgd_recos = [top_10_cf_cgd_475, top_10_cf_cgd_387, top_10_cf_cgd_49]\n",
    "df_lf_cgd = pd.DataFrame(f_user_cgd@f_item_cgd.T, index=df_utility.index,\n",
    "                         columns=df_utility.columns)"
   ]
  },
  {
   "cell_type": "code",
   "execution_count": 69,
   "id": "f53a0e60",
   "metadata": {
    "ExecuteTime": {
     "end_time": "2023-03-12T11:21:57.972267Z",
     "start_time": "2023-03-12T11:21:57.944425Z"
    }
   },
   "outputs": [
    {
     "name": "stdout",
     "output_type": "stream",
     "text": [
      "The top 10 recommended movies for User 475 are the following:\n"
     ]
    },
    {
     "data": {
      "text/html": [
       "<div>\n",
       "<style scoped>\n",
       "    .dataframe tbody tr th:only-of-type {\n",
       "        vertical-align: middle;\n",
       "    }\n",
       "\n",
       "    .dataframe tbody tr th {\n",
       "        vertical-align: top;\n",
       "    }\n",
       "\n",
       "    .dataframe thead th {\n",
       "        text-align: right;\n",
       "    }\n",
       "</style>\n",
       "<table border=\"1\" class=\"dataframe\">\n",
       "  <thead>\n",
       "    <tr style=\"text-align: right;\">\n",
       "      <th></th>\n",
       "      <th>title</th>\n",
       "      <th>genres</th>\n",
       "    </tr>\n",
       "    <tr>\n",
       "      <th>movieId</th>\n",
       "      <th></th>\n",
       "      <th></th>\n",
       "    </tr>\n",
       "  </thead>\n",
       "  <tbody>\n",
       "    <tr>\n",
       "      <th>6835</th>\n",
       "      <td>Alien Contamination (1980)</td>\n",
       "      <td>Action|Horror|Sci-Fi</td>\n",
       "    </tr>\n",
       "    <tr>\n",
       "      <th>5746</th>\n",
       "      <td>Galaxy of Terror (Quest) (1981)</td>\n",
       "      <td>Action|Horror|Mystery|Sci-Fi</td>\n",
       "    </tr>\n",
       "    <tr>\n",
       "      <th>136850</th>\n",
       "      <td>Villain (1971)</td>\n",
       "      <td>Crime|Drama|Thriller</td>\n",
       "    </tr>\n",
       "    <tr>\n",
       "      <th>40491</th>\n",
       "      <td>Match Factory Girl, The (Tulitikkutehtaan tyttö) (1990)</td>\n",
       "      <td>Comedy|Drama</td>\n",
       "    </tr>\n",
       "    <tr>\n",
       "      <th>7899</th>\n",
       "      <td>Master of the Flying Guillotine (Du bi quan wang da po xue di zi) (1975)</td>\n",
       "      <td>Action</td>\n",
       "    </tr>\n",
       "    <tr>\n",
       "      <th>5764</th>\n",
       "      <td>Looker (1981)</td>\n",
       "      <td>Drama|Horror|Sci-Fi|Thriller</td>\n",
       "    </tr>\n",
       "    <tr>\n",
       "      <th>3567</th>\n",
       "      <td>Bossa Nova (2000)</td>\n",
       "      <td>Comedy|Drama|Romance</td>\n",
       "    </tr>\n",
       "    <tr>\n",
       "      <th>156605</th>\n",
       "      <td>Paterson</td>\n",
       "      <td>(no genres listed)</td>\n",
       "    </tr>\n",
       "    <tr>\n",
       "      <th>53280</th>\n",
       "      <td>Breed, The (2006)</td>\n",
       "      <td>Horror|Thriller</td>\n",
       "    </tr>\n",
       "    <tr>\n",
       "      <th>134847</th>\n",
       "      <td>Ghost Graduation (2012)</td>\n",
       "      <td>Comedy</td>\n",
       "    </tr>\n",
       "  </tbody>\n",
       "</table>\n",
       "</div>"
      ],
      "text/plain": [
       "                                                                            title  \\\n",
       "movieId                                                                             \n",
       "6835                                                   Alien Contamination (1980)   \n",
       "5746                                              Galaxy of Terror (Quest) (1981)   \n",
       "136850                                                             Villain (1971)   \n",
       "40491                     Match Factory Girl, The (Tulitikkutehtaan tyttö) (1990)   \n",
       "7899     Master of the Flying Guillotine (Du bi quan wang da po xue di zi) (1975)   \n",
       "5764                                                                Looker (1981)   \n",
       "3567                                                            Bossa Nova (2000)   \n",
       "156605                                                                   Paterson   \n",
       "53280                                                           Breed, The (2006)   \n",
       "134847                                                    Ghost Graduation (2012)   \n",
       "\n",
       "                               genres  \n",
       "movieId                                \n",
       "6835             Action|Horror|Sci-Fi  \n",
       "5746     Action|Horror|Mystery|Sci-Fi  \n",
       "136850           Crime|Drama|Thriller  \n",
       "40491                    Comedy|Drama  \n",
       "7899                           Action  \n",
       "5764     Drama|Horror|Sci-Fi|Thriller  \n",
       "3567             Comedy|Drama|Romance  \n",
       "156605             (no genres listed)  \n",
       "53280                 Horror|Thriller  \n",
       "134847                         Comedy  "
      ]
     },
     "metadata": {},
     "output_type": "display_data"
    },
    {
     "name": "stdout",
     "output_type": "stream",
     "text": [
      "\n",
      "\n",
      "\n",
      "The top 10 recommended movies for User 387 are the following:\n"
     ]
    },
    {
     "data": {
      "text/html": [
       "<div>\n",
       "<style scoped>\n",
       "    .dataframe tbody tr th:only-of-type {\n",
       "        vertical-align: middle;\n",
       "    }\n",
       "\n",
       "    .dataframe tbody tr th {\n",
       "        vertical-align: top;\n",
       "    }\n",
       "\n",
       "    .dataframe thead th {\n",
       "        text-align: right;\n",
       "    }\n",
       "</style>\n",
       "<table border=\"1\" class=\"dataframe\">\n",
       "  <thead>\n",
       "    <tr style=\"text-align: right;\">\n",
       "      <th></th>\n",
       "      <th>title</th>\n",
       "      <th>genres</th>\n",
       "    </tr>\n",
       "    <tr>\n",
       "      <th>movieId</th>\n",
       "      <th></th>\n",
       "      <th></th>\n",
       "    </tr>\n",
       "  </thead>\n",
       "  <tbody>\n",
       "    <tr>\n",
       "      <th>5746</th>\n",
       "      <td>Galaxy of Terror (Quest) (1981)</td>\n",
       "      <td>Action|Horror|Mystery|Sci-Fi</td>\n",
       "    </tr>\n",
       "    <tr>\n",
       "      <th>6835</th>\n",
       "      <td>Alien Contamination (1980)</td>\n",
       "      <td>Action|Horror|Sci-Fi</td>\n",
       "    </tr>\n",
       "    <tr>\n",
       "      <th>136850</th>\n",
       "      <td>Villain (1971)</td>\n",
       "      <td>Crime|Drama|Thriller</td>\n",
       "    </tr>\n",
       "    <tr>\n",
       "      <th>40491</th>\n",
       "      <td>Match Factory Girl, The (Tulitikkutehtaan tyttö) (1990)</td>\n",
       "      <td>Comedy|Drama</td>\n",
       "    </tr>\n",
       "    <tr>\n",
       "      <th>5764</th>\n",
       "      <td>Looker (1981)</td>\n",
       "      <td>Drama|Horror|Sci-Fi|Thriller</td>\n",
       "    </tr>\n",
       "    <tr>\n",
       "      <th>7899</th>\n",
       "      <td>Master of the Flying Guillotine (Du bi quan wang da po xue di zi) (1975)</td>\n",
       "      <td>Action</td>\n",
       "    </tr>\n",
       "    <tr>\n",
       "      <th>3567</th>\n",
       "      <td>Bossa Nova (2000)</td>\n",
       "      <td>Comedy|Drama|Romance</td>\n",
       "    </tr>\n",
       "    <tr>\n",
       "      <th>156605</th>\n",
       "      <td>Paterson</td>\n",
       "      <td>(no genres listed)</td>\n",
       "    </tr>\n",
       "    <tr>\n",
       "      <th>87834</th>\n",
       "      <td>My Life as McDull (Mak dau goo si) (2001)</td>\n",
       "      <td>Animation|Comedy|Drama</td>\n",
       "    </tr>\n",
       "    <tr>\n",
       "      <th>131130</th>\n",
       "      <td>Tom and Jerry: A Nutcracker Tale (2007)</td>\n",
       "      <td>Animation|Comedy</td>\n",
       "    </tr>\n",
       "  </tbody>\n",
       "</table>\n",
       "</div>"
      ],
      "text/plain": [
       "                                                                            title  \\\n",
       "movieId                                                                             \n",
       "5746                                              Galaxy of Terror (Quest) (1981)   \n",
       "6835                                                   Alien Contamination (1980)   \n",
       "136850                                                             Villain (1971)   \n",
       "40491                     Match Factory Girl, The (Tulitikkutehtaan tyttö) (1990)   \n",
       "5764                                                                Looker (1981)   \n",
       "7899     Master of the Flying Guillotine (Du bi quan wang da po xue di zi) (1975)   \n",
       "3567                                                            Bossa Nova (2000)   \n",
       "156605                                                                   Paterson   \n",
       "87834                                   My Life as McDull (Mak dau goo si) (2001)   \n",
       "131130                                    Tom and Jerry: A Nutcracker Tale (2007)   \n",
       "\n",
       "                               genres  \n",
       "movieId                                \n",
       "5746     Action|Horror|Mystery|Sci-Fi  \n",
       "6835             Action|Horror|Sci-Fi  \n",
       "136850           Crime|Drama|Thriller  \n",
       "40491                    Comedy|Drama  \n",
       "5764     Drama|Horror|Sci-Fi|Thriller  \n",
       "7899                           Action  \n",
       "3567             Comedy|Drama|Romance  \n",
       "156605             (no genres listed)  \n",
       "87834          Animation|Comedy|Drama  \n",
       "131130               Animation|Comedy  "
      ]
     },
     "metadata": {},
     "output_type": "display_data"
    },
    {
     "name": "stdout",
     "output_type": "stream",
     "text": [
      "\n",
      "\n",
      "\n",
      "The top 10 recommended movies for User 49 are the following:\n"
     ]
    },
    {
     "data": {
      "text/html": [
       "<div>\n",
       "<style scoped>\n",
       "    .dataframe tbody tr th:only-of-type {\n",
       "        vertical-align: middle;\n",
       "    }\n",
       "\n",
       "    .dataframe tbody tr th {\n",
       "        vertical-align: top;\n",
       "    }\n",
       "\n",
       "    .dataframe thead th {\n",
       "        text-align: right;\n",
       "    }\n",
       "</style>\n",
       "<table border=\"1\" class=\"dataframe\">\n",
       "  <thead>\n",
       "    <tr style=\"text-align: right;\">\n",
       "      <th></th>\n",
       "      <th>title</th>\n",
       "      <th>genres</th>\n",
       "    </tr>\n",
       "    <tr>\n",
       "      <th>movieId</th>\n",
       "      <th></th>\n",
       "      <th></th>\n",
       "    </tr>\n",
       "  </thead>\n",
       "  <tbody>\n",
       "    <tr>\n",
       "      <th>5746</th>\n",
       "      <td>Galaxy of Terror (Quest) (1981)</td>\n",
       "      <td>Action|Horror|Mystery|Sci-Fi</td>\n",
       "    </tr>\n",
       "    <tr>\n",
       "      <th>6835</th>\n",
       "      <td>Alien Contamination (1980)</td>\n",
       "      <td>Action|Horror|Sci-Fi</td>\n",
       "    </tr>\n",
       "    <tr>\n",
       "      <th>136850</th>\n",
       "      <td>Villain (1971)</td>\n",
       "      <td>Crime|Drama|Thriller</td>\n",
       "    </tr>\n",
       "    <tr>\n",
       "      <th>40491</th>\n",
       "      <td>Match Factory Girl, The (Tulitikkutehtaan tyttö) (1990)</td>\n",
       "      <td>Comedy|Drama</td>\n",
       "    </tr>\n",
       "    <tr>\n",
       "      <th>7899</th>\n",
       "      <td>Master of the Flying Guillotine (Du bi quan wang da po xue di zi) (1975)</td>\n",
       "      <td>Action</td>\n",
       "    </tr>\n",
       "    <tr>\n",
       "      <th>5764</th>\n",
       "      <td>Looker (1981)</td>\n",
       "      <td>Drama|Horror|Sci-Fi|Thriller</td>\n",
       "    </tr>\n",
       "    <tr>\n",
       "      <th>3567</th>\n",
       "      <td>Bossa Nova (2000)</td>\n",
       "      <td>Comedy|Drama|Romance</td>\n",
       "    </tr>\n",
       "    <tr>\n",
       "      <th>156605</th>\n",
       "      <td>Paterson</td>\n",
       "      <td>(no genres listed)</td>\n",
       "    </tr>\n",
       "    <tr>\n",
       "      <th>136359</th>\n",
       "      <td>Scooby-Doo Goes Hollywood (1979)</td>\n",
       "      <td>Animation|Children|Comedy</td>\n",
       "    </tr>\n",
       "    <tr>\n",
       "      <th>157775</th>\n",
       "      <td>Tenchi Muyô! In Love (1996)</td>\n",
       "      <td>Animation|Comedy</td>\n",
       "    </tr>\n",
       "  </tbody>\n",
       "</table>\n",
       "</div>"
      ],
      "text/plain": [
       "                                                                            title  \\\n",
       "movieId                                                                             \n",
       "5746                                              Galaxy of Terror (Quest) (1981)   \n",
       "6835                                                   Alien Contamination (1980)   \n",
       "136850                                                             Villain (1971)   \n",
       "40491                     Match Factory Girl, The (Tulitikkutehtaan tyttö) (1990)   \n",
       "7899     Master of the Flying Guillotine (Du bi quan wang da po xue di zi) (1975)   \n",
       "5764                                                                Looker (1981)   \n",
       "3567                                                            Bossa Nova (2000)   \n",
       "156605                                                                   Paterson   \n",
       "136359                                           Scooby-Doo Goes Hollywood (1979)   \n",
       "157775                                                Tenchi Muyô! In Love (1996)   \n",
       "\n",
       "                               genres  \n",
       "movieId                                \n",
       "5746     Action|Horror|Mystery|Sci-Fi  \n",
       "6835             Action|Horror|Sci-Fi  \n",
       "136850           Crime|Drama|Thriller  \n",
       "40491                    Comedy|Drama  \n",
       "7899                           Action  \n",
       "5764     Drama|Horror|Sci-Fi|Thriller  \n",
       "3567             Comedy|Drama|Romance  \n",
       "156605             (no genres listed)  \n",
       "136359      Animation|Children|Comedy  \n",
       "157775               Animation|Comedy  "
      ]
     },
     "metadata": {},
     "output_type": "display_data"
    },
    {
     "name": "stdout",
     "output_type": "stream",
     "text": [
      "\n",
      "\n",
      "\n"
     ]
    }
   ],
   "source": [
    "for idx in range(3):\n",
    "    print(f\"The top 10 recommended movies for User {users[idx]} \"\n",
    "          f\"are the following:\")\n",
    "    display(df_title.loc[lf_cgd_recos[idx]])\n",
    "    print(\"\\n\\n\")"
   ]
  },
  {
   "cell_type": "code",
   "execution_count": 76,
   "id": "f15d89ac",
   "metadata": {
    "ExecuteTime": {
     "end_time": "2023-03-12T11:24:16.159945Z",
     "start_time": "2023-03-12T11:24:16.142080Z"
    }
   },
   "outputs": [
    {
     "name": "stdout",
     "output_type": "stream",
     "text": [
      "The DCG of Latent Factor Collaborative Filtering (Coordinate Gradient Descent) Recommender System is : 381.3780\n",
      "The NDCG of Latent Factor Collaborative Filtering (Coordinate Gradient Descent) Recommender System is: 1.0000\n"
     ]
    }
   ],
   "source": [
    "# Excluded user 49 as value is too small\n",
    "df_lf_cgd = pd.DataFrame(df_lf_cgd, index=df_utility.index,\n",
    "                         columns=df_utility.columns)\n",
    "dcg_cgd = dcg(df_lf_cgd.loc[[475, 387]],\n",
    "              [top_10_cf_cgd_475, top_10_cf_cgd_387])\n",
    "ndcg_cgd = ndcg(df_lf_cgd.loc[[475, 387]],\n",
    "                [top_10_cf_cgd_475, top_10_cf_cgd_387])\n",
    "print(f\"The DCG of Latent Factor Collaborative Filtering (Coordinate \"\n",
    "      f\"Gradient Descent) Recommender System is : {dcg_cgd:.4f}\" )\n",
    "print(f\"The NDCG of Latent Factor Collaborative Filtering (Coordinate \"\n",
    "      f\"Gradient Descent) Recommender System is: {ndcg_cgd:.4f}\")"
   ]
  },
  {
   "cell_type": "markdown",
   "id": "7b258e84",
   "metadata": {},
   "source": [
    "Both Latent Factor Collaborative Filtering  ALS and CGD produced nearly similar results for all results in terms of the genre of the movies. It managed to recommend movies that were the top genre across the users as it tries to calculate based on the preference of users and the rated movies, and the latent factors reflect it is based on the top genres of the matrix, which are Drama, Comedy, and Thriller. We also need to note that CGD had the highest NDCG score of 1, meaning the recommendations' quality is as high as the ratings of the completed matrix. "
   ]
  },
  {
   "cell_type": "markdown",
   "id": "a49e4265",
   "metadata": {},
   "source": [
    "<h3 style=\"color:#221F1F\">Content-based</h3>\n",
    "\n",
    "***"
   ]
  },
  {
   "cell_type": "markdown",
   "id": "5909cbd1",
   "metadata": {},
   "source": [
    "Before moving to content, we needed to create an Item/Movie Profile to build a matrix to derive the User Profiles. The item profile created is based on the genre of each movie. We need to note again that each movie has multiple genres since each genre doesn't have a weight. We added 1 to each genre every time it's present in the movie then we scaled it down to reduce computational requirements. "
   ]
  },
  {
   "cell_type": "code",
   "execution_count": 77,
   "id": "db37b9a6",
   "metadata": {
    "ExecuteTime": {
     "end_time": "2023-03-12T11:24:48.816572Z",
     "start_time": "2023-03-12T11:24:16.162788Z"
    }
   },
   "outputs": [
    {
     "data": {
      "text/html": [
       "<div>\n",
       "<style scoped>\n",
       "    .dataframe tbody tr th:only-of-type {\n",
       "        vertical-align: middle;\n",
       "    }\n",
       "\n",
       "    .dataframe tbody tr th {\n",
       "        vertical-align: top;\n",
       "    }\n",
       "\n",
       "    .dataframe thead th {\n",
       "        text-align: right;\n",
       "    }\n",
       "</style>\n",
       "<table border=\"1\" class=\"dataframe\">\n",
       "  <thead>\n",
       "    <tr style=\"text-align: right;\">\n",
       "      <th></th>\n",
       "      <th>Action</th>\n",
       "      <th>War</th>\n",
       "      <th>Horror</th>\n",
       "      <th>Romance</th>\n",
       "      <th>Animation</th>\n",
       "      <th>Film-Noir</th>\n",
       "      <th>Documentary</th>\n",
       "      <th>Fantasy</th>\n",
       "      <th>Crime</th>\n",
       "      <th>Thriller</th>\n",
       "      <th>Comedy</th>\n",
       "      <th>Drama</th>\n",
       "      <th>(no genres listed)</th>\n",
       "      <th>Children</th>\n",
       "      <th>Sci-Fi</th>\n",
       "      <th>IMAX</th>\n",
       "      <th>Western</th>\n",
       "      <th>Adventure</th>\n",
       "      <th>Musical</th>\n",
       "      <th>Mystery</th>\n",
       "    </tr>\n",
       "  </thead>\n",
       "  <tbody>\n",
       "    <tr>\n",
       "      <th>1</th>\n",
       "      <td>0.000000</td>\n",
       "      <td>0.0</td>\n",
       "      <td>0.0</td>\n",
       "      <td>0.000000</td>\n",
       "      <td>1.000000</td>\n",
       "      <td>0.0</td>\n",
       "      <td>0.0</td>\n",
       "      <td>1.000000</td>\n",
       "      <td>0.0</td>\n",
       "      <td>0.0</td>\n",
       "      <td>0.444215</td>\n",
       "      <td>0.000000</td>\n",
       "      <td>0.0</td>\n",
       "      <td>1.00000</td>\n",
       "      <td>0.0</td>\n",
       "      <td>0.0</td>\n",
       "      <td>0.0</td>\n",
       "      <td>0.820611</td>\n",
       "      <td>0.0</td>\n",
       "      <td>0.0</td>\n",
       "    </tr>\n",
       "    <tr>\n",
       "      <th>2</th>\n",
       "      <td>0.000000</td>\n",
       "      <td>0.0</td>\n",
       "      <td>0.0</td>\n",
       "      <td>0.000000</td>\n",
       "      <td>0.000000</td>\n",
       "      <td>0.0</td>\n",
       "      <td>0.0</td>\n",
       "      <td>0.520930</td>\n",
       "      <td>0.0</td>\n",
       "      <td>0.0</td>\n",
       "      <td>0.000000</td>\n",
       "      <td>0.000000</td>\n",
       "      <td>0.0</td>\n",
       "      <td>0.52093</td>\n",
       "      <td>0.0</td>\n",
       "      <td>0.0</td>\n",
       "      <td>0.0</td>\n",
       "      <td>0.427481</td>\n",
       "      <td>0.0</td>\n",
       "      <td>0.0</td>\n",
       "    </tr>\n",
       "    <tr>\n",
       "      <th>3</th>\n",
       "      <td>0.000000</td>\n",
       "      <td>0.0</td>\n",
       "      <td>0.0</td>\n",
       "      <td>0.158209</td>\n",
       "      <td>0.000000</td>\n",
       "      <td>0.0</td>\n",
       "      <td>0.0</td>\n",
       "      <td>0.000000</td>\n",
       "      <td>0.0</td>\n",
       "      <td>0.0</td>\n",
       "      <td>0.109504</td>\n",
       "      <td>0.000000</td>\n",
       "      <td>0.0</td>\n",
       "      <td>0.00000</td>\n",
       "      <td>0.0</td>\n",
       "      <td>0.0</td>\n",
       "      <td>0.0</td>\n",
       "      <td>0.000000</td>\n",
       "      <td>0.0</td>\n",
       "      <td>0.0</td>\n",
       "    </tr>\n",
       "    <tr>\n",
       "      <th>4</th>\n",
       "      <td>0.000000</td>\n",
       "      <td>0.0</td>\n",
       "      <td>0.0</td>\n",
       "      <td>0.020896</td>\n",
       "      <td>0.000000</td>\n",
       "      <td>0.0</td>\n",
       "      <td>0.0</td>\n",
       "      <td>0.000000</td>\n",
       "      <td>0.0</td>\n",
       "      <td>0.0</td>\n",
       "      <td>0.014463</td>\n",
       "      <td>0.014463</td>\n",
       "      <td>0.0</td>\n",
       "      <td>0.00000</td>\n",
       "      <td>0.0</td>\n",
       "      <td>0.0</td>\n",
       "      <td>0.0</td>\n",
       "      <td>0.000000</td>\n",
       "      <td>0.0</td>\n",
       "      <td>0.0</td>\n",
       "    </tr>\n",
       "    <tr>\n",
       "      <th>5</th>\n",
       "      <td>0.000000</td>\n",
       "      <td>0.0</td>\n",
       "      <td>0.0</td>\n",
       "      <td>0.000000</td>\n",
       "      <td>0.000000</td>\n",
       "      <td>0.0</td>\n",
       "      <td>0.0</td>\n",
       "      <td>0.000000</td>\n",
       "      <td>0.0</td>\n",
       "      <td>0.0</td>\n",
       "      <td>0.103306</td>\n",
       "      <td>0.000000</td>\n",
       "      <td>0.0</td>\n",
       "      <td>0.00000</td>\n",
       "      <td>0.0</td>\n",
       "      <td>0.0</td>\n",
       "      <td>0.0</td>\n",
       "      <td>0.000000</td>\n",
       "      <td>0.0</td>\n",
       "      <td>0.0</td>\n",
       "    </tr>\n",
       "    <tr>\n",
       "      <th>...</th>\n",
       "      <td>...</td>\n",
       "      <td>...</td>\n",
       "      <td>...</td>\n",
       "      <td>...</td>\n",
       "      <td>...</td>\n",
       "      <td>...</td>\n",
       "      <td>...</td>\n",
       "      <td>...</td>\n",
       "      <td>...</td>\n",
       "      <td>...</td>\n",
       "      <td>...</td>\n",
       "      <td>...</td>\n",
       "      <td>...</td>\n",
       "      <td>...</td>\n",
       "      <td>...</td>\n",
       "      <td>...</td>\n",
       "      <td>...</td>\n",
       "      <td>...</td>\n",
       "      <td>...</td>\n",
       "      <td>...</td>\n",
       "    </tr>\n",
       "    <tr>\n",
       "      <th>193581</th>\n",
       "      <td>0.003571</td>\n",
       "      <td>0.0</td>\n",
       "      <td>0.0</td>\n",
       "      <td>0.000000</td>\n",
       "      <td>0.004651</td>\n",
       "      <td>0.0</td>\n",
       "      <td>0.0</td>\n",
       "      <td>0.004651</td>\n",
       "      <td>0.0</td>\n",
       "      <td>0.0</td>\n",
       "      <td>0.002066</td>\n",
       "      <td>0.000000</td>\n",
       "      <td>0.0</td>\n",
       "      <td>0.00000</td>\n",
       "      <td>0.0</td>\n",
       "      <td>0.0</td>\n",
       "      <td>0.0</td>\n",
       "      <td>0.000000</td>\n",
       "      <td>0.0</td>\n",
       "      <td>0.0</td>\n",
       "    </tr>\n",
       "    <tr>\n",
       "      <th>193583</th>\n",
       "      <td>0.000000</td>\n",
       "      <td>0.0</td>\n",
       "      <td>0.0</td>\n",
       "      <td>0.000000</td>\n",
       "      <td>0.004651</td>\n",
       "      <td>0.0</td>\n",
       "      <td>0.0</td>\n",
       "      <td>0.004651</td>\n",
       "      <td>0.0</td>\n",
       "      <td>0.0</td>\n",
       "      <td>0.002066</td>\n",
       "      <td>0.000000</td>\n",
       "      <td>0.0</td>\n",
       "      <td>0.00000</td>\n",
       "      <td>0.0</td>\n",
       "      <td>0.0</td>\n",
       "      <td>0.0</td>\n",
       "      <td>0.000000</td>\n",
       "      <td>0.0</td>\n",
       "      <td>0.0</td>\n",
       "    </tr>\n",
       "    <tr>\n",
       "      <th>193585</th>\n",
       "      <td>0.000000</td>\n",
       "      <td>0.0</td>\n",
       "      <td>0.0</td>\n",
       "      <td>0.000000</td>\n",
       "      <td>0.000000</td>\n",
       "      <td>0.0</td>\n",
       "      <td>0.0</td>\n",
       "      <td>0.000000</td>\n",
       "      <td>0.0</td>\n",
       "      <td>0.0</td>\n",
       "      <td>0.000000</td>\n",
       "      <td>0.002066</td>\n",
       "      <td>0.0</td>\n",
       "      <td>0.00000</td>\n",
       "      <td>0.0</td>\n",
       "      <td>0.0</td>\n",
       "      <td>0.0</td>\n",
       "      <td>0.000000</td>\n",
       "      <td>0.0</td>\n",
       "      <td>0.0</td>\n",
       "    </tr>\n",
       "    <tr>\n",
       "      <th>193587</th>\n",
       "      <td>0.003571</td>\n",
       "      <td>0.0</td>\n",
       "      <td>0.0</td>\n",
       "      <td>0.000000</td>\n",
       "      <td>0.004651</td>\n",
       "      <td>0.0</td>\n",
       "      <td>0.0</td>\n",
       "      <td>0.000000</td>\n",
       "      <td>0.0</td>\n",
       "      <td>0.0</td>\n",
       "      <td>0.000000</td>\n",
       "      <td>0.000000</td>\n",
       "      <td>0.0</td>\n",
       "      <td>0.00000</td>\n",
       "      <td>0.0</td>\n",
       "      <td>0.0</td>\n",
       "      <td>0.0</td>\n",
       "      <td>0.000000</td>\n",
       "      <td>0.0</td>\n",
       "      <td>0.0</td>\n",
       "    </tr>\n",
       "    <tr>\n",
       "      <th>193609</th>\n",
       "      <td>0.000000</td>\n",
       "      <td>0.0</td>\n",
       "      <td>0.0</td>\n",
       "      <td>0.000000</td>\n",
       "      <td>0.000000</td>\n",
       "      <td>0.0</td>\n",
       "      <td>0.0</td>\n",
       "      <td>0.000000</td>\n",
       "      <td>0.0</td>\n",
       "      <td>0.0</td>\n",
       "      <td>0.002066</td>\n",
       "      <td>0.000000</td>\n",
       "      <td>0.0</td>\n",
       "      <td>0.00000</td>\n",
       "      <td>0.0</td>\n",
       "      <td>0.0</td>\n",
       "      <td>0.0</td>\n",
       "      <td>0.000000</td>\n",
       "      <td>0.0</td>\n",
       "      <td>0.0</td>\n",
       "    </tr>\n",
       "  </tbody>\n",
       "</table>\n",
       "<p>9724 rows × 20 columns</p>\n",
       "</div>"
      ],
      "text/plain": [
       "          Action  War  Horror   Romance  Animation  Film-Noir  Documentary  \\\n",
       "1       0.000000  0.0     0.0  0.000000   1.000000        0.0          0.0   \n",
       "2       0.000000  0.0     0.0  0.000000   0.000000        0.0          0.0   \n",
       "3       0.000000  0.0     0.0  0.158209   0.000000        0.0          0.0   \n",
       "4       0.000000  0.0     0.0  0.020896   0.000000        0.0          0.0   \n",
       "5       0.000000  0.0     0.0  0.000000   0.000000        0.0          0.0   \n",
       "...          ...  ...     ...       ...        ...        ...          ...   \n",
       "193581  0.003571  0.0     0.0  0.000000   0.004651        0.0          0.0   \n",
       "193583  0.000000  0.0     0.0  0.000000   0.004651        0.0          0.0   \n",
       "193585  0.000000  0.0     0.0  0.000000   0.000000        0.0          0.0   \n",
       "193587  0.003571  0.0     0.0  0.000000   0.004651        0.0          0.0   \n",
       "193609  0.000000  0.0     0.0  0.000000   0.000000        0.0          0.0   \n",
       "\n",
       "         Fantasy  Crime  Thriller    Comedy     Drama  (no genres listed)  \\\n",
       "1       1.000000    0.0       0.0  0.444215  0.000000                 0.0   \n",
       "2       0.520930    0.0       0.0  0.000000  0.000000                 0.0   \n",
       "3       0.000000    0.0       0.0  0.109504  0.000000                 0.0   \n",
       "4       0.000000    0.0       0.0  0.014463  0.014463                 0.0   \n",
       "5       0.000000    0.0       0.0  0.103306  0.000000                 0.0   \n",
       "...          ...    ...       ...       ...       ...                 ...   \n",
       "193581  0.004651    0.0       0.0  0.002066  0.000000                 0.0   \n",
       "193583  0.004651    0.0       0.0  0.002066  0.000000                 0.0   \n",
       "193585  0.000000    0.0       0.0  0.000000  0.002066                 0.0   \n",
       "193587  0.000000    0.0       0.0  0.000000  0.000000                 0.0   \n",
       "193609  0.000000    0.0       0.0  0.002066  0.000000                 0.0   \n",
       "\n",
       "        Children  Sci-Fi  IMAX  Western  Adventure  Musical  Mystery  \n",
       "1        1.00000     0.0   0.0      0.0   0.820611      0.0      0.0  \n",
       "2        0.52093     0.0   0.0      0.0   0.427481      0.0      0.0  \n",
       "3        0.00000     0.0   0.0      0.0   0.000000      0.0      0.0  \n",
       "4        0.00000     0.0   0.0      0.0   0.000000      0.0      0.0  \n",
       "5        0.00000     0.0   0.0      0.0   0.000000      0.0      0.0  \n",
       "...          ...     ...   ...      ...        ...      ...      ...  \n",
       "193581   0.00000     0.0   0.0      0.0   0.000000      0.0      0.0  \n",
       "193583   0.00000     0.0   0.0      0.0   0.000000      0.0      0.0  \n",
       "193585   0.00000     0.0   0.0      0.0   0.000000      0.0      0.0  \n",
       "193587   0.00000     0.0   0.0      0.0   0.000000      0.0      0.0  \n",
       "193609   0.00000     0.0   0.0      0.0   0.000000      0.0      0.0  \n",
       "\n",
       "[9724 rows x 20 columns]"
      ]
     },
     "metadata": {},
     "output_type": "display_data"
    }
   ],
   "source": [
    "from sklearn.preprocessing import minmax_scale\n",
    "genre_ = []\n",
    "df_movie_prep = pd.DataFrame(index=data['movieId'].unique())\n",
    "\n",
    "for i in data['genres'].unique():\n",
    "    for k in i.split('|'):\n",
    "        genre_.append(k)\n",
    "\n",
    "genre_ = list(set(genre_))\n",
    "df_movie_prep[genre_] = 0\n",
    "df_movie_prep.fillna(0)\n",
    "\n",
    "for i in data.itertuples():\n",
    "    for k in (i[3].split('|')):\n",
    "        df_movie_prep.loc[i[1], k] += 1\n",
    "\n",
    "# Scale it down\n",
    "df_movie_profile = pd.DataFrame(minmax_scale(df_movie_prep,\n",
    "                                             feature_range=(0, 1)),\n",
    "                                index=df_movie_prep.index,\n",
    "                                columns=df_movie_prep.columns)\n",
    "display(df_movie_profile)"
   ]
  },
  {
   "cell_type": "markdown",
   "id": "607bbd79",
   "metadata": {},
   "source": [
    "<h4 style=\"color:#7B7C7C\">Binary Aggregation</h4>\n",
    "\n",
    "***"
   ]
  },
  {
   "cell_type": "markdown",
   "id": "71abdc31",
   "metadata": {
    "ExecuteTime": {
     "end_time": "2023-03-12T05:40:44.851305Z",
     "start_time": "2023-03-12T05:40:44.843664Z"
    }
   },
   "source": [
    "The team used Binary Aggregation Content-based for the recommender system."
   ]
  },
  {
   "cell_type": "code",
   "execution_count": 78,
   "id": "0febbaaa",
   "metadata": {
    "ExecuteTime": {
     "end_time": "2023-03-12T11:24:48.826403Z",
     "start_time": "2023-03-12T11:24:48.819205Z"
    }
   },
   "outputs": [],
   "source": [
    "def compute_user_profile_agg_binary(df_utility, df_item_profiles, user):\n",
    "    \"\"\"Function that calculates the mean value for each feature of all all\n",
    "    items in the item profile based on the given user where it has provided\n",
    "    a rating and is within the the mean value of all user ratings. Returns\n",
    "    the user profile for all features.\n",
    "    \"\"\"\n",
    "\n",
    "    index = (df_utility.iloc[user] >= df_utility.iloc[user].mean(skipna=True))\n",
    "    return df_item_profiles[index].mean()\n",
    "\n",
    "\n",
    "def recommend_agg_binary(df_utility, df_item_profiles, user_profile, user, L):\n",
    "    \"\"\"Function that returns the top L recommendation of unrated items based\n",
    "    on the cosine distance measure of the item profile against the binary \n",
    "    aggregated user profile. Returns a ranked list of items in desc order.\n",
    "    \"\"\"\n",
    "\n",
    "    index = np.where(np.isnan(df_utility.iloc[user]))[0]\n",
    "    movie_id = df_item_profiles.iloc[index].index\n",
    "\n",
    "    reco = [cosine(df_item_profiles.iloc[i], user_profile) for i in index]\n",
    "    sort = sorted(list(zip(movie_id, reco)), key=lambda x: (x[1], x[0]))\n",
    "\n",
    "    index_all = np.where((df_utility.iloc[user]))[0]\n",
    "    reco_all = [cosine(df_item_profiles.iloc[i],\n",
    "                       user_profile) for i in index_all]\n",
    "\n",
    "    return [(i[0]) for i in sort if i[1] > 0][:L], list(zip(index_all, reco_all))"
   ]
  },
  {
   "cell_type": "code",
   "execution_count": 79,
   "id": "0c1ebf53",
   "metadata": {
    "ExecuteTime": {
     "end_time": "2023-03-12T11:24:48.837288Z",
     "start_time": "2023-03-12T11:24:48.829350Z"
    }
   },
   "outputs": [],
   "source": [
    "# Create user profiles\n",
    "df_user_profile_binary_475 = compute_user_profile_agg_binary(\n",
    "    df_utility, df_movie_profile, 475)\n",
    "\n",
    "df_user_profile_binary_387 = compute_user_profile_agg_binary(\n",
    "    df_utility, df_movie_profile, 387)\n",
    "\n",
    "df_user_profile_binary_49 = compute_user_profile_agg_binary(\n",
    "    df_utility, df_movie_profile, 49)"
   ]
  },
  {
   "cell_type": "code",
   "execution_count": 80,
   "id": "3ff90330",
   "metadata": {
    "ExecuteTime": {
     "end_time": "2023-03-12T11:24:56.533982Z",
     "start_time": "2023-03-12T11:24:48.838930Z"
    }
   },
   "outputs": [],
   "source": [
    "top_10_cb_bin_475, reco_cb_bin_475 = recommend_agg_binary(\n",
    "    df_utility, df_movie_profile, df_user_profile_binary_475, 475, 10)\n",
    "\n",
    "top_10_cb_bin_387, reco_cb_bin_387 = recommend_agg_binary(\n",
    "    df_utility, df_movie_profile, df_user_profile_binary_387, 387, 10)\n",
    "\n",
    "top_10_cb_bin_49, reco_cb_bin_49 = recommend_agg_binary(\n",
    "    df_utility, df_movie_profile, df_user_profile_binary_49, 49, 10)"
   ]
  },
  {
   "cell_type": "code",
   "execution_count": 81,
   "id": "e914f940",
   "metadata": {
    "ExecuteTime": {
     "end_time": "2023-03-12T11:24:57.821632Z",
     "start_time": "2023-03-12T11:24:56.536288Z"
    },
    "scrolled": true
   },
   "outputs": [],
   "source": [
    "df_content_binary = df_utility.copy()\n",
    "for i in range(len(reco_cb_bin_475)):\n",
    "    df_content_binary.iloc[df_content_binary.index.get_loc(\n",
    "        475), i] = reco_cb_bin_475[i][1]\n",
    "    df_content_binary.iloc[df_content_binary.index.get_loc(\n",
    "        387), i] = reco_cb_bin_387[i][1]\n",
    "    df_content_binary.iloc[df_content_binary.index.get_loc(\n",
    "        49), i] = reco_cb_bin_49[i][1]\n",
    "df_content_binary = df_content_binary.loc[[475, 387, 49]]\n",
    "\n",
    "content_binary_recos = [top_10_cb_bin_475, top_10_cb_bin_387, top_10_cb_bin_49]"
   ]
  },
  {
   "cell_type": "code",
   "execution_count": 82,
   "id": "f349ccd0",
   "metadata": {
    "ExecuteTime": {
     "end_time": "2023-03-12T11:24:57.843877Z",
     "start_time": "2023-03-12T11:24:57.824045Z"
    }
   },
   "outputs": [
    {
     "name": "stdout",
     "output_type": "stream",
     "text": [
      "The top 10 recommended movies for User 475 are the following:\n"
     ]
    },
    {
     "data": {
      "text/html": [
       "<div>\n",
       "<style scoped>\n",
       "    .dataframe tbody tr th:only-of-type {\n",
       "        vertical-align: middle;\n",
       "    }\n",
       "\n",
       "    .dataframe tbody tr th {\n",
       "        vertical-align: top;\n",
       "    }\n",
       "\n",
       "    .dataframe thead th {\n",
       "        text-align: right;\n",
       "    }\n",
       "</style>\n",
       "<table border=\"1\" class=\"dataframe\">\n",
       "  <thead>\n",
       "    <tr style=\"text-align: right;\">\n",
       "      <th></th>\n",
       "      <th>title</th>\n",
       "      <th>genres</th>\n",
       "    </tr>\n",
       "    <tr>\n",
       "      <th>movieId</th>\n",
       "      <th></th>\n",
       "      <th></th>\n",
       "    </tr>\n",
       "  </thead>\n",
       "  <tbody>\n",
       "    <tr>\n",
       "      <th>1907</th>\n",
       "      <td>Mulan (1998)</td>\n",
       "      <td>Adventure|Animation|Children|Comedy|Drama|Musical|Romance</td>\n",
       "    </tr>\n",
       "    <tr>\n",
       "      <th>56152</th>\n",
       "      <td>Enchanted (2007)</td>\n",
       "      <td>Adventure|Animation|Children|Comedy|Fantasy|Musical|Romance</td>\n",
       "    </tr>\n",
       "    <tr>\n",
       "      <th>108540</th>\n",
       "      <td>Ernest &amp; Célestine (Ernest et Célestine) (2012)</td>\n",
       "      <td>Adventure|Animation|Children|Comedy|Drama|Romance</td>\n",
       "    </tr>\n",
       "    <tr>\n",
       "      <th>631</th>\n",
       "      <td>All Dogs Go to Heaven 2 (1996)</td>\n",
       "      <td>Adventure|Animation|Children|Fantasy|Musical|Romance</td>\n",
       "    </tr>\n",
       "    <tr>\n",
       "      <th>2092</th>\n",
       "      <td>Return of Jafar, The (1994)</td>\n",
       "      <td>Adventure|Animation|Children|Fantasy|Musical|Romance</td>\n",
       "    </tr>\n",
       "    <tr>\n",
       "      <th>134853</th>\n",
       "      <td>Inside Out (2015)</td>\n",
       "      <td>Adventure|Animation|Children|Comedy|Drama|Fantasy</td>\n",
       "    </tr>\n",
       "    <tr>\n",
       "      <th>8360</th>\n",
       "      <td>Shrek 2 (2004)</td>\n",
       "      <td>Adventure|Animation|Children|Comedy|Musical|Romance</td>\n",
       "    </tr>\n",
       "    <tr>\n",
       "      <th>84637</th>\n",
       "      <td>Gnomeo &amp; Juliet (2011)</td>\n",
       "      <td>Adventure|Animation|Children|Comedy|Fantasy|Romance</td>\n",
       "    </tr>\n",
       "    <tr>\n",
       "      <th>92348</th>\n",
       "      <td>Puss in Boots (Nagagutsu o haita neko) (1969)</td>\n",
       "      <td>Adventure|Animation|Children|Comedy|Fantasy|Romance</td>\n",
       "    </tr>\n",
       "    <tr>\n",
       "      <th>4306</th>\n",
       "      <td>Shrek (2001)</td>\n",
       "      <td>Adventure|Animation|Children|Comedy|Fantasy|Romance</td>\n",
       "    </tr>\n",
       "  </tbody>\n",
       "</table>\n",
       "</div>"
      ],
      "text/plain": [
       "                                                   title  \\\n",
       "movieId                                                    \n",
       "1907                                        Mulan (1998)   \n",
       "56152                                   Enchanted (2007)   \n",
       "108540   Ernest & Célestine (Ernest et Célestine) (2012)   \n",
       "631                       All Dogs Go to Heaven 2 (1996)   \n",
       "2092                         Return of Jafar, The (1994)   \n",
       "134853                                 Inside Out (2015)   \n",
       "8360                                      Shrek 2 (2004)   \n",
       "84637                             Gnomeo & Juliet (2011)   \n",
       "92348      Puss in Boots (Nagagutsu o haita neko) (1969)   \n",
       "4306                                        Shrek (2001)   \n",
       "\n",
       "                                                              genres  \n",
       "movieId                                                               \n",
       "1907       Adventure|Animation|Children|Comedy|Drama|Musical|Romance  \n",
       "56152    Adventure|Animation|Children|Comedy|Fantasy|Musical|Romance  \n",
       "108540             Adventure|Animation|Children|Comedy|Drama|Romance  \n",
       "631             Adventure|Animation|Children|Fantasy|Musical|Romance  \n",
       "2092            Adventure|Animation|Children|Fantasy|Musical|Romance  \n",
       "134853             Adventure|Animation|Children|Comedy|Drama|Fantasy  \n",
       "8360             Adventure|Animation|Children|Comedy|Musical|Romance  \n",
       "84637            Adventure|Animation|Children|Comedy|Fantasy|Romance  \n",
       "92348            Adventure|Animation|Children|Comedy|Fantasy|Romance  \n",
       "4306             Adventure|Animation|Children|Comedy|Fantasy|Romance  "
      ]
     },
     "metadata": {},
     "output_type": "display_data"
    },
    {
     "name": "stdout",
     "output_type": "stream",
     "text": [
      "\n",
      "\n",
      "\n",
      "The top 10 recommended movies for User 387 are the following:\n"
     ]
    },
    {
     "data": {
      "text/html": [
       "<div>\n",
       "<style scoped>\n",
       "    .dataframe tbody tr th:only-of-type {\n",
       "        vertical-align: middle;\n",
       "    }\n",
       "\n",
       "    .dataframe tbody tr th {\n",
       "        vertical-align: top;\n",
       "    }\n",
       "\n",
       "    .dataframe thead th {\n",
       "        text-align: right;\n",
       "    }\n",
       "</style>\n",
       "<table border=\"1\" class=\"dataframe\">\n",
       "  <thead>\n",
       "    <tr style=\"text-align: right;\">\n",
       "      <th></th>\n",
       "      <th>title</th>\n",
       "      <th>genres</th>\n",
       "    </tr>\n",
       "    <tr>\n",
       "      <th>movieId</th>\n",
       "      <th></th>\n",
       "      <th></th>\n",
       "    </tr>\n",
       "  </thead>\n",
       "  <tbody>\n",
       "    <tr>\n",
       "      <th>84637</th>\n",
       "      <td>Gnomeo &amp; Juliet (2011)</td>\n",
       "      <td>Adventure|Animation|Children|Comedy|Fantasy|Romance</td>\n",
       "    </tr>\n",
       "    <tr>\n",
       "      <th>92348</th>\n",
       "      <td>Puss in Boots (Nagagutsu o haita neko) (1969)</td>\n",
       "      <td>Adventure|Animation|Children|Comedy|Fantasy|Romance</td>\n",
       "    </tr>\n",
       "    <tr>\n",
       "      <th>3754</th>\n",
       "      <td>Adventures of Rocky and Bullwinkle, The (2000)</td>\n",
       "      <td>Adventure|Animation|Children|Comedy|Fantasy</td>\n",
       "    </tr>\n",
       "    <tr>\n",
       "      <th>4886</th>\n",
       "      <td>Monsters, Inc. (2001)</td>\n",
       "      <td>Adventure|Animation|Children|Comedy|Fantasy</td>\n",
       "    </tr>\n",
       "    <tr>\n",
       "      <th>166461</th>\n",
       "      <td>Moana (2016)</td>\n",
       "      <td>Adventure|Animation|Children|Comedy|Fantasy</td>\n",
       "    </tr>\n",
       "    <tr>\n",
       "      <th>2294</th>\n",
       "      <td>Antz (1998)</td>\n",
       "      <td>Adventure|Animation|Children|Comedy|Fantasy</td>\n",
       "    </tr>\n",
       "    <tr>\n",
       "      <th>3114</th>\n",
       "      <td>Toy Story 2 (1999)</td>\n",
       "      <td>Adventure|Animation|Children|Comedy|Fantasy</td>\n",
       "    </tr>\n",
       "    <tr>\n",
       "      <th>45074</th>\n",
       "      <td>Wild, The (2006)</td>\n",
       "      <td>Adventure|Animation|Children|Comedy|Fantasy</td>\n",
       "    </tr>\n",
       "    <tr>\n",
       "      <th>65577</th>\n",
       "      <td>Tale of Despereaux, The (2008)</td>\n",
       "      <td>Adventure|Animation|Children|Comedy|Fantasy</td>\n",
       "    </tr>\n",
       "    <tr>\n",
       "      <th>91355</th>\n",
       "      <td>Asterix and the Vikings (Astérix et les Vikings) (2006)</td>\n",
       "      <td>Adventure|Animation|Children|Comedy|Fantasy</td>\n",
       "    </tr>\n",
       "  </tbody>\n",
       "</table>\n",
       "</div>"
      ],
      "text/plain": [
       "                                                           title  \\\n",
       "movieId                                                            \n",
       "84637                                     Gnomeo & Juliet (2011)   \n",
       "92348              Puss in Boots (Nagagutsu o haita neko) (1969)   \n",
       "3754              Adventures of Rocky and Bullwinkle, The (2000)   \n",
       "4886                                       Monsters, Inc. (2001)   \n",
       "166461                                              Moana (2016)   \n",
       "2294                                                 Antz (1998)   \n",
       "3114                                          Toy Story 2 (1999)   \n",
       "45074                                           Wild, The (2006)   \n",
       "65577                             Tale of Despereaux, The (2008)   \n",
       "91355    Asterix and the Vikings (Astérix et les Vikings) (2006)   \n",
       "\n",
       "                                                      genres  \n",
       "movieId                                                       \n",
       "84637    Adventure|Animation|Children|Comedy|Fantasy|Romance  \n",
       "92348    Adventure|Animation|Children|Comedy|Fantasy|Romance  \n",
       "3754             Adventure|Animation|Children|Comedy|Fantasy  \n",
       "4886             Adventure|Animation|Children|Comedy|Fantasy  \n",
       "166461           Adventure|Animation|Children|Comedy|Fantasy  \n",
       "2294             Adventure|Animation|Children|Comedy|Fantasy  \n",
       "3114             Adventure|Animation|Children|Comedy|Fantasy  \n",
       "45074            Adventure|Animation|Children|Comedy|Fantasy  \n",
       "65577            Adventure|Animation|Children|Comedy|Fantasy  \n",
       "91355            Adventure|Animation|Children|Comedy|Fantasy  "
      ]
     },
     "metadata": {},
     "output_type": "display_data"
    },
    {
     "name": "stdout",
     "output_type": "stream",
     "text": [
      "\n",
      "\n",
      "\n",
      "The top 10 recommended movies for User 49 are the following:\n"
     ]
    },
    {
     "data": {
      "text/html": [
       "<div>\n",
       "<style scoped>\n",
       "    .dataframe tbody tr th:only-of-type {\n",
       "        vertical-align: middle;\n",
       "    }\n",
       "\n",
       "    .dataframe tbody tr th {\n",
       "        vertical-align: top;\n",
       "    }\n",
       "\n",
       "    .dataframe thead th {\n",
       "        text-align: right;\n",
       "    }\n",
       "</style>\n",
       "<table border=\"1\" class=\"dataframe\">\n",
       "  <thead>\n",
       "    <tr style=\"text-align: right;\">\n",
       "      <th></th>\n",
       "      <th>title</th>\n",
       "      <th>genres</th>\n",
       "    </tr>\n",
       "    <tr>\n",
       "      <th>movieId</th>\n",
       "      <th></th>\n",
       "      <th></th>\n",
       "    </tr>\n",
       "  </thead>\n",
       "  <tbody>\n",
       "    <tr>\n",
       "      <th>55116</th>\n",
       "      <td>Hunting Party, The (2007)</td>\n",
       "      <td>Action|Adventure|Comedy|Drama|Thriller</td>\n",
       "    </tr>\n",
       "    <tr>\n",
       "      <th>117646</th>\n",
       "      <td>Dragonheart 2: A New Beginning (2000)</td>\n",
       "      <td>Action|Adventure|Comedy|Drama|Fantasy|Thriller</td>\n",
       "    </tr>\n",
       "    <tr>\n",
       "      <th>5657</th>\n",
       "      <td>Flashback (1990)</td>\n",
       "      <td>Action|Adventure|Comedy|Crime|Drama</td>\n",
       "    </tr>\n",
       "    <tr>\n",
       "      <th>6990</th>\n",
       "      <td>The Great Train Robbery (1978)</td>\n",
       "      <td>Action|Adventure|Comedy|Crime|Drama</td>\n",
       "    </tr>\n",
       "    <tr>\n",
       "      <th>6016</th>\n",
       "      <td>City of God (Cidade de Deus) (2002)</td>\n",
       "      <td>Action|Adventure|Crime|Drama|Thriller</td>\n",
       "    </tr>\n",
       "    <tr>\n",
       "      <th>4956</th>\n",
       "      <td>Stunt Man, The (1980)</td>\n",
       "      <td>Action|Adventure|Comedy|Drama|Romance|Thriller</td>\n",
       "    </tr>\n",
       "    <tr>\n",
       "      <th>26184</th>\n",
       "      <td>Diamond Arm, The (Brilliantovaya ruka) (1968)</td>\n",
       "      <td>Action|Adventure|Comedy|Crime|Thriller</td>\n",
       "    </tr>\n",
       "    <tr>\n",
       "      <th>6503</th>\n",
       "      <td>Charlie's Angels: Full Throttle (2003)</td>\n",
       "      <td>Action|Adventure|Comedy|Crime|Thriller</td>\n",
       "    </tr>\n",
       "    <tr>\n",
       "      <th>8968</th>\n",
       "      <td>After the Sunset (2004)</td>\n",
       "      <td>Action|Adventure|Comedy|Crime|Thriller</td>\n",
       "    </tr>\n",
       "    <tr>\n",
       "      <th>80219</th>\n",
       "      <td>Machete (2010)</td>\n",
       "      <td>Action|Adventure|Comedy|Crime|Thriller</td>\n",
       "    </tr>\n",
       "  </tbody>\n",
       "</table>\n",
       "</div>"
      ],
      "text/plain": [
       "                                                 title  \\\n",
       "movieId                                                  \n",
       "55116                        Hunting Party, The (2007)   \n",
       "117646           Dragonheart 2: A New Beginning (2000)   \n",
       "5657                                  Flashback (1990)   \n",
       "6990                    The Great Train Robbery (1978)   \n",
       "6016               City of God (Cidade de Deus) (2002)   \n",
       "4956                             Stunt Man, The (1980)   \n",
       "26184    Diamond Arm, The (Brilliantovaya ruka) (1968)   \n",
       "6503            Charlie's Angels: Full Throttle (2003)   \n",
       "8968                           After the Sunset (2004)   \n",
       "80219                                   Machete (2010)   \n",
       "\n",
       "                                                 genres  \n",
       "movieId                                                  \n",
       "55116            Action|Adventure|Comedy|Drama|Thriller  \n",
       "117646   Action|Adventure|Comedy|Drama|Fantasy|Thriller  \n",
       "5657                Action|Adventure|Comedy|Crime|Drama  \n",
       "6990                Action|Adventure|Comedy|Crime|Drama  \n",
       "6016              Action|Adventure|Crime|Drama|Thriller  \n",
       "4956     Action|Adventure|Comedy|Drama|Romance|Thriller  \n",
       "26184            Action|Adventure|Comedy|Crime|Thriller  \n",
       "6503             Action|Adventure|Comedy|Crime|Thriller  \n",
       "8968             Action|Adventure|Comedy|Crime|Thriller  \n",
       "80219            Action|Adventure|Comedy|Crime|Thriller  "
      ]
     },
     "metadata": {},
     "output_type": "display_data"
    },
    {
     "name": "stdout",
     "output_type": "stream",
     "text": [
      "\n",
      "\n",
      "\n"
     ]
    }
   ],
   "source": [
    "for idx in range(3):\n",
    "    print(f\"The top 10 recommended movies for User {users[idx]} \"\n",
    "          f\"are the following:\")\n",
    "    display(df_title.loc[content_binary_recos[idx]])\n",
    "    print(\"\\n\\n\")"
   ]
  },
  {
   "cell_type": "code",
   "execution_count": 83,
   "id": "daf36a69",
   "metadata": {
    "ExecuteTime": {
     "end_time": "2023-03-12T11:24:57.859027Z",
     "start_time": "2023-03-12T11:24:57.845474Z"
    }
   },
   "outputs": [
    {
     "name": "stdout",
     "output_type": "stream",
     "text": [
      "The DCG of Content-based (Binary Aggregation) Recommender System is : 5.0853\n",
      "The NDCG of Content-based (Binary Aggregation) Recommender System is: 0.5604\n"
     ]
    }
   ],
   "source": [
    "print(f\"The DCG of Content-based (Binary Aggregation) Recommender System is :\"\n",
    "      f\" {dcg(df_content_binary, content_binary_recos):.4f}\" )\n",
    "print(f\"The NDCG of Content-based (Binary Aggregation) Recommender System is:\"\n",
    "      f\" {ndcg(df_content_binary, content_binary_recos):.4f}\")"
   ]
  },
  {
   "cell_type": "markdown",
   "id": "9fc25ebd",
   "metadata": {},
   "source": [
    "<h4 style=\"color:#7B7C7C\">Numeric Aggregation</h4>\n",
    "\n",
    "***"
   ]
  },
  {
   "cell_type": "markdown",
   "id": "5d733f6f",
   "metadata": {},
   "source": [
    "The team used Numeric Aggregation Content-based for the recommender system."
   ]
  },
  {
   "cell_type": "code",
   "execution_count": 84,
   "id": "8b98e1fc",
   "metadata": {
    "ExecuteTime": {
     "end_time": "2023-03-12T11:24:57.868629Z",
     "start_time": "2023-03-12T11:24:57.860980Z"
    }
   },
   "outputs": [],
   "source": [
    "def compute_user_profile_agg_numeric(df_utility, df_item_profiles, user):\n",
    "    \"\"\"Function that calculates the mean value for each feature of all \n",
    "    items in the item profile based on the given user where all items are\n",
    "    caclulated based on the mean center value of each item as its weight based \n",
    "    on the mean user rating as calculated for the user. Returns the calculated \n",
    "    user profile for all features.\n",
    "    \"\"\"\n",
    "    mean_user = df_utility.iloc[user].mean(skipna=True)\n",
    "    weight = (df_utility.iloc[user] - df_utility.iloc[user].mean(skipna=True))\n",
    "    weight = weight.to_numpy().reshape(weight.shape[0], 1)\n",
    "    df_user_profile = (pd.DataFrame(df_item_profiles.to_numpy()*weight,\n",
    "                                    columns=df_item_profiles.columns))\n",
    "    return df_user_profile.mean()\n",
    "\n",
    "\n",
    "def recommend_agg_numeric(df_utility, df_item_profiles,\n",
    "                          user_profile, user, L):\n",
    "    \"\"\"Function that returns the top L recommendation of unrated items based\n",
    "    on the cosine distance measure of the item profile against the mean \n",
    "    centered aggregated user profile. Returns a ranked list of items in desc \n",
    "    order.\n",
    "    \"\"\"\n",
    "\n",
    "    index = np.where(np.isnan(df_utility.iloc[user]))[0]\n",
    "    movie_id = df_item_profiles.iloc[index].index\n",
    "\n",
    "    reco = [cosine(df_item_profiles.iloc[i], user_profile) for i in index]\n",
    "    sort = sorted(list(zip(movie_id, reco)), key=lambda x: (x[1], x[0]))\n",
    "\n",
    "    index_all = np.where((df_utility.iloc[user]))[0]\n",
    "    reco_all = [cosine(df_item_profiles.iloc[i], user_profile)\n",
    "                for i in index_all]\n",
    "\n",
    "    return [(i[0]) for i in sort if i[1] > 0][:L], list(zip(index_all,\n",
    "                                                            reco_all))"
   ]
  },
  {
   "cell_type": "code",
   "execution_count": 85,
   "id": "9570b39e",
   "metadata": {
    "ExecuteTime": {
     "end_time": "2023-03-12T11:24:57.880181Z",
     "start_time": "2023-03-12T11:24:57.871925Z"
    }
   },
   "outputs": [],
   "source": [
    "# Create user profiles\n",
    "df_user_profile_numeric_475 = compute_user_profile_agg_numeric(\n",
    "    df_utility, df_movie_profile, 475)\n",
    "\n",
    "df_user_profile_numeric_387 = compute_user_profile_agg_numeric(\n",
    "    df_utility, df_movie_profile, 387)\n",
    "\n",
    "df_user_profile_numeric_49 = compute_user_profile_agg_numeric(\n",
    "    df_utility, df_movie_profile, 49)"
   ]
  },
  {
   "cell_type": "code",
   "execution_count": 86,
   "id": "1e5c2902",
   "metadata": {
    "ExecuteTime": {
     "end_time": "2023-03-12T11:25:05.315629Z",
     "start_time": "2023-03-12T11:24:57.881683Z"
    }
   },
   "outputs": [],
   "source": [
    "top_10_cb_num_475, reco_cb_num_475 = recommend_agg_numeric(\n",
    "    df_utility, df_movie_profile, df_user_profile_binary_475, 475, 10)\n",
    "\n",
    "top_10_cb_num_387, reco_cb_num_387 = recommend_agg_numeric(\n",
    "    df_utility, df_movie_profile, df_user_profile_binary_387, 387, 10)\n",
    "\n",
    "top_10_cb_num_49, reco_cb_num_49 = recommend_agg_numeric(\n",
    "    df_utility, df_movie_profile, df_user_profile_numeric_49, 49, 10)"
   ]
  },
  {
   "cell_type": "code",
   "execution_count": 87,
   "id": "bd0b264f",
   "metadata": {
    "ExecuteTime": {
     "end_time": "2023-03-12T11:25:06.615580Z",
     "start_time": "2023-03-12T11:25:05.318750Z"
    }
   },
   "outputs": [],
   "source": [
    "df_content_numeric = df_utility.copy()\n",
    "\n",
    "for i in range(len(reco_cb_num_475)):\n",
    "    df_content_numeric.iloc[df_content_numeric.index.get_loc(\n",
    "        475), i] = reco_cb_num_475[i][1]\n",
    "    df_content_numeric.iloc[df_content_numeric.index.get_loc(\n",
    "        387), i] = reco_cb_num_387[i][1]\n",
    "    df_content_numeric.iloc[df_content_numeric.index.get_loc(\n",
    "        49), i] = reco_cb_num_49[i][1]\n",
    "df_content_numeric = df_content_numeric.loc[[475, 387, 49]]\n",
    "content_numeric_recos = [top_10_cb_num_475,\n",
    "                         top_10_cb_num_387, top_10_cb_num_49]"
   ]
  },
  {
   "cell_type": "code",
   "execution_count": 88,
   "id": "33d9a32b",
   "metadata": {
    "ExecuteTime": {
     "end_time": "2023-03-12T11:25:06.639800Z",
     "start_time": "2023-03-12T11:25:06.617785Z"
    }
   },
   "outputs": [
    {
     "name": "stdout",
     "output_type": "stream",
     "text": [
      "The top 10 recommended movies for User 475 are the following:\n"
     ]
    },
    {
     "data": {
      "text/html": [
       "<div>\n",
       "<style scoped>\n",
       "    .dataframe tbody tr th:only-of-type {\n",
       "        vertical-align: middle;\n",
       "    }\n",
       "\n",
       "    .dataframe tbody tr th {\n",
       "        vertical-align: top;\n",
       "    }\n",
       "\n",
       "    .dataframe thead th {\n",
       "        text-align: right;\n",
       "    }\n",
       "</style>\n",
       "<table border=\"1\" class=\"dataframe\">\n",
       "  <thead>\n",
       "    <tr style=\"text-align: right;\">\n",
       "      <th></th>\n",
       "      <th>title</th>\n",
       "      <th>genres</th>\n",
       "    </tr>\n",
       "    <tr>\n",
       "      <th>movieId</th>\n",
       "      <th></th>\n",
       "      <th></th>\n",
       "    </tr>\n",
       "  </thead>\n",
       "  <tbody>\n",
       "    <tr>\n",
       "      <th>1907</th>\n",
       "      <td>Mulan (1998)</td>\n",
       "      <td>Adventure|Animation|Children|Comedy|Drama|Musical|Romance</td>\n",
       "    </tr>\n",
       "    <tr>\n",
       "      <th>56152</th>\n",
       "      <td>Enchanted (2007)</td>\n",
       "      <td>Adventure|Animation|Children|Comedy|Fantasy|Musical|Romance</td>\n",
       "    </tr>\n",
       "    <tr>\n",
       "      <th>108540</th>\n",
       "      <td>Ernest &amp; Célestine (Ernest et Célestine) (2012)</td>\n",
       "      <td>Adventure|Animation|Children|Comedy|Drama|Romance</td>\n",
       "    </tr>\n",
       "    <tr>\n",
       "      <th>631</th>\n",
       "      <td>All Dogs Go to Heaven 2 (1996)</td>\n",
       "      <td>Adventure|Animation|Children|Fantasy|Musical|Romance</td>\n",
       "    </tr>\n",
       "    <tr>\n",
       "      <th>2092</th>\n",
       "      <td>Return of Jafar, The (1994)</td>\n",
       "      <td>Adventure|Animation|Children|Fantasy|Musical|Romance</td>\n",
       "    </tr>\n",
       "    <tr>\n",
       "      <th>134853</th>\n",
       "      <td>Inside Out (2015)</td>\n",
       "      <td>Adventure|Animation|Children|Comedy|Drama|Fantasy</td>\n",
       "    </tr>\n",
       "    <tr>\n",
       "      <th>8360</th>\n",
       "      <td>Shrek 2 (2004)</td>\n",
       "      <td>Adventure|Animation|Children|Comedy|Musical|Romance</td>\n",
       "    </tr>\n",
       "    <tr>\n",
       "      <th>84637</th>\n",
       "      <td>Gnomeo &amp; Juliet (2011)</td>\n",
       "      <td>Adventure|Animation|Children|Comedy|Fantasy|Romance</td>\n",
       "    </tr>\n",
       "    <tr>\n",
       "      <th>92348</th>\n",
       "      <td>Puss in Boots (Nagagutsu o haita neko) (1969)</td>\n",
       "      <td>Adventure|Animation|Children|Comedy|Fantasy|Romance</td>\n",
       "    </tr>\n",
       "    <tr>\n",
       "      <th>4306</th>\n",
       "      <td>Shrek (2001)</td>\n",
       "      <td>Adventure|Animation|Children|Comedy|Fantasy|Romance</td>\n",
       "    </tr>\n",
       "  </tbody>\n",
       "</table>\n",
       "</div>"
      ],
      "text/plain": [
       "                                                   title  \\\n",
       "movieId                                                    \n",
       "1907                                        Mulan (1998)   \n",
       "56152                                   Enchanted (2007)   \n",
       "108540   Ernest & Célestine (Ernest et Célestine) (2012)   \n",
       "631                       All Dogs Go to Heaven 2 (1996)   \n",
       "2092                         Return of Jafar, The (1994)   \n",
       "134853                                 Inside Out (2015)   \n",
       "8360                                      Shrek 2 (2004)   \n",
       "84637                             Gnomeo & Juliet (2011)   \n",
       "92348      Puss in Boots (Nagagutsu o haita neko) (1969)   \n",
       "4306                                        Shrek (2001)   \n",
       "\n",
       "                                                              genres  \n",
       "movieId                                                               \n",
       "1907       Adventure|Animation|Children|Comedy|Drama|Musical|Romance  \n",
       "56152    Adventure|Animation|Children|Comedy|Fantasy|Musical|Romance  \n",
       "108540             Adventure|Animation|Children|Comedy|Drama|Romance  \n",
       "631             Adventure|Animation|Children|Fantasy|Musical|Romance  \n",
       "2092            Adventure|Animation|Children|Fantasy|Musical|Romance  \n",
       "134853             Adventure|Animation|Children|Comedy|Drama|Fantasy  \n",
       "8360             Adventure|Animation|Children|Comedy|Musical|Romance  \n",
       "84637            Adventure|Animation|Children|Comedy|Fantasy|Romance  \n",
       "92348            Adventure|Animation|Children|Comedy|Fantasy|Romance  \n",
       "4306             Adventure|Animation|Children|Comedy|Fantasy|Romance  "
      ]
     },
     "metadata": {},
     "output_type": "display_data"
    },
    {
     "name": "stdout",
     "output_type": "stream",
     "text": [
      "\n",
      "\n",
      "\n",
      "The top 10 recommended movies for User 387 are the following:\n"
     ]
    },
    {
     "data": {
      "text/html": [
       "<div>\n",
       "<style scoped>\n",
       "    .dataframe tbody tr th:only-of-type {\n",
       "        vertical-align: middle;\n",
       "    }\n",
       "\n",
       "    .dataframe tbody tr th {\n",
       "        vertical-align: top;\n",
       "    }\n",
       "\n",
       "    .dataframe thead th {\n",
       "        text-align: right;\n",
       "    }\n",
       "</style>\n",
       "<table border=\"1\" class=\"dataframe\">\n",
       "  <thead>\n",
       "    <tr style=\"text-align: right;\">\n",
       "      <th></th>\n",
       "      <th>title</th>\n",
       "      <th>genres</th>\n",
       "    </tr>\n",
       "    <tr>\n",
       "      <th>movieId</th>\n",
       "      <th></th>\n",
       "      <th></th>\n",
       "    </tr>\n",
       "  </thead>\n",
       "  <tbody>\n",
       "    <tr>\n",
       "      <th>84637</th>\n",
       "      <td>Gnomeo &amp; Juliet (2011)</td>\n",
       "      <td>Adventure|Animation|Children|Comedy|Fantasy|Romance</td>\n",
       "    </tr>\n",
       "    <tr>\n",
       "      <th>92348</th>\n",
       "      <td>Puss in Boots (Nagagutsu o haita neko) (1969)</td>\n",
       "      <td>Adventure|Animation|Children|Comedy|Fantasy|Romance</td>\n",
       "    </tr>\n",
       "    <tr>\n",
       "      <th>3754</th>\n",
       "      <td>Adventures of Rocky and Bullwinkle, The (2000)</td>\n",
       "      <td>Adventure|Animation|Children|Comedy|Fantasy</td>\n",
       "    </tr>\n",
       "    <tr>\n",
       "      <th>4886</th>\n",
       "      <td>Monsters, Inc. (2001)</td>\n",
       "      <td>Adventure|Animation|Children|Comedy|Fantasy</td>\n",
       "    </tr>\n",
       "    <tr>\n",
       "      <th>166461</th>\n",
       "      <td>Moana (2016)</td>\n",
       "      <td>Adventure|Animation|Children|Comedy|Fantasy</td>\n",
       "    </tr>\n",
       "    <tr>\n",
       "      <th>2294</th>\n",
       "      <td>Antz (1998)</td>\n",
       "      <td>Adventure|Animation|Children|Comedy|Fantasy</td>\n",
       "    </tr>\n",
       "    <tr>\n",
       "      <th>3114</th>\n",
       "      <td>Toy Story 2 (1999)</td>\n",
       "      <td>Adventure|Animation|Children|Comedy|Fantasy</td>\n",
       "    </tr>\n",
       "    <tr>\n",
       "      <th>45074</th>\n",
       "      <td>Wild, The (2006)</td>\n",
       "      <td>Adventure|Animation|Children|Comedy|Fantasy</td>\n",
       "    </tr>\n",
       "    <tr>\n",
       "      <th>65577</th>\n",
       "      <td>Tale of Despereaux, The (2008)</td>\n",
       "      <td>Adventure|Animation|Children|Comedy|Fantasy</td>\n",
       "    </tr>\n",
       "    <tr>\n",
       "      <th>91355</th>\n",
       "      <td>Asterix and the Vikings (Astérix et les Vikings) (2006)</td>\n",
       "      <td>Adventure|Animation|Children|Comedy|Fantasy</td>\n",
       "    </tr>\n",
       "  </tbody>\n",
       "</table>\n",
       "</div>"
      ],
      "text/plain": [
       "                                                           title  \\\n",
       "movieId                                                            \n",
       "84637                                     Gnomeo & Juliet (2011)   \n",
       "92348              Puss in Boots (Nagagutsu o haita neko) (1969)   \n",
       "3754              Adventures of Rocky and Bullwinkle, The (2000)   \n",
       "4886                                       Monsters, Inc. (2001)   \n",
       "166461                                              Moana (2016)   \n",
       "2294                                                 Antz (1998)   \n",
       "3114                                          Toy Story 2 (1999)   \n",
       "45074                                           Wild, The (2006)   \n",
       "65577                             Tale of Despereaux, The (2008)   \n",
       "91355    Asterix and the Vikings (Astérix et les Vikings) (2006)   \n",
       "\n",
       "                                                      genres  \n",
       "movieId                                                       \n",
       "84637    Adventure|Animation|Children|Comedy|Fantasy|Romance  \n",
       "92348    Adventure|Animation|Children|Comedy|Fantasy|Romance  \n",
       "3754             Adventure|Animation|Children|Comedy|Fantasy  \n",
       "4886             Adventure|Animation|Children|Comedy|Fantasy  \n",
       "166461           Adventure|Animation|Children|Comedy|Fantasy  \n",
       "2294             Adventure|Animation|Children|Comedy|Fantasy  \n",
       "3114             Adventure|Animation|Children|Comedy|Fantasy  \n",
       "45074            Adventure|Animation|Children|Comedy|Fantasy  \n",
       "65577            Adventure|Animation|Children|Comedy|Fantasy  \n",
       "91355            Adventure|Animation|Children|Comedy|Fantasy  "
      ]
     },
     "metadata": {},
     "output_type": "display_data"
    },
    {
     "name": "stdout",
     "output_type": "stream",
     "text": [
      "\n",
      "\n",
      "\n",
      "The top 10 recommended movies for User 49 are the following:\n"
     ]
    },
    {
     "data": {
      "text/html": [
       "<div>\n",
       "<style scoped>\n",
       "    .dataframe tbody tr th:only-of-type {\n",
       "        vertical-align: middle;\n",
       "    }\n",
       "\n",
       "    .dataframe tbody tr th {\n",
       "        vertical-align: top;\n",
       "    }\n",
       "\n",
       "    .dataframe thead th {\n",
       "        text-align: right;\n",
       "    }\n",
       "</style>\n",
       "<table border=\"1\" class=\"dataframe\">\n",
       "  <thead>\n",
       "    <tr style=\"text-align: right;\">\n",
       "      <th></th>\n",
       "      <th>title</th>\n",
       "      <th>genres</th>\n",
       "    </tr>\n",
       "    <tr>\n",
       "      <th>movieId</th>\n",
       "      <th></th>\n",
       "      <th></th>\n",
       "    </tr>\n",
       "  </thead>\n",
       "  <tbody>\n",
       "    <tr>\n",
       "      <th>259</th>\n",
       "      <td>Kiss of Death (1995)</td>\n",
       "      <td>Crime|Drama|Thriller</td>\n",
       "    </tr>\n",
       "    <tr>\n",
       "      <th>507</th>\n",
       "      <td>Perfect World, A (1993)</td>\n",
       "      <td>Crime|Drama|Thriller</td>\n",
       "    </tr>\n",
       "    <tr>\n",
       "      <th>2176</th>\n",
       "      <td>Rope (1948)</td>\n",
       "      <td>Crime|Drama|Thriller</td>\n",
       "    </tr>\n",
       "    <tr>\n",
       "      <th>2268</th>\n",
       "      <td>Few Good Men, A (1992)</td>\n",
       "      <td>Crime|Drama|Thriller</td>\n",
       "    </tr>\n",
       "    <tr>\n",
       "      <th>3169</th>\n",
       "      <td>The Falcon and the Snowman (1985)</td>\n",
       "      <td>Crime|Drama|Thriller</td>\n",
       "    </tr>\n",
       "    <tr>\n",
       "      <th>3551</th>\n",
       "      <td>Marathon Man (1976)</td>\n",
       "      <td>Crime|Drama|Thriller</td>\n",
       "    </tr>\n",
       "    <tr>\n",
       "      <th>4034</th>\n",
       "      <td>Traffic (2000)</td>\n",
       "      <td>Crime|Drama|Thriller</td>\n",
       "    </tr>\n",
       "    <tr>\n",
       "      <th>4776</th>\n",
       "      <td>Training Day (2001)</td>\n",
       "      <td>Crime|Drama|Thriller</td>\n",
       "    </tr>\n",
       "    <tr>\n",
       "      <th>5329</th>\n",
       "      <td>Salton Sea, The (2002)</td>\n",
       "      <td>Crime|Drama|Thriller</td>\n",
       "    </tr>\n",
       "    <tr>\n",
       "      <th>5959</th>\n",
       "      <td>Narc (2002)</td>\n",
       "      <td>Crime|Drama|Thriller</td>\n",
       "    </tr>\n",
       "  </tbody>\n",
       "</table>\n",
       "</div>"
      ],
      "text/plain": [
       "                                     title                genres\n",
       "movieId                                                         \n",
       "259                   Kiss of Death (1995)  Crime|Drama|Thriller\n",
       "507                Perfect World, A (1993)  Crime|Drama|Thriller\n",
       "2176                           Rope (1948)  Crime|Drama|Thriller\n",
       "2268                Few Good Men, A (1992)  Crime|Drama|Thriller\n",
       "3169     The Falcon and the Snowman (1985)  Crime|Drama|Thriller\n",
       "3551                   Marathon Man (1976)  Crime|Drama|Thriller\n",
       "4034                        Traffic (2000)  Crime|Drama|Thriller\n",
       "4776                   Training Day (2001)  Crime|Drama|Thriller\n",
       "5329                Salton Sea, The (2002)  Crime|Drama|Thriller\n",
       "5959                           Narc (2002)  Crime|Drama|Thriller"
      ]
     },
     "metadata": {},
     "output_type": "display_data"
    },
    {
     "name": "stdout",
     "output_type": "stream",
     "text": [
      "\n",
      "\n",
      "\n"
     ]
    }
   ],
   "source": [
    "for idx in range(3):\n",
    "    print(f\"The top 10 recommended movies for User {users[idx]} \"\n",
    "          f\"are the following:\")\n",
    "    display(df_title.loc[content_numeric_recos[idx]])\n",
    "    print(\"\\n\\n\")"
   ]
  },
  {
   "cell_type": "code",
   "execution_count": 89,
   "id": "35e0ad19",
   "metadata": {
    "ExecuteTime": {
     "end_time": "2023-03-12T11:25:06.655469Z",
     "start_time": "2023-03-12T11:25:06.641570Z"
    }
   },
   "outputs": [
    {
     "name": "stdout",
     "output_type": "stream",
     "text": [
      "The DCG of Content-based (Numeric Aggregation) Recommender System is : 5.0284\n",
      "The NDCG of Content-based (Numeric Aggregation) Recommender System is: 0.5133\n"
     ]
    }
   ],
   "source": [
    "print(f\"The DCG of Content-based (Numeric Aggregation) Recommender System is \"\n",
    "      f\": {dcg(df_content_numeric, content_numeric_recos):.4f}\" )\n",
    "print(f\"The NDCG of Content-based (Numeric Aggregation) Recommender System is\"\n",
    "      f\": {ndcg(df_content_numeric, content_numeric_recos):.4f}\")"
   ]
  },
  {
   "cell_type": "markdown",
   "id": "cdd1815e",
   "metadata": {},
   "source": [
    "Both Content-Based Binary and Numeric Aggregation recommendations produced the same results. However, it was the unexpected results that it gave out movies that have multiple genres. There is no clear pattern, but almost all the appeared genres have been somewhat rated but not the top user preference. After further investigation, it was because of the weight given to movies with multiple genres. Since the movies recommended have around 3-6+ genres, it amplified the score of movies since the computation is per genre. If a user has rated multiple movies in different genres, it will amplify the scores of these multi-genre movies. This is why Paolo and Martin have near similar recommendations because they have already rated many movies. Almond has a slightly different result, but the quality of the results is still the same. Both algorithms have nearly similar DCG and NDCG scores."
   ]
  },
  {
   "cell_type": "markdown",
   "id": "f821c282",
   "metadata": {},
   "source": [
    "<h4 style=\"color:#7B7C7C\">Rule-based Approach</h4>\n",
    "\n",
    "***"
   ]
  },
  {
   "cell_type": "markdown",
   "id": "00d7346e",
   "metadata": {},
   "source": [
    "The team used Rule-based Content-based for the recommender system."
   ]
  },
  {
   "cell_type": "code",
   "execution_count": 90,
   "id": "0c20a221",
   "metadata": {
    "ExecuteTime": {
     "end_time": "2023-03-12T11:25:06.671967Z",
     "start_time": "2023-03-12T11:25:06.657562Z"
    }
   },
   "outputs": [],
   "source": [
    "def find_rules(df_utility, df_item_profiles, user, minsup, minconf):\n",
    "    \"\"\"\n",
    "    The function accepts the utility matrix and item profiles then returns \n",
    "    the rules for the given user, minimum support and minimum confidence.\n",
    "    Return each rule as a dictionary with keys rating, features and\n",
    "    confidence. A rating is LIKE if the rating is at least equal to the mean\n",
    "    rating of the user, otherwise the rating is DISLIKE if the rating is less\n",
    "    than the mean rating of the user. Sort features lexicographically. Sort\n",
    "    rules by decreasing confidence then lexicographically by features.\n",
    "    \"\"\"\n",
    "\n",
    "    user_ratings = df_utility.loc[user]\n",
    "    user_mean_rating = user_ratings.mean()\n",
    "    mean_centered_ratings = user_ratings - user_mean_rating\n",
    "\n",
    "    df_item_profiles = df_item_profiles.copy()\n",
    "    df_item_profiles[['LIKE', 'DISLIKE']] = 0\n",
    "    (df_item_profiles.loc[mean_centered_ratings\n",
    "                          .index[mean_centered_ratings >= 0], 'LIKE']) = 1\n",
    "    (df_item_profiles.loc[mean_centered_ratings\n",
    "                          .index[mean_centered_ratings < 0], 'DISLIKE']) = 1\n",
    "\n",
    "    selected_items = (df_item_profiles.loc[mean_centered_ratings.dropna()\n",
    "                                           .index])\n",
    "    db = selected_items.apply(lambda x: set(x.index[x > 0]), axis=1)\n",
    "    db_list = db.to_list()\n",
    "\n",
    "    rules = fim.fpgrowth(db_list, target='r', supp=minsup,\n",
    "                         conf=minconf, report='C')\n",
    "    rules = [r for r in rules if (\n",
    "        r[0] == 'LIKE' or r[0] == 'DISLIKE') and len(r[1]) > 0]\n",
    "    sorted_rules = sorted(rules, key=lambda r: (-r[2], sorted(r[1])))\n",
    "\n",
    "    result = [{'rating': r[0], 'features': sorted(\n",
    "        r[1]), 'confidence': r[2]} for r in sorted_rules]\n",
    "    return result\n",
    "\n",
    "\n",
    "def recommend_rules(df_utility, df_item_profiles, user_profile, user, L):\n",
    "    \"\"\"Accepts the utility matrix and item profiles then recommends L items to\n",
    "    the user based on their user profile. Sort by item ID if they are of equal\n",
    "    rating.\"\"\"\n",
    "    mask_unrated = df_utility.loc[user].isnull()\n",
    "    item_unrated = mask_unrated[mask_unrated].index\n",
    "\n",
    "    rankings = dict()\n",
    "    for joke_id, row in df_item_profiles.loc[item_unrated].iterrows():\n",
    "        scores = [r['confidence'] * (-1 if r['rating'] == 'DISLIKE' else 1)\n",
    "                  for r in rules\n",
    "                  if set(r['features']).issubset(row[row > 0].index)]\n",
    "        rank = np.sum(scores)\n",
    "        rankings[joke_id] = rank\n",
    "\n",
    "    reco = sorted(rankings.items(),\n",
    "                  key=lambda x: (x[1], -x[0]), reverse=True)[:L]\n",
    "    rules_recos = [r[0] for r in reco]\n",
    "\n",
    "    # Calculate the score of all other\n",
    "    rankings_2 = dict()\n",
    "    for joke_id, row in df_item_profiles.iterrows():\n",
    "        scores = [r['confidence'] * (-1 if r['rating'] == 'DISLIKE' else 1)\n",
    "                  for r in user_profile\n",
    "                  if set(r['features']).issubset(row[row > 0].index)]\n",
    "        rank = np.sum(scores)\n",
    "        rankings_2[joke_id] = rank\n",
    "\n",
    "    df_util_fill = pd.DataFrame(rankings_2, index=[user])\n",
    "\n",
    "    return rules_recos, df_util_fill"
   ]
  },
  {
   "cell_type": "code",
   "execution_count": 91,
   "id": "55c3dce0",
   "metadata": {
    "ExecuteTime": {
     "end_time": "2023-03-12T11:37:56.317740Z",
     "start_time": "2023-03-12T11:25:06.674302Z"
    }
   },
   "outputs": [],
   "source": [
    "rules_recos = []\n",
    "for idx, user in enumerate(users):\n",
    "    rules = find_rules(df_utility, df_movie_profile, user,\n",
    "                       minsup=-5, minconf=60)\n",
    "    rules_reco, df_util_fill = recommend_rules(df_utility,\n",
    "                                               df_movie_profile, rules,\n",
    "                                               user, 10)\n",
    "    rules_recos.append(rules_reco)\n",
    "    if idx == 0:\n",
    "        df_util_ndcg = df_util_fill.copy()\n",
    "    else:\n",
    "        df_util_ndcg = pd.concat([df_util_ndcg, df_util_fill], axis=0)"
   ]
  },
  {
   "cell_type": "code",
   "execution_count": 92,
   "id": "63ffb88e",
   "metadata": {
    "ExecuteTime": {
     "end_time": "2023-03-12T11:37:56.341978Z",
     "start_time": "2023-03-12T11:37:56.320683Z"
    }
   },
   "outputs": [
    {
     "name": "stdout",
     "output_type": "stream",
     "text": [
      "The top 10 recommended movies for User 475 are the following:\n"
     ]
    },
    {
     "data": {
      "text/html": [
       "<div>\n",
       "<style scoped>\n",
       "    .dataframe tbody tr th:only-of-type {\n",
       "        vertical-align: middle;\n",
       "    }\n",
       "\n",
       "    .dataframe tbody tr th {\n",
       "        vertical-align: top;\n",
       "    }\n",
       "\n",
       "    .dataframe thead th {\n",
       "        text-align: right;\n",
       "    }\n",
       "</style>\n",
       "<table border=\"1\" class=\"dataframe\">\n",
       "  <thead>\n",
       "    <tr style=\"text-align: right;\">\n",
       "      <th></th>\n",
       "      <th>title</th>\n",
       "      <th>genres</th>\n",
       "    </tr>\n",
       "    <tr>\n",
       "      <th>movieId</th>\n",
       "      <th></th>\n",
       "      <th></th>\n",
       "    </tr>\n",
       "  </thead>\n",
       "  <tbody>\n",
       "    <tr>\n",
       "      <th>210</th>\n",
       "      <td>Wild Bill (1995)</td>\n",
       "      <td>Western</td>\n",
       "    </tr>\n",
       "    <tr>\n",
       "      <th>383</th>\n",
       "      <td>Wyatt Earp (1994)</td>\n",
       "      <td>Western</td>\n",
       "    </tr>\n",
       "    <tr>\n",
       "      <th>416</th>\n",
       "      <td>Bad Girls (1994)</td>\n",
       "      <td>Western</td>\n",
       "    </tr>\n",
       "    <tr>\n",
       "      <th>913</th>\n",
       "      <td>Maltese Falcon, The (1941)</td>\n",
       "      <td>Film-Noir|Mystery</td>\n",
       "    </tr>\n",
       "    <tr>\n",
       "      <th>2066</th>\n",
       "      <td>Out of the Past (1947)</td>\n",
       "      <td>Film-Noir</td>\n",
       "    </tr>\n",
       "    <tr>\n",
       "      <th>2401</th>\n",
       "      <td>Pale Rider (1985)</td>\n",
       "      <td>Western</td>\n",
       "    </tr>\n",
       "    <tr>\n",
       "      <th>2896</th>\n",
       "      <td>Alvarez Kelly (1966)</td>\n",
       "      <td>Western</td>\n",
       "    </tr>\n",
       "    <tr>\n",
       "      <th>2921</th>\n",
       "      <td>High Plains Drifter (1973)</td>\n",
       "      <td>Western</td>\n",
       "    </tr>\n",
       "    <tr>\n",
       "      <th>3037</th>\n",
       "      <td>Little Big Man (1970)</td>\n",
       "      <td>Western</td>\n",
       "    </tr>\n",
       "    <tr>\n",
       "      <th>3074</th>\n",
       "      <td>Jeremiah Johnson (1972)</td>\n",
       "      <td>Western</td>\n",
       "    </tr>\n",
       "  </tbody>\n",
       "</table>\n",
       "</div>"
      ],
      "text/plain": [
       "                              title             genres\n",
       "movieId                                               \n",
       "210                Wild Bill (1995)            Western\n",
       "383               Wyatt Earp (1994)            Western\n",
       "416                Bad Girls (1994)            Western\n",
       "913      Maltese Falcon, The (1941)  Film-Noir|Mystery\n",
       "2066         Out of the Past (1947)          Film-Noir\n",
       "2401              Pale Rider (1985)            Western\n",
       "2896           Alvarez Kelly (1966)            Western\n",
       "2921     High Plains Drifter (1973)            Western\n",
       "3037          Little Big Man (1970)            Western\n",
       "3074        Jeremiah Johnson (1972)            Western"
      ]
     },
     "metadata": {},
     "output_type": "display_data"
    },
    {
     "name": "stdout",
     "output_type": "stream",
     "text": [
      "\n",
      "\n",
      "\n",
      "The top 10 recommended movies for User 387 are the following:\n"
     ]
    },
    {
     "data": {
      "text/html": [
       "<div>\n",
       "<style scoped>\n",
       "    .dataframe tbody tr th:only-of-type {\n",
       "        vertical-align: middle;\n",
       "    }\n",
       "\n",
       "    .dataframe tbody tr th {\n",
       "        vertical-align: top;\n",
       "    }\n",
       "\n",
       "    .dataframe thead th {\n",
       "        text-align: right;\n",
       "    }\n",
       "</style>\n",
       "<table border=\"1\" class=\"dataframe\">\n",
       "  <thead>\n",
       "    <tr style=\"text-align: right;\">\n",
       "      <th></th>\n",
       "      <th>title</th>\n",
       "      <th>genres</th>\n",
       "    </tr>\n",
       "    <tr>\n",
       "      <th>movieId</th>\n",
       "      <th></th>\n",
       "      <th></th>\n",
       "    </tr>\n",
       "  </thead>\n",
       "  <tbody>\n",
       "    <tr>\n",
       "      <th>81132</th>\n",
       "      <td>Rubber (2010)</td>\n",
       "      <td>Action|Adventure|Comedy|Crime|Drama|Film-Noir|Horror|Mystery|Thriller|Western</td>\n",
       "    </tr>\n",
       "    <tr>\n",
       "      <th>26701</th>\n",
       "      <td>Patlabor: The Movie (Kidô keisatsu patorebâ: The Movie) (1989)</td>\n",
       "      <td>Action|Animation|Crime|Drama|Film-Noir|Mystery|Sci-Fi|Thriller</td>\n",
       "    </tr>\n",
       "    <tr>\n",
       "      <th>43932</th>\n",
       "      <td>Pulse (2006)</td>\n",
       "      <td>Action|Drama|Fantasy|Horror|Mystery|Sci-Fi|Thriller</td>\n",
       "    </tr>\n",
       "    <tr>\n",
       "      <th>79132</th>\n",
       "      <td>Inception (2010)</td>\n",
       "      <td>Action|Crime|Drama|Mystery|Sci-Fi|Thriller|IMAX</td>\n",
       "    </tr>\n",
       "    <tr>\n",
       "      <th>198</th>\n",
       "      <td>Strange Days (1995)</td>\n",
       "      <td>Action|Crime|Drama|Mystery|Sci-Fi|Thriller</td>\n",
       "    </tr>\n",
       "    <tr>\n",
       "      <th>71999</th>\n",
       "      <td>Aelita: The Queen of Mars (Aelita) (1924)</td>\n",
       "      <td>Action|Adventure|Drama|Fantasy|Romance|Sci-Fi|Thriller</td>\n",
       "    </tr>\n",
       "    <tr>\n",
       "      <th>6902</th>\n",
       "      <td>Interstate 60 (2002)</td>\n",
       "      <td>Adventure|Comedy|Drama|Fantasy|Mystery|Sci-Fi|Thriller</td>\n",
       "    </tr>\n",
       "    <tr>\n",
       "      <th>130482</th>\n",
       "      <td>Too Late for Tears (1949)</td>\n",
       "      <td>Crime|Drama|Film-Noir|Mystery|Thriller</td>\n",
       "    </tr>\n",
       "    <tr>\n",
       "      <th>459</th>\n",
       "      <td>Getaway, The (1994)</td>\n",
       "      <td>Action|Adventure|Crime|Drama|Romance|Thriller</td>\n",
       "    </tr>\n",
       "    <tr>\n",
       "      <th>26887</th>\n",
       "      <td>Langoliers, The (1995)</td>\n",
       "      <td>Drama|Fantasy|Horror|Mystery|Sci-Fi|Thriller</td>\n",
       "    </tr>\n",
       "  </tbody>\n",
       "</table>\n",
       "</div>"
      ],
      "text/plain": [
       "                                                                  title  \\\n",
       "movieId                                                                   \n",
       "81132                                                     Rubber (2010)   \n",
       "26701    Patlabor: The Movie (Kidô keisatsu patorebâ: The Movie) (1989)   \n",
       "43932                                                      Pulse (2006)   \n",
       "79132                                                  Inception (2010)   \n",
       "198                                                 Strange Days (1995)   \n",
       "71999                         Aelita: The Queen of Mars (Aelita) (1924)   \n",
       "6902                                               Interstate 60 (2002)   \n",
       "130482                                        Too Late for Tears (1949)   \n",
       "459                                                 Getaway, The (1994)   \n",
       "26887                                            Langoliers, The (1995)   \n",
       "\n",
       "                                                                                genres  \n",
       "movieId                                                                                 \n",
       "81132    Action|Adventure|Comedy|Crime|Drama|Film-Noir|Horror|Mystery|Thriller|Western  \n",
       "26701                   Action|Animation|Crime|Drama|Film-Noir|Mystery|Sci-Fi|Thriller  \n",
       "43932                              Action|Drama|Fantasy|Horror|Mystery|Sci-Fi|Thriller  \n",
       "79132                                  Action|Crime|Drama|Mystery|Sci-Fi|Thriller|IMAX  \n",
       "198                                         Action|Crime|Drama|Mystery|Sci-Fi|Thriller  \n",
       "71999                           Action|Adventure|Drama|Fantasy|Romance|Sci-Fi|Thriller  \n",
       "6902                            Adventure|Comedy|Drama|Fantasy|Mystery|Sci-Fi|Thriller  \n",
       "130482                                          Crime|Drama|Film-Noir|Mystery|Thriller  \n",
       "459                                      Action|Adventure|Crime|Drama|Romance|Thriller  \n",
       "26887                                     Drama|Fantasy|Horror|Mystery|Sci-Fi|Thriller  "
      ]
     },
     "metadata": {},
     "output_type": "display_data"
    },
    {
     "name": "stdout",
     "output_type": "stream",
     "text": [
      "\n",
      "\n",
      "\n",
      "The top 10 recommended movies for User 49 are the following:\n"
     ]
    },
    {
     "data": {
      "text/html": [
       "<div>\n",
       "<style scoped>\n",
       "    .dataframe tbody tr th:only-of-type {\n",
       "        vertical-align: middle;\n",
       "    }\n",
       "\n",
       "    .dataframe tbody tr th {\n",
       "        vertical-align: top;\n",
       "    }\n",
       "\n",
       "    .dataframe thead th {\n",
       "        text-align: right;\n",
       "    }\n",
       "</style>\n",
       "<table border=\"1\" class=\"dataframe\">\n",
       "  <thead>\n",
       "    <tr style=\"text-align: right;\">\n",
       "      <th></th>\n",
       "      <th>title</th>\n",
       "      <th>genres</th>\n",
       "    </tr>\n",
       "    <tr>\n",
       "      <th>movieId</th>\n",
       "      <th></th>\n",
       "      <th></th>\n",
       "    </tr>\n",
       "  </thead>\n",
       "  <tbody>\n",
       "    <tr>\n",
       "      <th>198</th>\n",
       "      <td>Strange Days (1995)</td>\n",
       "      <td>Action|Crime|Drama|Mystery|Sci-Fi|Thriller</td>\n",
       "    </tr>\n",
       "    <tr>\n",
       "      <th>292</th>\n",
       "      <td>Outbreak (1995)</td>\n",
       "      <td>Action|Drama|Sci-Fi|Thriller</td>\n",
       "    </tr>\n",
       "    <tr>\n",
       "      <th>504</th>\n",
       "      <td>No Escape (1994)</td>\n",
       "      <td>Action|Drama|Sci-Fi</td>\n",
       "    </tr>\n",
       "    <tr>\n",
       "      <th>519</th>\n",
       "      <td>RoboCop 3 (1993)</td>\n",
       "      <td>Action|Crime|Drama|Sci-Fi|Thriller</td>\n",
       "    </tr>\n",
       "    <tr>\n",
       "      <th>1726</th>\n",
       "      <td>Postman, The (1997)</td>\n",
       "      <td>Action|Adventure|Drama|Sci-Fi</td>\n",
       "    </tr>\n",
       "    <tr>\n",
       "      <th>2393</th>\n",
       "      <td>Star Trek: Insurrection (1998)</td>\n",
       "      <td>Action|Drama|Romance|Sci-Fi</td>\n",
       "    </tr>\n",
       "    <tr>\n",
       "      <th>2529</th>\n",
       "      <td>Planet of the Apes (1968)</td>\n",
       "      <td>Action|Drama|Sci-Fi</td>\n",
       "    </tr>\n",
       "    <tr>\n",
       "      <th>2662</th>\n",
       "      <td>War of the Worlds, The (1953)</td>\n",
       "      <td>Action|Drama|Sci-Fi</td>\n",
       "    </tr>\n",
       "    <tr>\n",
       "      <th>2985</th>\n",
       "      <td>RoboCop (1987)</td>\n",
       "      <td>Action|Crime|Drama|Sci-Fi|Thriller</td>\n",
       "    </tr>\n",
       "    <tr>\n",
       "      <th>3032</th>\n",
       "      <td>Omega Man, The (1971)</td>\n",
       "      <td>Action|Drama|Sci-Fi|Thriller</td>\n",
       "    </tr>\n",
       "  </tbody>\n",
       "</table>\n",
       "</div>"
      ],
      "text/plain": [
       "                                  title  \\\n",
       "movieId                                   \n",
       "198                 Strange Days (1995)   \n",
       "292                     Outbreak (1995)   \n",
       "504                    No Escape (1994)   \n",
       "519                    RoboCop 3 (1993)   \n",
       "1726                Postman, The (1997)   \n",
       "2393     Star Trek: Insurrection (1998)   \n",
       "2529          Planet of the Apes (1968)   \n",
       "2662      War of the Worlds, The (1953)   \n",
       "2985                     RoboCop (1987)   \n",
       "3032              Omega Man, The (1971)   \n",
       "\n",
       "                                             genres  \n",
       "movieId                                              \n",
       "198      Action|Crime|Drama|Mystery|Sci-Fi|Thriller  \n",
       "292                    Action|Drama|Sci-Fi|Thriller  \n",
       "504                             Action|Drama|Sci-Fi  \n",
       "519              Action|Crime|Drama|Sci-Fi|Thriller  \n",
       "1726                  Action|Adventure|Drama|Sci-Fi  \n",
       "2393                    Action|Drama|Romance|Sci-Fi  \n",
       "2529                            Action|Drama|Sci-Fi  \n",
       "2662                            Action|Drama|Sci-Fi  \n",
       "2985             Action|Crime|Drama|Sci-Fi|Thriller  \n",
       "3032                   Action|Drama|Sci-Fi|Thriller  "
      ]
     },
     "metadata": {},
     "output_type": "display_data"
    },
    {
     "name": "stdout",
     "output_type": "stream",
     "text": [
      "\n",
      "\n",
      "\n"
     ]
    }
   ],
   "source": [
    "for idx in range(3):\n",
    "    print(f\"The top 10 recommended movies for User {users[idx]} \"\n",
    "          f\"are the following:\")\n",
    "    display(df_title.loc[rules_recos[idx]])\n",
    "    print(\"\\n\\n\")"
   ]
  },
  {
   "cell_type": "code",
   "execution_count": 93,
   "id": "d93b01d6",
   "metadata": {
    "ExecuteTime": {
     "end_time": "2023-03-12T11:37:56.357687Z",
     "start_time": "2023-03-12T11:37:56.343830Z"
    }
   },
   "outputs": [
    {
     "name": "stdout",
     "output_type": "stream",
     "text": [
      "The DCG of Content-based Recommender System is : 12.0465\n",
      "The NDCG of Content-based Recommender System is: 0.9975\n"
     ]
    }
   ],
   "source": [
    "print(f\"The DCG of Content-based Recommender System is : \"\n",
    "      f\"{dcg(df_util_ndcg/1000, rules_recos):.4f}\" )\n",
    "print(f\"The NDCG of Content-based Recommender System is: \"\n",
    "      f\"{ndcg(df_util_ndcg/1000, rules_recos):.4f}\")"
   ]
  },
  {
   "cell_type": "markdown",
   "id": "d09010f4",
   "metadata": {},
   "source": [
    "The latest algorithm we implemented is the Content-Based FIM Rule-Based: `supp=-5`, `minconf=60`. This produced the best results regarding how genres were ranked based on their ratings. The frequent item sets were built based on the genres, and it recommended similar movies based on the genre of the users within the FIM. Using genre as a metric produced the best results out of all the algorithms."
   ]
  },
  {
   "cell_type": "markdown",
   "id": "9e3d4f1b",
   "metadata": {},
   "source": [
    "<h1 style=\"background-color:#B81D24; color:#F5F5F1; padding: 20px;\">Conclusion</h1>"
   ]
  },
  {
   "cell_type": "markdown",
   "id": "75935e5e",
   "metadata": {},
   "source": [
    "<center>Table 02. Summary of DCG and NDCG Results of Different Recommender System Algorithms.</center>\n",
    "<table style=\"width:60%\">\n",
    "    <tr style=\"background-color:#7B7C7C; color:#F5F5F1\">\n",
    "      <th style=\"width:60%; text-align:center\">Recommender Algorithm</th>\n",
    "      <th style=\"width:20%; text-align:center\" >DCG</th>\n",
    "      <th style=\"width:20%; text-align:center\">NDCG</th>\n",
    "    </tr>\n",
    "    <tr>\n",
    "        <td style=\"text-align:left\">User-based Collaborative Filtering</td>\n",
    "        <td style=\"text-align:right\">334.386</td>\n",
    "        <td style=\"text-align:right\">0.995</td>\n",
    "   </tr>\n",
    "   <tr>\n",
    "        <td style=\"text-align:left\">Item-based Collaborative Filtering</td>\n",
    "        <td style=\"text-align:right\">N/A</td>\n",
    "        <td style=\"text-align:right\">N/A</td>\n",
    "   </tr>\n",
    "   <tr>\n",
    "        <td style=\"text-align:left\">ALS Latent Factor-based Collaborative Filtering</td>\n",
    "        <td style=\"text-align:right\">411.979</td>\n",
    "        <td style=\"text-align:right\">0.992</td>\n",
    "   </tr>\n",
    "   <tr>\n",
    "        <td style=\"text-align:left\">CGD Latent Factor-based Collaborative Filtering</td>\n",
    "        <td style=\"text-align:right\">381.378</td>\n",
    "        <td style=\"text-align:right\">1.000</td>\n",
    "   </tr>\n",
    "   <tr>\n",
    "        <td style=\"text-align:left\">Binary Aggregation Content-based</td>\n",
    "        <td style=\"text-align:right\">5.086</td>\n",
    "        <td style=\"text-align:right\">0.560</td>\n",
    "   </tr>\n",
    "   <tr>\n",
    "        <td style=\"text-align:left\">Numeric Aggregation Content-based</td>\n",
    "        <td style=\"text-align:right\">5.028</td>\n",
    "        <td style=\"text-align:right\">0.513</td>\n",
    "   </tr>\n",
    "   <tr>\n",
    "        <td style=\"text-align:left\">Rule-based Approach Content-based</td>\n",
    "        <td style=\"text-align:right\">13.76</td>\n",
    "        <td style=\"text-align:right\">0.997</td>\n",
    "   </tr>\n",
    "  </table>\n",
    "<br>\n",
    "\n",
    "Based on the results summary, we need to note that we needed to scale and recalculate the scores for content-based algorithms as it does not use ratings directly to recommend. For example, in the case of Binary and Numeric, we used cosine distance as the measure and recalculated it across the current ratings. Similarly, for FIM Rule-Based, we needed to recalculate the confidence scores and then take the `DCG` and `NDCG` scores.\n",
    " \n",
    "To summarize the output, we will look into the NDCG, as this is the best interpretation regarding the quality of the results. CF-CGD has the highest score of 1. However, the scores of CF-User based 0.995, CF-ALS 0.992, and CS-FIM 0.9965 have near-perfect ratings for the three users combined, meaning the quality of the recommended movies is on par with the ratings of the completed user ratings. CB-Binary-Numeric can potentially be fixed by having weights on the genre's or looking for another way to build the movie profile. Similar to CF-Item Based, if we have a more powerful machine and improve the code base, we can maybe use the whole dataset, and we think that it should produce high-quality results and have enough data to make the recommendation.\n",
    "\n",
    "Results from both clusters help identify user behavior on how `actively and heavily` they rate their movies. It could also be helpful to get more attributes for the user that tracks their behavior. Our current dataset is only base, and the team agrees that the output from the base algorithms applied suffices the expected outcome, but this can be further improved by having more attributes.\n",
    "\n",
    "Frequent itemset mining answers the question: what movie genre should movie producers make if they want to have a highly-rated movie? The top three genre pairs in terms of `absolute support` are: `Action Adventure`, `Crime Drama`, and `Crime Thriller`. On the other hand, the top three genre pairs (antecedent-consequent) in terms of `highest lift` are `Children Animation`, `Mystery Thriller`, and `War Drama`. Movie producers could target producing these kinds of movies to increase the likelihood that their films will be highly rated.\n",
    " \n",
    "Genre helped us identify the connection between each movie recommended and explain the results. However, notice that multiple genres in each movie affected the result of our binary and numeric content-based recommendations. Thus, we need to improve the genre dataset or how we can build our item profile.\n",
    "\n",
    "There's no best recommender system. We can see in this study a **specific use case applicable to each recommender algorithm**. However, we think improving the Item Profile for content-based can provide the personalized recommendation needed. We can see high scores for `NDCG` almost in all recommender systems. I think it's also because of the data quality, as there is a good amount of rating from the users we have randomly chosen. We also need to note in some instances that having serendipitous recommendations can help as this gives variety to the users, and we will never know if they want to try it until we recommend it to them.\n",
    " \n",
    "From a performance standpoint, the calculations become `more complex and exponentially longer` as the data grows. Organizations must ensure their algorithms are optimized, as computing power is expensive. Time is of the essence, given how fast-paced everything is nowadays. Nobody would wait more than 8 seconds for a result to come out as this is the average attention span of users over the internet, and given how our run times come out on some of the algorithms, this may not pass the criteria.\n",
    " \n",
    "Organizations can take advantage of and value this approach to evaluate their data set on a granular approach and see the quality of the results. This can help them decide which recommender system approach fits their dataset well along with its applicability and improve the algorithm further. We can see this applies not only to Movie datasets but to a similar rating approach like books, articles, and literature and even help decide which movies to produce next, books to publish, or even literature to write."
   ]
  },
  {
   "cell_type": "markdown",
   "id": "180c2814",
   "metadata": {},
   "source": [
    "<h1 style=\"background-color:#B81D24; color:#F5F5F1; padding: 20px;\">Recommendation</h1>"
   ]
  },
  {
   "cell_type": "markdown",
   "id": "7ab2c388",
   "metadata": {},
   "source": [
    "The dataset can be improved by identifying the `primary genre` of each movie, with appropriate tags, and having `additional attributes` for the user.\n",
    " \n",
    "We are interested to see the full recommendation on the Item Based recommendation, and having a more powerful machine that can handle the run time faster is needed.\n",
    " \n",
    "Adding weights on each user based on how active their review is and how valid their review can help in the quality of the recommendations we can provide them. Considering the attributes such as watch hours, active hours, number of movies watched, and movies watched if they finished or not, we can understand their behavior better, which would give us better ways to give the weights.\n",
    " \n",
    "Perform another clustering once the attributes of users have been defined to see any new grouping patterns formed. \n",
    " \n",
    "Attributes can also help with the cold start problem with the user, especially on Collaborative User/Item based\n",
    " \n",
    "`Temporal Analysis` needs to be done to segregate data and recommendations accordingly. For example, we want the latest movies to be recommended along with recent user preferences. \n",
    " \n",
    "Explore `Surprise` library as it provides different recommendations and is much easier to implement given its optimization and multiple library extensions.\n",
    " \n",
    "Look into other scoring/error measures (RMSE, MAE, Precision, Recall, Coverage, Popularity, and Business Metrics) that can help us interpret and explain the quality of our results. Especially once a recommender system is deployed, we can measure our recommendations' click-through rate.\n",
    " \n",
    "Run a cross-validation test to see if the `NDCG-DCG` results would be the same on different samples and a larger pool of users. \n",
    " \n",
    " \n",
    "For FIM, we could also add a `time factor` in the filter. Then, the preference of users could change from time to time. For example, we could decrease the weight brought by items in the past and put more weight on the movies recently released.\n"
   ]
  },
  {
   "cell_type": "markdown",
   "id": "fc5926d5",
   "metadata": {},
   "source": [
    "<h1 style=\"background-color:#B81D24; color:#F5F5F1; padding: 20px;\">References</h1>"
   ]
  },
  {
   "cell_type": "markdown",
   "id": "043198bb",
   "metadata": {},
   "source": [
    "[1] Harper, F.M. and Konstan, J. (2015). *The MovieLens Datasets: History and Context*. ACM Transactions on Interactive Intelligent Systems (TiiS) 5, 4: 19:1–19:19. <https://doi.org/10.1145/2827872>. Retrieved March 11, 2023 from https://grouplens.org/datasets/\n",
    "\n",
    "[2] Qutbuddin, M. (2020, April 20). *An Exhaustive List of Methods to Evaluate Recommender Systems*. Towards Data Science. Retrieved March 12, 2023, from https://towardsdatascience.com/an-exhaustive-list-of-methods-to-evaluate-recommender-systems-a70c05e121de\n",
    "\n",
    "[3] Lendave, V (2021, October 21). *How to Measure the Success of a Recommendation System?* Retrieved March 12, 2023 from https://analyticsindiamag.com/about/\n",
    "\n",
    "[4] Sims, L. (n.d.) *How Long Do You Have to Get a Website Viewer's Attention?* Retrieved March 12, 2023 from https://smallbusiness.chron.com/long-website-viewers-attention-72249.html\n",
    "\n",
    "[5] Chokhra, P. (2021, January 27). *Evaluating Recommender Systems*. Retrieved March 12, 2023 from https://medium.com/nerd-for-tech/evaluating-recommender-systems-590a7b87afa5\n",
    "\n",
    "[6] Jekyll, Hyde, Hug, N. (n.d.). *Surprise Overview*. Retrieved March 12, 2023 from https://surpriselib.com/"
   ]
  }
 ],
 "metadata": {
  "kernelspec": {
   "display_name": "Python 3 (ipykernel)",
   "language": "python",
   "name": "python3"
  },
  "language_info": {
   "codemirror_mode": {
    "name": "ipython",
    "version": 3
   },
   "file_extension": ".py",
   "mimetype": "text/x-python",
   "name": "python",
   "nbconvert_exporter": "python",
   "pygments_lexer": "ipython3",
   "version": "3.9.13"
  },
  "toc": {
   "base_numbering": 1,
   "nav_menu": {},
   "number_sections": true,
   "sideBar": true,
   "skip_h1_title": false,
   "title_cell": "Table of Contents",
   "title_sidebar": "Contents",
   "toc_cell": false,
   "toc_position": {
    "height": "calc(100% - 180px)",
    "left": "10px",
    "top": "150px",
    "width": "233.625px"
   },
   "toc_section_display": true,
   "toc_window_display": true
  }
 },
 "nbformat": 4,
 "nbformat_minor": 5
}
